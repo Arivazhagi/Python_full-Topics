{
 "cells": [
  {
   "cell_type": "code",
   "execution_count": null,
   "id": "0eefb48f",
   "metadata": {},
   "outputs": [],
   "source": [
    "# Dictionary"
   ]
  },
  {
   "cell_type": "code",
   "execution_count": 2,
   "id": "ca2603a9",
   "metadata": {},
   "outputs": [
    {
     "name": "stdout",
     "output_type": "stream",
     "text": [
      "{'a': 2000, 'b': 3000}\n",
      "<class 'dict'>\n"
     ]
    }
   ],
   "source": [
    "var = {'a': 2000, 'b':3000}\n",
    "print(var)\n",
    "print(type(var))"
   ]
  },
  {
   "cell_type": "code",
   "execution_count": 1,
   "id": "aad48581",
   "metadata": {},
   "outputs": [
    {
     "name": "stdout",
     "output_type": "stream",
     "text": [
      "dict_items([('a', 2000), ('b', 3000)])\n"
     ]
    }
   ],
   "source": [
    "# to print the items of a dictionary\n",
    "\n",
    "var = {'a': 2000, 'b':3000}\n",
    "print(var.items())               #it gives each items in separate brackets"
   ]
  },
  {
   "cell_type": "code",
   "execution_count": 2,
   "id": "1c56c193",
   "metadata": {},
   "outputs": [
    {
     "name": "stdout",
     "output_type": "stream",
     "text": [
      "dict_keys(['a', 'b'])\n"
     ]
    }
   ],
   "source": [
    "# to get the keys of a dictionary\n",
    "\n",
    "var = {'a': 2000, 'b':3000}\n",
    "print(var.keys())"
   ]
  },
  {
   "cell_type": "code",
   "execution_count": 3,
   "id": "f2d545c6",
   "metadata": {},
   "outputs": [
    {
     "name": "stdout",
     "output_type": "stream",
     "text": [
      "dict_values([2000, 3000])\n"
     ]
    }
   ],
   "source": [
    "# to get the values of a dictionary\n",
    "\n",
    "var = {'a': 2000, 'b':3000}\n",
    "print(var.values())"
   ]
  },
  {
   "cell_type": "code",
   "execution_count": 5,
   "id": "b918841f",
   "metadata": {
    "scrolled": true
   },
   "outputs": [
    {
     "name": "stdout",
     "output_type": "stream",
     "text": [
      "2\n",
      "7\n",
      "6\n"
     ]
    },
    {
     "ename": "KeyError",
     "evalue": "'d'",
     "output_type": "error",
     "traceback": [
      "\u001b[0;31m---------------------------------------------------------------------------\u001b[0m",
      "\u001b[0;31mKeyError\u001b[0m                                  Traceback (most recent call last)",
      "\u001b[0;32m<ipython-input-5-d974f9eafc99>\u001b[0m in \u001b[0;36m<module>\u001b[0;34m\u001b[0m\n\u001b[1;32m      3\u001b[0m \u001b[0mprint\u001b[0m\u001b[0;34m(\u001b[0m\u001b[0mdic\u001b[0m\u001b[0;34m[\u001b[0m\u001b[0;34m\"b\"\u001b[0m\u001b[0;34m]\u001b[0m\u001b[0;34m)\u001b[0m\u001b[0;34m\u001b[0m\u001b[0;34m\u001b[0m\u001b[0m\n\u001b[1;32m      4\u001b[0m \u001b[0mprint\u001b[0m\u001b[0;34m(\u001b[0m\u001b[0mdic\u001b[0m\u001b[0;34m[\u001b[0m\u001b[0;34m\"c\"\u001b[0m\u001b[0;34m]\u001b[0m\u001b[0;34m)\u001b[0m\u001b[0;34m\u001b[0m\u001b[0;34m\u001b[0m\u001b[0m\n\u001b[0;32m----> 5\u001b[0;31m \u001b[0mprint\u001b[0m\u001b[0;34m(\u001b[0m\u001b[0mdic\u001b[0m\u001b[0;34m[\u001b[0m\u001b[0;34m\"d\"\u001b[0m\u001b[0;34m]\u001b[0m\u001b[0;34m)\u001b[0m\u001b[0;34m\u001b[0m\u001b[0;34m\u001b[0m\u001b[0m\n\u001b[0m",
      "\u001b[0;31mKeyError\u001b[0m: 'd'"
     ]
    }
   ],
   "source": [
    "# to get its value \n",
    "\n",
    "dic = {\"a\":2,\"b\":7,\"c\":6}\n",
    "print(dic[\"a\"])\n",
    "print(dic[\"b\"])\n",
    "print(dic[\"c\"])\n",
    "print(dic[\"d\"])"
   ]
  },
  {
   "cell_type": "code",
   "execution_count": 6,
   "id": "2fca768c",
   "metadata": {},
   "outputs": [
    {
     "name": "stdout",
     "output_type": "stream",
     "text": [
      "2\n",
      "7\n",
      "6\n",
      "None\n"
     ]
    }
   ],
   "source": [
    "# continous of the above   (it handles the error)\n",
    "\n",
    "dic = {\"a\":2,\"b\":7,\"c\":6}\n",
    "print(dic.get(\"a\"))\n",
    "print(dic.get(\"b\"))\n",
    "print(dic.get(\"c\"))\n",
    "print(dic.get(\"d\"))"
   ]
  },
  {
   "cell_type": "code",
   "execution_count": 7,
   "id": "8986bab2",
   "metadata": {},
   "outputs": [
    {
     "name": "stdout",
     "output_type": "stream",
     "text": [
      "{'a': 2, 'b': 5, 'c': 7, 'd': 9}\n"
     ]
    }
   ],
   "source": [
    "# how to update a dictionary\n",
    "\n",
    "dic = {\"a\":2, \"b\":5, \"c\":7}\n",
    "d = {\"d\":9}\n",
    "dic.update(d)\n",
    "print(dic)"
   ]
  },
  {
   "cell_type": "code",
   "execution_count": 4,
   "id": "d0966e12",
   "metadata": {},
   "outputs": [
    {
     "name": "stdout",
     "output_type": "stream",
     "text": [
      "{'a': 89, 'b': 352, 'c': 7}\n"
     ]
    }
   ],
   "source": [
    "# how to update an empty dictionary  (another method)\n",
    "\n",
    "a = {}\n",
    "a['a'] = 89\n",
    "a['b'] = 352\n",
    "a['c'] = 7\n",
    "print(a)"
   ]
  },
  {
   "cell_type": "code",
   "execution_count": 8,
   "id": "2bf80060",
   "metadata": {},
   "outputs": [
    {
     "name": "stdout",
     "output_type": "stream",
     "text": [
      "3\n"
     ]
    }
   ],
   "source": [
    "# to find length\n",
    "\n",
    "dic = {\"a\":2, \"b\":5, \"c\":7}\n",
    "print(len(dic))"
   ]
  },
  {
   "cell_type": "code",
   "execution_count": 9,
   "id": "e232791d",
   "metadata": {},
   "outputs": [
    {
     "name": "stdout",
     "output_type": "stream",
     "text": [
      "{'b': 5, 'c': 7}\n"
     ]
    }
   ],
   "source": [
    "# Poping an element  (similar to del)\n",
    "\n",
    "dic = {\"a\":2, \"b\":5, \"c\":7}\n",
    "dic.pop(\"a\")\n",
    "print(dic)"
   ]
  },
  {
   "cell_type": "code",
   "execution_count": 10,
   "id": "a4198f33",
   "metadata": {
    "scrolled": true
   },
   "outputs": [
    {
     "name": "stdout",
     "output_type": "stream",
     "text": [
      "{'a': 2, 'c': 7}\n"
     ]
    }
   ],
   "source": [
    "# Deleting an element\n",
    "\n",
    "dic = {\"a\":2, \"b\":5, \"c\":7}\n",
    "del dic[\"b\"]\n",
    "print(dic)"
   ]
  },
  {
   "cell_type": "code",
   "execution_count": 11,
   "id": "57cbb419",
   "metadata": {
    "scrolled": true
   },
   "outputs": [
    {
     "ename": "NameError",
     "evalue": "name 'dic' is not defined",
     "output_type": "error",
     "traceback": [
      "\u001b[0;31m---------------------------------------------------------------------------\u001b[0m",
      "\u001b[0;31mNameError\u001b[0m                                 Traceback (most recent call last)",
      "\u001b[0;32m<ipython-input-11-ca0561636844>\u001b[0m in \u001b[0;36m<module>\u001b[0;34m\u001b[0m\n\u001b[1;32m      3\u001b[0m \u001b[0mdic\u001b[0m \u001b[0;34m=\u001b[0m \u001b[0;34m{\u001b[0m\u001b[0;34m\"a\"\u001b[0m\u001b[0;34m:\u001b[0m\u001b[0;36m2\u001b[0m\u001b[0;34m,\u001b[0m \u001b[0;34m\"b\"\u001b[0m\u001b[0;34m:\u001b[0m\u001b[0;36m5\u001b[0m\u001b[0;34m,\u001b[0m \u001b[0;34m\"c\"\u001b[0m\u001b[0;34m:\u001b[0m\u001b[0;36m7\u001b[0m\u001b[0;34m}\u001b[0m\u001b[0;34m\u001b[0m\u001b[0;34m\u001b[0m\u001b[0m\n\u001b[1;32m      4\u001b[0m \u001b[0;32mdel\u001b[0m \u001b[0mdic\u001b[0m\u001b[0;34m\u001b[0m\u001b[0;34m\u001b[0m\u001b[0m\n\u001b[0;32m----> 5\u001b[0;31m \u001b[0mprint\u001b[0m\u001b[0;34m(\u001b[0m\u001b[0mdic\u001b[0m\u001b[0;34m)\u001b[0m\u001b[0;34m\u001b[0m\u001b[0;34m\u001b[0m\u001b[0m\n\u001b[0m",
      "\u001b[0;31mNameError\u001b[0m: name 'dic' is not defined"
     ]
    }
   ],
   "source": [
    "# Deleting full dictionary\n",
    "\n",
    "dic = {\"a\":2, \"b\":5, \"c\":7}\n",
    "del dic\n",
    "print(dic)                    # because all the elements in dic are deleted"
   ]
  },
  {
   "cell_type": "code",
   "execution_count": 5,
   "id": "4d6a1415",
   "metadata": {},
   "outputs": [
    {
     "name": "stdout",
     "output_type": "stream",
     "text": [
      "{'a': 2, 'b': 5, 'c': 7}\n",
      "{'a': 2, 'b': 5, 'c': 7}\n"
     ]
    }
   ],
   "source": [
    "# Copying a dictionary\n",
    "\n",
    "dic = {\"a\":2, \"b\":5, \"c\":7}\n",
    "dic1 = dic.copy()\n",
    "print(dic1)\n",
    "\n",
    "# another method\n",
    "b = dict(dic) \n",
    "print(b)"
   ]
  },
  {
   "cell_type": "code",
   "execution_count": 6,
   "id": "6d1b58e0",
   "metadata": {},
   "outputs": [
    {
     "name": "stdout",
     "output_type": "stream",
     "text": [
      "{}\n"
     ]
    }
   ],
   "source": [
    "# Clearing a dictionary\n",
    "\n",
    "var = {'a': 2000, 'b':3000, 'c':760}\n",
    "var.clear()                                    # this clears all the elements in var\n",
    "print(var)"
   ]
  },
  {
   "cell_type": "code",
   "execution_count": 7,
   "id": "ceaa5c3b",
   "metadata": {},
   "outputs": [
    {
     "name": "stdout",
     "output_type": "stream",
     "text": [
      "{'a': 78, 'b': 55, 'c': 42}\n"
     ]
    }
   ],
   "source": [
    "# Creating a dictionary using dict() function\n",
    "\n",
    "var = dict(a = 78, b = 55, c = 42) \n",
    "print(var)"
   ]
  },
  {
   "cell_type": "code",
   "execution_count": 8,
   "id": "c497b699",
   "metadata": {},
   "outputs": [
    {
     "name": "stdout",
     "output_type": "stream",
     "text": [
      "{'a': 55, 'b': 66, 'c': 78}\n"
     ]
    }
   ],
   "source": [
    "# Zipping of dic (we use list here)\n",
    "\n",
    "key_list = ['a', 'b', 'c']\n",
    "value_list = [55,66,78]\n",
    "mapping = dict(zip(key_list,value_list))\n",
    "print(mapping)"
   ]
  }
 ],
 "metadata": {
  "kernelspec": {
   "display_name": "Python 3",
   "language": "python",
   "name": "python3"
  },
  "language_info": {
   "codemirror_mode": {
    "name": "ipython",
    "version": 3
   },
   "file_extension": ".py",
   "mimetype": "text/x-python",
   "name": "python",
   "nbconvert_exporter": "python",
   "pygments_lexer": "ipython3",
   "version": "3.8.8"
  }
 },
 "nbformat": 4,
 "nbformat_minor": 5
}
