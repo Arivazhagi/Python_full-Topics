{
 "cells": [
  {
   "cell_type": "code",
   "execution_count": null,
   "id": "c1d8cd7b",
   "metadata": {},
   "outputs": [],
   "source": [
    "# Numpy Basics "
   ]
  },
  {
   "cell_type": "code",
   "execution_count": 1,
   "id": "4292669d",
   "metadata": {},
   "outputs": [],
   "source": [
    "import numpy as np"
   ]
  },
  {
   "cell_type": "code",
   "execution_count": 3,
   "id": "e20da2ed",
   "metadata": {},
   "outputs": [
    {
     "name": "stdout",
     "output_type": "stream",
     "text": [
      "Hello\n"
     ]
    }
   ],
   "source": [
    "#  1. Printing Statement \n",
    "\n",
    "print(\"Hello\")"
   ]
  },
  {
   "cell_type": "code",
   "execution_count": 4,
   "id": "85aef189",
   "metadata": {},
   "outputs": [
    {
     "name": "stdout",
     "output_type": "stream",
     "text": [
      "1\n",
      "7.6\n",
      "Hello\n"
     ]
    }
   ],
   "source": [
    "#  2. Printing values in variable \n",
    "\n",
    "a = 1\n",
    "print(a)\n",
    "\n",
    "b = 7.6\n",
    "print(b)\n",
    "\n",
    "c = \"Hello\"\n",
    "print(c)"
   ]
  },
  {
   "cell_type": "code",
   "execution_count": 5,
   "id": "a85be877",
   "metadata": {},
   "outputs": [
    {
     "name": "stdout",
     "output_type": "stream",
     "text": [
      "[1 2 3]\n"
     ]
    }
   ],
   "source": [
    "# one dimension array \n",
    "a = np.array([1,2,3])\n",
    "print(a)"
   ]
  },
  {
   "cell_type": "code",
   "execution_count": 6,
   "id": "ab47f33f",
   "metadata": {},
   "outputs": [
    {
     "name": "stdout",
     "output_type": "stream",
     "text": [
      "[[1 2 3]\n",
      " [4 5 6]]\n"
     ]
    }
   ],
   "source": [
    "# more than one dimension array \n",
    "a = np.array([[1,2,3],[4,5,6]])\n",
    "print(a)"
   ]
  },
  {
   "cell_type": "code",
   "execution_count": 7,
   "id": "342a6ba3",
   "metadata": {},
   "outputs": [
    {
     "name": "stdout",
     "output_type": "stream",
     "text": [
      "[[1 2 3]\n",
      " [4 5 6]\n",
      " [7 8 9]]\n"
     ]
    }
   ],
   "source": [
    "# more than one dimension array \n",
    "a = np.array([[1,2,3],[4,5,6],[7,8,9]])\n",
    "print(a)"
   ]
  },
  {
   "cell_type": "code",
   "execution_count": null,
   "id": "44f96144",
   "metadata": {},
   "outputs": [],
   "source": [
    " 3. Ndarray Object\n",
    "      #  Parameters of ndarray Object\n",
    "      #  numpy.array(object, dtype = None, copy = True, order = None, subok = False, ndmin = 0)"
   ]
  },
  {
   "cell_type": "code",
   "execution_count": 8,
   "id": "94791a47",
   "metadata": {},
   "outputs": [
    {
     "name": "stdout",
     "output_type": "stream",
     "text": [
      "[1 2 3]\n",
      "\n",
      "[1 2 3]\n",
      "\n",
      "[[1 2 3]]\n",
      "\n",
      "[[[[[1 2 3]]]]]\n"
     ]
    }
   ],
   "source": [
    "# minimum dimension - ndmin\n",
    "\n",
    "a = np.array([1,2,3],ndmin = 0)\n",
    "print(a)\n",
    "print()\n",
    "b = np.array([1,2,3],ndmin = 1)\n",
    "print(b)\n",
    "print()\n",
    "c = np.array([1,2,3],ndmin = 2)\n",
    "print(c)\n",
    "print()\n",
    "d = np.array([1,2,3],ndmin = 5)\n",
    "print(d)"
   ]
  },
  {
   "cell_type": "code",
   "execution_count": 9,
   "id": "18cb6a24",
   "metadata": {},
   "outputs": [
    {
     "name": "stdout",
     "output_type": "stream",
     "text": [
      "[1 2 3]\n",
      "\n",
      "[1. 2. 3.]\n",
      "\n",
      "[1.+0.j 2.+0.j 3.+0.j]\n"
     ]
    }
   ],
   "source": [
    "# Datatype Parameter - dtype \n",
    "\n",
    "a = np.array([1,2,3],dtype = int)\n",
    "print(a)\n",
    "print()\n",
    "b = np.array([1,2,3],dtype = float)\n",
    "print(b)\n",
    "print()\n",
    "c = np.array([1,2,3],dtype = complex)\n",
    "print(c)"
   ]
  },
  {
   "cell_type": "code",
   "execution_count": 10,
   "id": "ac53401d",
   "metadata": {},
   "outputs": [
    {
     "name": "stdout",
     "output_type": "stream",
     "text": [
      "int32\n",
      "int64\n",
      "\n",
      "int32\n"
     ]
    }
   ],
   "source": [
    "# 4. Data Type Objects (dtype)\n",
    "\n",
    "a = np.dtype(np.int32)\n",
    "print(a)\n",
    "b = np.dtype(np.int64)\n",
    "print(b)\n",
    "print()\n",
    "c = np.dtype('<i4')\n",
    "print(c)"
   ]
  },
  {
   "cell_type": "code",
   "execution_count": 10,
   "id": "629c69d9",
   "metadata": {},
   "outputs": [
    {
     "name": "stdout",
     "output_type": "stream",
     "text": [
      "[('age', '<i4')]\n"
     ]
    }
   ],
   "source": [
    "# First Create a structured datatype\n",
    "a = np.dtype([('age',np.int32)])\n",
    "print(a)"
   ]
  },
  {
   "cell_type": "code",
   "execution_count": 11,
   "id": "c1c172f5",
   "metadata": {},
   "outputs": [
    {
     "name": "stdout",
     "output_type": "stream",
     "text": [
      "[b'45' b'56' b'22' b'68' b'99']\n"
     ]
    }
   ],
   "source": [
    "# Now apply it to ndarray object \n",
    "\n",
    "a = np.dtype([('age',np.int32)])\n",
    "b = np.array([45,56,22,68,99],dtype = 'a')\n",
    "print(b)"
   ]
  },
  {
   "cell_type": "code",
   "execution_count": 12,
   "id": "027a9431",
   "metadata": {},
   "outputs": [
    {
     "name": "stdout",
     "output_type": "stream",
     "text": [
      "[b'56.86' b'64.923' b'41.9632' b'27.05']\n"
     ]
    }
   ],
   "source": [
    "# One more example - creating a structured object and applying it to ndarray\n",
    "\n",
    "a = np.dtype([('weight',np.float64)])\n",
    "b = np.array([56.86,64.923,41.9632,27.05],dtype = 'a')\n",
    "print(b)"
   ]
  },
  {
   "cell_type": "code",
   "execution_count": 13,
   "id": "316c81e5",
   "metadata": {},
   "outputs": [
    {
     "name": "stdout",
     "output_type": "stream",
     "text": [
      "[b'James' b'marks']\n"
     ]
    }
   ],
   "source": [
    "# One more example using string- creating a structured object and applying it to ndarray\n",
    "\n",
    "a = np.dtype([('name','S20')])\n",
    "b = np.array(['James','marks'],dtype = 'a')\n",
    "print(b)"
   ]
  },
  {
   "cell_type": "code",
   "execution_count": 14,
   "id": "3fd189f3",
   "metadata": {},
   "outputs": [
    {
     "name": "stdout",
     "output_type": "stream",
     "text": [
      "[(b'John', 18,  11234) (b'Krish', 22, 112345) (b'Anu', 45, 112674)]\n"
     ]
    }
   ],
   "source": [
    "# Using multiple fields\n",
    "\n",
    "a = np.dtype([('name','S20'),('age','int32'),('roll_no','int64')])\n",
    "b = np.array([('John','18','11234'),('Krish','22','112345'),('Anu','45','112674')],dtype = a)\n",
    "print(b)"
   ]
  },
  {
   "cell_type": "code",
   "execution_count": null,
   "id": "1e93a5ef",
   "metadata": {},
   "outputs": [],
   "source": [
    "# 5. NumPy - Array Attributes"
   ]
  },
  {
   "cell_type": "code",
   "execution_count": 16,
   "id": "676de38e",
   "metadata": {},
   "outputs": [
    {
     "name": "stdout",
     "output_type": "stream",
     "text": [
      "[1 2 3]\n",
      "\n",
      "[[1 2 3]\n",
      " [4 5 6]]\n"
     ]
    }
   ],
   "source": [
    "# simple array - One Dimensional Array and Two Dimensional Array\n",
    "a = np.array([1,2,3])\n",
    "print(a)\n",
    "print()\n",
    "b = np.array([[1,2,3],[4,5,6]])\n",
    "print(b)"
   ]
  },
  {
   "cell_type": "code",
   "execution_count": 17,
   "id": "6ca18ce7",
   "metadata": {},
   "outputs": [
    {
     "name": "stdout",
     "output_type": "stream",
     "text": [
      "(2, 3)\n"
     ]
    }
   ],
   "source": [
    "# ndarray.shape\n",
    "a = np.array([[1,2,3],[9,8,7]])\n",
    "print(a.shape)"
   ]
  },
  {
   "cell_type": "code",
   "execution_count": 20,
   "id": "5cfa5aec",
   "metadata": {},
   "outputs": [
    {
     "name": "stdout",
     "output_type": "stream",
     "text": [
      "[[1 2]\n",
      " [3 9]\n",
      " [8 7]]\n",
      "\n",
      "[[1]\n",
      " [2]\n",
      " [3]\n",
      " [9]\n",
      " [8]\n",
      " [7]]\n"
     ]
    }
   ],
   "source": [
    "# resizing the ndarray\n",
    "a = np.array([[1,2,3],[9,8,7]])\n",
    "a.shape = (3,2)\n",
    "print(a)\n",
    "print()\n",
    "b = np.array([[1,2,3],[9,8,7]])\n",
    "b.shape = (6,1)\n",
    "print(b)"
   ]
  },
  {
   "cell_type": "code",
   "execution_count": 26,
   "id": "66f46794",
   "metadata": {},
   "outputs": [
    {
     "name": "stdout",
     "output_type": "stream",
     "text": [
      "[[1 2 3]\n",
      " [4 5 6]]\n",
      "\n",
      "[[1 2]\n",
      " [3 4]\n",
      " [5 6]]\n",
      "\n",
      "[[1]\n",
      " [2]\n",
      " [3]\n",
      " [4]\n",
      " [5]\n",
      " [6]]\n"
     ]
    }
   ],
   "source": [
    "# resizing the ndarray using reshape function\n",
    "a = np.array([[1,2,3],[4,5,6]])\n",
    "print(a)\n",
    "print()\n",
    "b = a.reshape(3,2)                       # 2rows 3columns resize to 3rows 2column\n",
    "print(b)\n",
    "print()\n",
    "c = a.reshape(6,1)\n",
    "print(c)                                # 2rows 3 columns resize into 6rows 1column"
   ]
  },
  {
   "cell_type": "code",
   "execution_count": 25,
   "id": "2821861b",
   "metadata": {},
   "outputs": [
    {
     "name": "stdout",
     "output_type": "stream",
     "text": [
      "[[1 2 3 7]\n",
      " [4 5 6 9]]\n",
      "\n",
      "[[[1 2]\n",
      "  [3 7]]\n",
      "\n",
      " [[4 5]\n",
      "  [6 9]]]\n"
     ]
    }
   ],
   "source": [
    "a = np.array([[1,2,3,7],[4,5,6,9]])\n",
    "print(a)\n",
    "print()\n",
    "b = a.reshape(2,2,2)    # separates into 2 matrix (will have 3 [[[]]]  ).  Creating three dimensional array\n",
    "print(b)"
   ]
  },
  {
   "cell_type": "code",
   "execution_count": 27,
   "id": "a0ea6a12",
   "metadata": {},
   "outputs": [
    {
     "name": "stdout",
     "output_type": "stream",
     "text": [
      "[0 1 2 3 4 5 6 7 8 9]\n"
     ]
    }
   ],
   "source": [
    "# One Dimensional Array using .arange\n",
    "\n",
    "a = np.arange(10)\n",
    "a.ndim               # optional\n",
    "print(a)"
   ]
  },
  {
   "cell_type": "code",
   "execution_count": 32,
   "id": "00b2a603",
   "metadata": {},
   "outputs": [
    {
     "name": "stdout",
     "output_type": "stream",
     "text": [
      "[[0 1 2]\n",
      " [3 4 5]\n",
      " [6 7 8]]\n",
      "\n",
      "[[[0 1]\n",
      "  [2 3]]\n",
      "\n",
      " [[4 5]\n",
      "  [6 7]]]\n"
     ]
    }
   ],
   "source": [
    "# Splitting the above program into two dimensional array\n",
    "\n",
    "a = np.arange(9)\n",
    "a.shape=(3,3)\n",
    "print(a)\n",
    "\n",
    "# Splitting the above program into three dimensional array\n",
    "print()\n",
    "b = np.arange(8)\n",
    "b.shape=(2,2,2)\n",
    "print(b)"
   ]
  },
  {
   "cell_type": "code",
   "execution_count": 40,
   "id": "3221ecde",
   "metadata": {},
   "outputs": [
    {
     "name": "stdout",
     "output_type": "stream",
     "text": [
      "4\n",
      "\n",
      "8\n",
      "\n",
      "4\n",
      "\n",
      "4\n",
      "\n",
      "8\n"
     ]
    }
   ],
   "source": [
    "# numpy.itemsize - (returns the length of each element of array in bytes).\n",
    "a = np.array([1,2,3],'int32')\n",
    "print(a.itemsize)\n",
    "print()\n",
    "b = np.array([1,2,3],'int64')\n",
    "print(b.itemsize)\n",
    "print()\n",
    "c = np.array([1,2,3,4,5,6,8],'float32')\n",
    "print(c.itemsize)\n",
    "print()\n",
    "d = np.array([1,2,3],'float32')\n",
    "print(d.itemsize)\n",
    "print()\n",
    "a = np.array([1,2,3], dtype = 'int64')\n",
    "print(a.itemsize)"
   ]
  },
  {
   "cell_type": "code",
   "execution_count": 41,
   "id": "f25ad29c",
   "metadata": {},
   "outputs": [
    {
     "name": "stdout",
     "output_type": "stream",
     "text": [
      "  C_CONTIGUOUS : True\n",
      "  F_CONTIGUOUS : True\n",
      "  OWNDATA : True\n",
      "  WRITEABLE : True\n",
      "  ALIGNED : True\n",
      "  WRITEBACKIFCOPY : False\n",
      "  UPDATEIFCOPY : False\n",
      "\n"
     ]
    }
   ],
   "source": [
    "# numpy.flags\n",
    "# current values of all attributes in the object are returned\n",
    "a = np.array([1,2,3,4])\n",
    "print(a.flags)"
   ]
  },
  {
   "cell_type": "code",
   "execution_count": 44,
   "id": "92d1a9a3",
   "metadata": {},
   "outputs": [
    {
     "name": "stdout",
     "output_type": "stream",
     "text": [
      "[[4.9e-324 9.9e-324 1.5e-323]\n",
      " [2.0e-323 2.5e-323 3.0e-323]]\n",
      "\n",
      "[[0 1 2]\n",
      " [3 4 5]\n",
      " [6 7 8]]\n"
     ]
    }
   ],
   "source": [
    "# numpy.empty - (creates an uninitialized array of specified shape and dtype)\n",
    "\n",
    "a = np.empty([2,3])\n",
    "print(a)                  #values are randomly assigned with default datatype is float\n",
    "print()\n",
    "b = np.empty([3,3],dtype = 'int')\n",
    "print(b)"
   ]
  },
  {
   "cell_type": "code",
   "execution_count": 48,
   "id": "60b6d923",
   "metadata": {},
   "outputs": [
    {
     "name": "stdout",
     "output_type": "stream",
     "text": [
      "[[0. 0. 0.]\n",
      " [0. 0. 0.]\n",
      " [0. 0. 0.]]\n",
      "\n",
      "[[1. 1.]\n",
      " [1. 1.]]\n",
      "\n",
      "[[1 1 1]\n",
      " [1 1 1]]\n"
     ]
    }
   ],
   "source": [
    "# numpy.zeros  -  Returns a new array of specified size, filled with zeros\n",
    "a = np.zeros([3,3])\n",
    "print(a)\n",
    "\n",
    "# numpy.ones  -  Returns a new array of specified size, filled with ones\n",
    "print()\n",
    "b = np.ones([2,2])\n",
    "print(b)\n",
    "print()\n",
    "c = np.ones([2,3],dtype='int')\n",
    "print(c)"
   ]
  },
  {
   "cell_type": "code",
   "execution_count": 51,
   "id": "4fb33b0d",
   "metadata": {},
   "outputs": [
    {
     "name": "stdout",
     "output_type": "stream",
     "text": [
      "[1 2 3 4 5]\n",
      "\n",
      "['a' 'b' 'c']\n",
      "\n",
      "[1. 2. 3. 4. 5.]\n"
     ]
    }
   ],
   "source": [
    "# numpy.asarray - converting list to ndarray\n",
    "\n",
    "a = [1,2,3,4,5]\n",
    "b = np.asarray(a)\n",
    "print(b)\n",
    "print()\n",
    "a1 = ['a','b','c']\n",
    "b1 = np.asarray(a1)\n",
    "print(b1)\n",
    "print()\n",
    "a2 = [1,2,3,4,5]\n",
    "b2 = np.asarray(a2, dtype = 'float')\n",
    "print(b2)"
   ]
  },
  {
   "cell_type": "code",
   "execution_count": 52,
   "id": "027a204c",
   "metadata": {},
   "outputs": [
    {
     "name": "stdout",
     "output_type": "stream",
     "text": [
      "[1 2 3 4 5]\n",
      "\n",
      "['a' 'b' 'c']\n",
      "\n",
      "[[1. 2. 3.]\n",
      " [4. 5. 6.]]\n"
     ]
    }
   ],
   "source": [
    "# numpy.asarray - converting tuple to ndarray\n",
    "\n",
    "a = (1,2,3,4,5)\n",
    "b = np.asarray(a)\n",
    "print(b)\n",
    "print()\n",
    "a1 = ('a','b','c')\n",
    "b1 = np.asarray(a1)\n",
    "print(b1)\n",
    "print()\n",
    "a2 = (1,2,3),(4,5,6)\n",
    "b2 = np.asarray(a2, dtype = 'float')\n",
    "print(b2)"
   ]
  },
  {
   "cell_type": "code",
   "execution_count": 53,
   "id": "631809f5",
   "metadata": {},
   "outputs": [
    {
     "name": "stdout",
     "output_type": "stream",
     "text": [
      "[0 1 2 3 4 5 6 7 8 9]\n",
      "\n",
      "[0. 1. 2. 3. 4. 5. 6. 7. 8. 9.]\n"
     ]
    }
   ],
   "source": [
    "# NumPy - Array From Numerical Ranges \n",
    "\n",
    "x = np.arange(10)\n",
    "print(x)\n",
    "print()\n",
    "y = np.arange(10, dtype = 'float')\n",
    "print(y)"
   ]
  },
  {
   "cell_type": "code",
   "execution_count": 55,
   "id": "5184fd9e",
   "metadata": {},
   "outputs": [
    {
     "name": "stdout",
     "output_type": "stream",
     "text": [
      "[ 2  3  4  5  6  7  8  9 10 11 12]\n",
      "\n",
      "[ 2  4  6  8 10 12]\n"
     ]
    }
   ],
   "source": [
    "# With start and stop parameters\n",
    "\n",
    "a = np.arange(2,13)\n",
    "print(a)\n",
    "\n",
    "# With start and stop parameters along with increment\n",
    "print()\n",
    "b = np.arange(2,13,2)\n",
    "print(b)"
   ]
  },
  {
   "cell_type": "code",
   "execution_count": 11,
   "id": "fb701aa9",
   "metadata": {},
   "outputs": [
    {
     "name": "stdout",
     "output_type": "stream",
     "text": [
      "[ 0.  5. 10. 15. 20.]\n"
     ]
    }
   ],
   "source": [
    "# numpy.linspace (instead of increment we use linespace)\n",
    "\n",
    "x=np.linspace(0,20,5)\n",
    "print (x)"
   ]
  },
  {
   "cell_type": "code",
   "execution_count": 14,
   "id": "12fc17fb",
   "metadata": {},
   "outputs": [
    {
     "name": "stdout",
     "output_type": "stream",
     "text": [
      "[ 0.  4.  8. 12. 16.]\n"
     ]
    }
   ],
   "source": [
    "# endpoint set to false will not follow the increment step\n",
    "\n",
    "x=np.linspace(0,20,5, endpoint = False)\n",
    "print (x)"
   ]
  },
  {
   "cell_type": "code",
   "execution_count": 15,
   "id": "45bb9e71",
   "metadata": {},
   "outputs": [
    {
     "name": "stdout",
     "output_type": "stream",
     "text": [
      "(array([ 0.,  5., 10., 15., 20.]), 5.0)\n"
     ]
    }
   ],
   "source": [
    "# Finding steps b/w the consecutive numbers using retstep\n",
    "\n",
    "x=np.linspace(0,20,5, retstep=True)\n",
    "print (x)"
   ]
  },
  {
   "cell_type": "code",
   "execution_count": 16,
   "id": "f9e2f557",
   "metadata": {},
   "outputs": [
    {
     "name": "stdout",
     "output_type": "stream",
     "text": [
      "[   2.    4.    8.   16.   32.   64.  128.  256.  512. 1024.]\n"
     ]
    }
   ],
   "source": [
    "# numpy.logspace\n",
    "\n",
    "a = np.logspace(1,10,num=10,base = 2)   # 10 base 2 = 2 , so o/p (1*2^1 , 1*2^2 , 1*2^3, 1*2^4,....)\n",
    "print(a)"
   ]
  },
  {
   "cell_type": "code",
   "execution_count": 17,
   "id": "a19f4491",
   "metadata": {},
   "outputs": [
    {
     "name": "stdout",
     "output_type": "stream",
     "text": [
      "[1.e+01 1.e+02 1.e+03 1.e+04 1.e+05 1.e+06 1.e+07 1.e+08 1.e+09 1.e+10]\n"
     ]
    }
   ],
   "source": [
    "a = np.logspace(1,10,num=10)     # here base is considered as 10 by default\n",
    "print(a)"
   ]
  },
  {
   "cell_type": "code",
   "execution_count": 19,
   "id": "504ec76d",
   "metadata": {},
   "outputs": [
    {
     "name": "stdout",
     "output_type": "stream",
     "text": [
      "[2 3 4 5 6 7]\n",
      "\n",
      "[2 3 4 5 6 7]\n"
     ]
    }
   ],
   "source": [
    "# Numpy Indexing and Slicing \n",
    "# Slice Function\n",
    "\n",
    "a=np.arange(10)\n",
    "b=slice(2,8)\n",
    "print(a[b])\n",
    "\n",
    "\n",
    "# another methodd\n",
    "print()\n",
    "c=np.arange(10)\n",
    "d=a[2:8]\n",
    "print(d)"
   ]
  },
  {
   "cell_type": "code",
   "execution_count": 20,
   "id": "31b318d5",
   "metadata": {
    "scrolled": true
   },
   "outputs": [
    {
     "name": "stdout",
     "output_type": "stream",
     "text": [
      "[2 4 6]\n",
      "\n",
      "[2 4 6]\n"
     ]
    }
   ],
   "source": [
    "# using step\n",
    "\n",
    "a=np.arange(10)\n",
    "b=slice(2,8,2)\n",
    "print(a[b])\n",
    "\n",
    "# another method\n",
    "print()\n",
    "a1=np.arange(10)\n",
    "b1=a1[2:8:2]\n",
    "print(b1)"
   ]
  },
  {
   "cell_type": "code",
   "execution_count": 21,
   "id": "ce394582",
   "metadata": {},
   "outputs": [
    {
     "name": "stdout",
     "output_type": "stream",
     "text": [
      "[[1 2 3]\n",
      " [3 4 5]\n",
      " [4 5 6]]\n",
      "\n",
      "[[3 4 5]\n",
      " [4 5 6]]\n",
      "\n",
      "[[4 5 6]]\n",
      "\n",
      "[[3 4 5]]\n",
      "\n",
      "[[4]]\n",
      "\n"
     ]
    }
   ],
   "source": [
    "# Slicing the arrays\n",
    "\n",
    "a = np.array([[1,2,3],[3,4,5],[4,5,6]]) \n",
    "print (a)\n",
    "print()\n",
    "print (a[1:])\n",
    "print()\n",
    "print (a[2:])\n",
    "print()\n",
    "print (a[1:2])\n",
    "print()\n",
    "print (a[1:2,1:2])"
   ]
  },
  {
   "cell_type": "code",
   "execution_count": 22,
   "id": "3246a9d3",
   "metadata": {},
   "outputs": [
    {
     "name": "stdout",
     "output_type": "stream",
     "text": [
      "[3 4 5]\n"
     ]
    }
   ],
   "source": [
    "# Printing nth row using ellipsis (...)\n",
    "\n",
    "a = np.array([[1,2,3],[3,4,5],[4,5,6]]) \n",
    "print (a[1,...])                                 # it prints the 1st row"
   ]
  },
  {
   "cell_type": "code",
   "execution_count": 23,
   "id": "639760e5",
   "metadata": {},
   "outputs": [
    {
     "name": "stdout",
     "output_type": "stream",
     "text": [
      "[2 4 5]\n"
     ]
    }
   ],
   "source": [
    "# Printing nth column using ellipsis (...)\n",
    "\n",
    "a = np.array([[1,2,3],[3,4,5],[4,5,6]]) \n",
    "print (a[...,1])                                # it prints the 1st column"
   ]
  },
  {
   "cell_type": "code",
   "execution_count": 25,
   "id": "79148af8",
   "metadata": {},
   "outputs": [
    {
     "name": "stdout",
     "output_type": "stream",
     "text": [
      "[[3 4 5]\n",
      " [4 5 6]]\n"
     ]
    }
   ],
   "source": [
    "# Printing from nth row using ellipsis (...)\n",
    "\n",
    "a = np.array([[1,2,3],[3,4,5],[4,5,6]]) \n",
    "print (a[1:,...])                              # it removes the 1st row"
   ]
  },
  {
   "cell_type": "code",
   "execution_count": 24,
   "id": "7c625eb1",
   "metadata": {},
   "outputs": [
    {
     "name": "stdout",
     "output_type": "stream",
     "text": [
      "[[2 3]\n",
      " [4 5]\n",
      " [5 6]]\n"
     ]
    }
   ],
   "source": [
    "# Printing from nth column using ellipsis (...)\n",
    "\n",
    "a = np.array([[1,2,3],[3,4,5],[4,5,6]]) \n",
    "print (a[...,1:])                              # it removes the 1st column"
   ]
  },
  {
   "cell_type": "code",
   "execution_count": 27,
   "id": "8b485550",
   "metadata": {},
   "outputs": [
    {
     "name": "stdout",
     "output_type": "stream",
     "text": [
      "[[1 2 3]\n",
      " [4 5 6]\n",
      " [7 8 9]]\n",
      "\n",
      "[1 5 7]\n"
     ]
    }
   ],
   "source": [
    "# Advanced Numpy Indexing\n",
    "\n",
    "x = np.array([[1,2,3],[4,5,6],[7,8,9]])   \n",
    "print (x)\n",
    "print()\n",
    "y = x[[0,1,2], [0,1,0]]   \n",
    "print (y)                         # it prints the values of those index ((0,0) = 1, (1,1) = 5, (2,0) = 7)"
   ]
  },
  {
   "cell_type": "code",
   "execution_count": 28,
   "id": "faa09db1",
   "metadata": {},
   "outputs": [
    {
     "name": "stdout",
     "output_type": "stream",
     "text": [
      "[[0 0]\n",
      " [2 2]]\n"
     ]
    }
   ],
   "source": [
    "x = np.array([[1,2,3],[4,5,6],[7,8,9]]) \n",
    "\n",
    "rows = np.array([[0,0],[2,2]])           # it prints a matrix (0 0)   (0,1)  for row and column\n",
    "cols = np.array([[0,1],[0,1]])           #                    (2,2)   (0,1)\n",
    "\n",
    "y = x[rows,cols] \n",
    "print (y)                                # (0,0)=1, (0,1)=2, (2,0)=7, (2,1)=8"
   ]
  },
  {
   "cell_type": "code",
   "execution_count": 34,
   "id": "4e5df3c7",
   "metadata": {},
   "outputs": [
    {
     "name": "stdout",
     "output_type": "stream",
     "text": [
      "[[ 2  3  4]\n",
      " [ 5  6  7]\n",
      " [ 8  9 10]]\n"
     ]
    }
   ],
   "source": [
    "x=np.array([[1,2,3,4,5],[4,5,6,7,8],[7,8,9,10,11],[10,11,12,13,14]])\n",
    "y=x[:3,1:4]\n",
    "print(y)"
   ]
  },
  {
   "cell_type": "code",
   "execution_count": null,
   "id": "71d0c23e",
   "metadata": {},
   "outputs": [],
   "source": [
    "# Slicing using advanced index column\n",
    "\n",
    "x=np.array([[1,2,3,4,5],[4,5,6,7,8],[7,8,9,10,11],[10,11,12,13,14]])\n",
    "\n",
    "y=x[0:3,[2,3]]                  # [2,3] indicates the index value in array\n",
    "print(y)"
   ]
  },
  {
   "cell_type": "code",
   "execution_count": 35,
   "id": "77659fdb",
   "metadata": {},
   "outputs": [
    {
     "name": "stdout",
     "output_type": "stream",
     "text": [
      "[array([[False, False, False, False, False],\n",
      "       [False, False, False,  True,  True],\n",
      "       [ True,  True,  True,  True,  True],\n",
      "       [ True,  True,  True,  True,  True]])]\n"
     ]
    }
   ],
   "source": [
    "# Boolean Indexing\n",
    "\n",
    "x=np.array([[1,2,3,4,5],[4,5,6,7,8],[7,8,9,10,11],[10,11,12,13,14]])\n",
    "y=[x>6]\n",
    "print(y)"
   ]
  },
  {
   "cell_type": "code",
   "execution_count": 36,
   "id": "ec8ae9e3",
   "metadata": {},
   "outputs": [
    {
     "name": "stdout",
     "output_type": "stream",
     "text": [
      "[ 7  8  7  8  9 10 11 10 11 12 13 14]\n"
     ]
    }
   ],
   "source": [
    "x=np.array([[1,2,3,4,5],[4,5,6,7,8],[7,8,9,10,11],[10,11,12,13,14]])\n",
    "print(x[x>6])     # it prints those values alone"
   ]
  },
  {
   "cell_type": "code",
   "execution_count": 3,
   "id": "5f9cd867",
   "metadata": {},
   "outputs": [
    {
     "name": "stdout",
     "output_type": "stream",
     "text": [
      "[[nan  2.  3.]\n",
      " [ 3. nan  5.]\n",
      " [ 4.  5.  6.]]\n",
      "\n",
      "[nan nan]\n",
      "\n",
      "[2. 3. 3. 5. 4. 5. 6.]\n"
     ]
    }
   ],
   "source": [
    "# Not a Number NaN\n",
    "\n",
    "a = np.array([[np.nan,2,3],[3,np.nan,5],[4,5,6]]) \n",
    "print(a)\n",
    "\n",
    "print()\n",
    "# Printing NaN from the given array\n",
    "\n",
    "a = np.array([[np.nan,2,3],[3,np.nan,5],[4,5,6]]) \n",
    "print(a[np.isnan(a)])\n",
    "\n",
    "print()\n",
    "# Printing all the items in the array except NaN\n",
    "\n",
    "a = np.array([[np.nan,2,3],[3,np.nan,5],[4,5,6]]) \n",
    "print(a[~np.isnan(a)])"
   ]
  },
  {
   "cell_type": "code",
   "execution_count": 4,
   "id": "1e62ff2e",
   "metadata": {},
   "outputs": [
    {
     "name": "stdout",
     "output_type": "stream",
     "text": [
      "[[5 7 9]]\n"
     ]
    }
   ],
   "source": [
    "#  Broadcasting  \n",
    "\n",
    "# Simple Array addition\n",
    "\n",
    "a=np.array([[1,2,3]])\n",
    "b=np.array([[4,5,6]])\n",
    "c=a+b\n",
    "print(c)"
   ]
  },
  {
   "cell_type": "code",
   "execution_count": 5,
   "id": "023333bd",
   "metadata": {},
   "outputs": [
    {
     "name": "stdout",
     "output_type": "stream",
     "text": [
      "[[ 4 10 18]]\n"
     ]
    }
   ],
   "source": [
    "# Simple Array Multiplication\n",
    "\n",
    "a=np.array([[1,2,3]])\n",
    "b=np.array([[4,5,6]])\n",
    "c=a*b\n",
    "print(c)"
   ]
  },
  {
   "cell_type": "code",
   "execution_count": 6,
   "id": "44bcc49c",
   "metadata": {},
   "outputs": [
    {
     "name": "stdout",
     "output_type": "stream",
     "text": [
      "[[ 3  5  7]\n",
      " [ 6  8 10]]\n"
     ]
    }
   ],
   "source": [
    "# Two dimensional array - Addition\n",
    "\n",
    "a=np.array([[1,2,3],[4,5,6]])\n",
    "b=np.array([[2,3,4]])\n",
    "c=a+b\n",
    "print(c)"
   ]
  },
  {
   "cell_type": "code",
   "execution_count": 9,
   "id": "4506dce1",
   "metadata": {},
   "outputs": [
    {
     "name": "stdout",
     "output_type": "stream",
     "text": [
      "[[ 2  6 12]\n",
      " [ 8 15 24]]\n",
      "\n",
      "[[ 2  8 18]\n",
      " [44 50 30]]\n"
     ]
    }
   ],
   "source": [
    "# Two dimensional array - Multiplication\n",
    "\n",
    "a=np.array([[1,2,3],[4,5,6]])\n",
    "b=np.array([[2,3,4]])\n",
    "c=a*b\n",
    "print(c)\n",
    "\n",
    "print()\n",
    "a1 = np.array([[1,2,3],[4,5,6]])\n",
    "b1 = np.array([[2,4,6],[11,10,5]])\n",
    "c1 = a1*b1\n",
    "print(c1)"
   ]
  },
  {
   "cell_type": "code",
   "execution_count": 10,
   "id": "2ea61bad",
   "metadata": {},
   "outputs": [
    {
     "name": "stdout",
     "output_type": "stream",
     "text": [
      "1\n",
      "2\n",
      "3\n",
      "4\n",
      "5\n",
      "6\n",
      "7\n",
      "8\n",
      "9\n"
     ]
    }
   ],
   "source": [
    "# NumPy - Iterating Over Array \n",
    "\n",
    "# Simple iteration\n",
    "a = np.arange(1,10)\n",
    "for x in a:\n",
    "    print(x)"
   ]
  },
  {
   "cell_type": "code",
   "execution_count": 12,
   "id": "7c01c18e",
   "metadata": {},
   "outputs": [
    {
     "name": "stdout",
     "output_type": "stream",
     "text": [
      "[[1 2 3]\n",
      " [4 5 6]\n",
      " [7 8 9]]\n",
      "\n",
      "1\n",
      "2\n",
      "3\n",
      "4\n",
      "5\n",
      "6\n",
      "7\n",
      "8\n",
      "9\n"
     ]
    }
   ],
   "source": [
    "# array iteration using 2d array\n",
    "\n",
    "a = np.arange(1,10)\n",
    "b = a.reshape(3,3)\n",
    "print(b)\n",
    "print()\n",
    "for x in np.nditer(b):\n",
    "    print(x)"
   ]
  },
  {
   "cell_type": "code",
   "execution_count": 14,
   "id": "779d5c17",
   "metadata": {},
   "outputs": [
    {
     "name": "stdout",
     "output_type": "stream",
     "text": [
      "[[ 1  2  3  4]\n",
      " [ 5  6  7  8]\n",
      " [ 9 10 11 12]]\n",
      "\n",
      "[[ 1  5  9]\n",
      " [ 2  6 10]\n",
      " [ 3  7 11]\n",
      " [ 4  8 12]]\n"
     ]
    }
   ],
   "source": [
    "# Transpose of the simple array\n",
    "\n",
    "a = np.arange(1,13)\n",
    "b = a.reshape(3,4)\n",
    "print(b)\n",
    "print()\n",
    "b1 = b.T\n",
    "print(b1)"
   ]
  },
  {
   "cell_type": "code",
   "execution_count": 15,
   "id": "6e2f6fc6",
   "metadata": {},
   "outputs": [
    {
     "name": "stdout",
     "output_type": "stream",
     "text": [
      "The Original Array: \n",
      "[[ 1  2  3  4]\n",
      " [ 5  6  7  8]\n",
      " [ 9 10 11 12]]\n",
      "\n",
      "The Transposed Array\n",
      "[[ 1  5  9]\n",
      " [ 2  6 10]\n",
      " [ 3  7 11]\n",
      " [ 4  8 12]]\n",
      "\n",
      "1\n",
      "2\n",
      "3\n",
      "4\n",
      "5\n",
      "6\n",
      "7\n",
      "8\n",
      "9\n",
      "10\n",
      "11\n",
      "12\n"
     ]
    }
   ],
   "source": [
    "# Iterationg the transpose of the above array\n",
    "\n",
    "a = np.arange(1,13)\n",
    "b = a.reshape(3,4)\n",
    "print(\"The Original Array: \")\n",
    "print(b)\n",
    "\n",
    "print()\n",
    "print(\"The Transposed Array\")\n",
    "b1 = b.T\n",
    "print(b1)\n",
    "\n",
    "print()\n",
    "for x in np.nditer(b1):\n",
    "    print(x)"
   ]
  },
  {
   "cell_type": "code",
   "execution_count": 21,
   "id": "d2eb6027",
   "metadata": {
    "scrolled": true
   },
   "outputs": [
    {
     "name": "stdout",
     "output_type": "stream",
     "text": [
      "The Original Array\n",
      "[[ 1  2  3  4]\n",
      " [ 5  6  7  8]\n",
      " [ 9 10 11 12]]\n",
      "\n",
      "The Transposed Array\n",
      "[[ 1  5  9]\n",
      " [ 2  6 10]\n",
      " [ 3  7 11]\n",
      " [ 4  8 12]]\n",
      "\n",
      "Copied Array\n",
      "\n",
      "1\n",
      "5\n",
      "9\n",
      "2\n",
      "6\n",
      "10\n",
      "3\n",
      "7\n",
      "11\n",
      "4\n",
      "8\n",
      "12\n"
     ]
    }
   ],
   "source": [
    "# Iteration Order -  C-Style\n",
    "\n",
    "a = np.arange(1,13)\n",
    "b = a.reshape(3,4)\n",
    "print(\"The Original Array\")\n",
    "print(b)\n",
    "print()\n",
    "b1 = b.T\n",
    "print(\"The Transposed Array\")\n",
    "print(b1)\n",
    "print()\n",
    "\n",
    "c = b1.copy(order = 'C')                 # If the same elements are stored using C-style order, \n",
    "print(\"Copied Array\")                    # the iterator chooses the more efficient way of iterating over an array.\n",
    "print()                                       \n",
    "\n",
    "for x in np.nditer(c):\n",
    "    print(x)"
   ]
  },
  {
   "cell_type": "code",
   "execution_count": 22,
   "id": "910214b5",
   "metadata": {},
   "outputs": [
    {
     "name": "stdout",
     "output_type": "stream",
     "text": [
      "Copied Array\n",
      "\n",
      "1\n",
      "2\n",
      "3\n",
      "4\n",
      "5\n",
      "6\n",
      "7\n",
      "8\n",
      "9\n",
      "10\n",
      "11\n",
      "12\n"
     ]
    }
   ],
   "source": [
    "# Iteration Order -  F-Style\n",
    "\n",
    "c = b1.copy(order = 'F')                 # F-style order, is reverse of C style (default/normal method)\n",
    "print(\"Copied Array\")                   \n",
    "print()                                       \n",
    "\n",
    "for x in np.nditer(c):\n",
    "    print(x)"
   ]
  },
  {
   "cell_type": "code",
   "execution_count": 23,
   "id": "ad59443a",
   "metadata": {},
   "outputs": [
    {
     "name": "stdout",
     "output_type": "stream",
     "text": [
      "Original array is:\n",
      "[[ 1  2  3  4]\n",
      " [ 5  6  7  8]\n",
      " [ 9 10 11 12]]\n",
      "Transpose of the above array \n",
      "[[ 1  5  9]\n",
      " [ 2  6 10]\n",
      " [ 3  7 11]\n",
      " [ 4  8 12]]\n",
      "1\n",
      "5\n",
      "9\n",
      "2\n",
      "6\n",
      "10\n",
      "3\n",
      "7\n",
      "11\n",
      "4\n",
      "8\n",
      "12\n"
     ]
    }
   ],
   "source": [
    "# Specific Order\n",
    "\n",
    "# It is possible to force nditer object to use a specific order by explicitly mentioning it.\n",
    "a = np.arange(1,13)\n",
    "a = a.reshape(3,4)\n",
    "print (\"Original array is:\")\n",
    "print(a)\n",
    "print (\"Transpose of the above array \")\n",
    "b=a.T\n",
    "print(b)\n",
    "\n",
    "for x in np.nditer(b, order='C'):\n",
    "    print (x)"
   ]
  },
  {
   "cell_type": "code",
   "execution_count": 24,
   "id": "433f1125",
   "metadata": {},
   "outputs": [
    {
     "name": "stdout",
     "output_type": "stream",
     "text": [
      "Original array is:\n",
      "[[ 1  2  3  4]\n",
      " [ 5  6  7  8]\n",
      " [ 9 10 11 12]]\n",
      "Modified array \n",
      "[[ 2  4  6  8]\n",
      " [10 12 14 16]\n",
      " [18 20 22 24]]\n"
     ]
    }
   ],
   "source": [
    "# Modifying Array Values using op_flags\n",
    "\n",
    "a = np.arange(1,13)\n",
    "a = a.reshape(3,4)\n",
    "print (\"Original array is:\")\n",
    "print(a)\n",
    "print (\"Modified array \")\n",
    "\n",
    "for x in np.nditer(a, op_flags=['readwrite']):\n",
    "    x[...]=x*2\n",
    "print (a)"
   ]
  },
  {
   "cell_type": "code",
   "execution_count": 25,
   "id": "8e78d1cb",
   "metadata": {},
   "outputs": [
    {
     "name": "stdout",
     "output_type": "stream",
     "text": [
      "Original array is:\n",
      "[[ 1.  2.  3.  4.]\n",
      " [ 5.  6.  7.  8.]\n",
      " [ 9. 10. 11. 12.]]\n",
      "Modified array \n",
      "[[0.25 0.5  0.75 1.  ]\n",
      " [1.25 1.5  1.75 2.  ]\n",
      " [2.25 2.5  2.75 3.  ]]\n"
     ]
    }
   ],
   "source": [
    "a = np.arange(1,13, dtype = 'float32')\n",
    "a = a.reshape(3,4)\n",
    "print (\"Original array is:\")\n",
    "print(a)\n",
    "print (\"Modified array \")\n",
    "\n",
    "for x in np.nditer(a, op_flags=['readwrite']):\n",
    "    x[...]=(x*25)/100\n",
    "print (a)"
   ]
  },
  {
   "cell_type": "code",
   "execution_count": 26,
   "id": "57983315",
   "metadata": {},
   "outputs": [
    {
     "name": "stdout",
     "output_type": "stream",
     "text": [
      "Original array is:\n",
      "[[ 1.  2.  3.  4.]\n",
      " [ 5.  6.  7.  8.]\n",
      " [ 9. 10. 11. 12.]]\n",
      "Modified array \n",
      "[1. 5. 9.]\n",
      "[ 2.  6. 10.]\n",
      "[ 3.  7. 11.]\n",
      "[ 4.  8. 12.]\n"
     ]
    }
   ],
   "source": [
    "# nditer - external loop\n",
    "\n",
    "a = np.arange(1,13, dtype=\"float32\")\n",
    "a = a.reshape(3,4)\n",
    "print (\"Original array is:\")\n",
    "print(a)\n",
    "print (\"Modified array \")\n",
    "\n",
    "for x in np.nditer(a, flags=['external_loop'], order='F'):\n",
    "    print (x)\n",
    "    \n",
    "# Note: One-dimensional arrays corresponding to each column is traversed by the iterator."
   ]
  },
  {
   "cell_type": "code",
   "execution_count": 27,
   "id": "c69626d0",
   "metadata": {},
   "outputs": [
    {
     "name": "stdout",
     "output_type": "stream",
     "text": [
      "Array 1\n",
      "[[ 1  2  3  4]\n",
      " [ 5  6  7  8]\n",
      " [ 9 10 11 12]]\n",
      "Array 2 \n",
      "[1, 2, 3, 4]\n",
      "Modified Array \n",
      "1 1\n",
      "2 2\n",
      "3 3\n",
      "4 4\n",
      "5 1\n",
      "6 2\n",
      "7 3\n",
      "8 4\n",
      "9 1\n",
      "10 2\n",
      "11 3\n",
      "12 4\n"
     ]
    }
   ],
   "source": [
    "# Broadcasting Iteration\n",
    "\n",
    "a = np.arange(1,13)\n",
    "a = a.reshape(3,4)\n",
    "print (\"Array 1\")\n",
    "print(a)\n",
    "print (\"Array 2 \")\n",
    "b = [1,2,3,4]\n",
    "print(b)\n",
    "print (\"Modified Array \")\n",
    "for x,y in np.nditer([a,b]):\n",
    "    print (x,y)"
   ]
  },
  {
   "cell_type": "code",
   "execution_count": 28,
   "id": "0e666f67",
   "metadata": {},
   "outputs": [
    {
     "name": "stdout",
     "output_type": "stream",
     "text": [
      "[[1 2]\n",
      " [3 4]\n",
      " [5 6]]\n"
     ]
    }
   ],
   "source": [
    "# ndarray.reshape - Gives a new shape to an array without changing its data\n",
    "\n",
    "a=np.array([[1,2,3],[4,5,6]])    # 2rows 3 columns resize to 3 rows 2 column\n",
    "b=a.reshape(3,2)\n",
    "print(b)"
   ]
  },
  {
   "cell_type": "code",
   "execution_count": 32,
   "id": "c6aa9959",
   "metadata": {},
   "outputs": [
    {
     "name": "stdout",
     "output_type": "stream",
     "text": [
      "303\n"
     ]
    }
   ],
   "source": [
    "# ndarray.flat - This function returns a 1-D iterator over the array\n",
    "\n",
    "a=np.array([[101,202,303],[404,505,606]])   \n",
    "print(a.flat[2])                                      # o/p gives the value of given index 2"
   ]
  },
  {
   "cell_type": "code",
   "execution_count": 35,
   "id": "c88f785a",
   "metadata": {},
   "outputs": [
    {
     "name": "stdout",
     "output_type": "stream",
     "text": [
      "[1 2 3 4 5 6]\n",
      "\n",
      "[1 4 2 5 3 6]\n"
     ]
    }
   ],
   "source": [
    "# ndarray.flatten - it returns a copy of an array collapsed into one dimension. (order of i/p changes in o/p)\n",
    "\n",
    "a=np.array([[1,2,3],[4,5,6]])   \n",
    "print(a.flatten())              # default order is C-syle ordering\n",
    "\n",
    "print()\n",
    "print(a.flatten(order='F'))     # Specifying F-Style order "
   ]
  },
  {
   "cell_type": "code",
   "execution_count": 36,
   "id": "9a5595cd",
   "metadata": {},
   "outputs": [
    {
     "name": "stdout",
     "output_type": "stream",
     "text": [
      "[1 2 3 4 5 6]\n"
     ]
    }
   ],
   "source": [
    "# ndarray.ravel - This function returns a flattened one-dimensional array. The returned array will have the\n",
    "#                 same type as that of the input array. The function takes one parameter.\n",
    "\n",
    "a=np.array([[1,2,3],[4,5,6]])   \n",
    "\n",
    "print(a.ravel())"
   ]
  },
  {
   "cell_type": "code",
   "execution_count": 37,
   "id": "148ea359",
   "metadata": {},
   "outputs": [
    {
     "name": "stdout",
     "output_type": "stream",
     "text": [
      "[[ 1  2  3]\n",
      " [ 4  5  6]\n",
      " [ 7  8  9]\n",
      " [10 11 12]]\n",
      "[[ 1  4  7 10]\n",
      " [ 2  5  8 11]\n",
      " [ 3  6  9 12]]\n"
     ]
    }
   ],
   "source": [
    "# numpy.transpose - This function permutes the dimension of the given array.\n",
    "\n",
    "a=np.array([[1,2,3],[4,5,6],[7,8,9],[10,11,12]])\n",
    "print (a)\n",
    "\n",
    "b=np.transpose(a)\n",
    "print (b)"
   ]
  },
  {
   "cell_type": "code",
   "execution_count": 38,
   "id": "42bc178c",
   "metadata": {},
   "outputs": [
    {
     "name": "stdout",
     "output_type": "stream",
     "text": [
      "[[ 1  2  3]\n",
      " [ 4  5  6]\n",
      " [ 7  8  9]\n",
      " [10 11 12]]\n",
      "[[ 1  4  7 10]\n",
      " [ 2  5  8 11]\n",
      " [ 3  6  9 12]]\n"
     ]
    }
   ],
   "source": [
    "# numpy.ndarray.T - similar to the numpy.transpose\n",
    "\n",
    "a=np.array([[1,2,3],[4,5,6],[7,8,9],[10,11,12]])\n",
    "print (a)\n",
    "\n",
    "b=a.T\n",
    "print (b)"
   ]
  },
  {
   "cell_type": "code",
   "execution_count": 43,
   "id": "c86ef7ca",
   "metadata": {},
   "outputs": [
    {
     "name": "stdout",
     "output_type": "stream",
     "text": [
      "[[[0 1]\n",
      "  [2 3]]\n",
      "\n",
      " [[4 5]\n",
      "  [6 7]]]\n",
      "\n",
      "[[[0 2]\n",
      "  [4 6]]\n",
      "\n",
      " [[1 3]\n",
      "  [5 7]]]\n"
     ]
    }
   ],
   "source": [
    "# numpy.rollaxis - This function rolls the specified axis backwards, until it lies in a specified position.\n",
    "\n",
    "a = np.arange(8).reshape(2,2,2) \n",
    "print (a)\n",
    "print(\"\")\n",
    "print (np.rollaxis(a,2))  "
   ]
  },
  {
   "cell_type": "code",
   "execution_count": 44,
   "id": "bf254ab6",
   "metadata": {},
   "outputs": [
    {
     "name": "stdout",
     "output_type": "stream",
     "text": [
      "[[[0 1]\n",
      "  [2 3]]\n",
      "\n",
      " [[4 5]\n",
      "  [6 7]]]\n",
      "\n",
      "[[[0 4]\n",
      "  [2 6]]\n",
      "\n",
      " [[1 5]\n",
      "  [3 7]]]\n"
     ]
    }
   ],
   "source": [
    "# numpy.swapaxes - This function interchanges the two axes of an array. \n",
    "\n",
    "a = np.arange(8).reshape(2,2,2) \n",
    "print (a)\n",
    "print(\"\")\n",
    "# now swap numbers between axis 0 (along depth) and axis 2 (along width)\n",
    "print (np.swapaxes(a,2,0))  "
   ]
  },
  {
   "cell_type": "code",
   "execution_count": 45,
   "id": "e579cef8",
   "metadata": {},
   "outputs": [
    {
     "name": "stdout",
     "output_type": "stream",
     "text": [
      "[[[0 1]\n",
      "  [2 3]]\n",
      "\n",
      " [[4 5]\n",
      "  [6 7]]]\n",
      "\n",
      "[[[0 1]\n",
      "  [4 5]]\n",
      "\n",
      " [[2 3]\n",
      "  [6 7]]]\n"
     ]
    }
   ],
   "source": [
    "# numpy.swapaxes - This function interchanges the two axes of an array. \n",
    "\n",
    "a = np.arange(8).reshape(2,2,2) \n",
    "print (a)\n",
    "print(\"\")\n",
    "# now swap numbers between axis 1 (along depth) and axis 0 (along width)\n",
    "print (np.swapaxes(a,0,1))  "
   ]
  },
  {
   "cell_type": "code",
   "execution_count": 5,
   "id": "e55d3df8",
   "metadata": {},
   "outputs": [
    {
     "name": "stdout",
     "output_type": "stream",
     "text": [
      "Array a\n",
      "[[ 0  1  2]\n",
      " [ 3  4  5]\n",
      " [ 6  7  8]\n",
      " [ 9 10 11]]\n",
      "\n",
      "Array b\n",
      "[[[ 0  1  2]]\n",
      "\n",
      " [[ 3  4  5]]\n",
      "\n",
      " [[ 6  7  8]]\n",
      "\n",
      " [[ 9 10 11]]]\n",
      "(4, 3)\n",
      "(4, 1, 3)\n"
     ]
    }
   ],
   "source": [
    "# numpy.expand_dims - This function expands the array by inserting a new axis at the specified position.\n",
    "# Example - Three Dimensional array\n",
    "\n",
    "a = np.arange(12).reshape(4,3) \n",
    "print(\"Array a\")\n",
    "print (a)\n",
    "print(\"\")\n",
    "\n",
    "b=np.expand_dims(a, axis=1)          # Try changing the axis to  axis=1, axis=3 etc to see difference\n",
    "print(\"Array b\")\n",
    "print(b)\n",
    "print (a.shape)\n",
    "print (b.shape)"
   ]
  },
  {
   "cell_type": "code",
   "execution_count": 8,
   "id": "8b505042",
   "metadata": {},
   "outputs": [
    {
     "name": "stdout",
     "output_type": "stream",
     "text": [
      "Array a\n",
      "[[[ 0  1]\n",
      "  [ 2  3]]\n",
      "\n",
      " [[ 4  5]\n",
      "  [ 6  7]]\n",
      "\n",
      " [[ 8  9]\n",
      "  [10 11]]]\n",
      "\n",
      "Array b\n",
      "[[[[ 0  1]]\n",
      "\n",
      "  [[ 2  3]]]\n",
      "\n",
      "\n",
      " [[[ 4  5]]\n",
      "\n",
      "  [[ 6  7]]]\n",
      "\n",
      "\n",
      " [[[ 8  9]]\n",
      "\n",
      "  [[10 11]]]]\n",
      "(3, 2, 2)\n",
      "(3, 2, 1, 2)\n"
     ]
    }
   ],
   "source": [
    "# numpy.expand_dims - This function expands the array by inserting a new axis at the specified position.\n",
    "# Example - Three Dimensional array\n",
    "\n",
    "a = np.arange(12).reshape(3,2,2) \n",
    "print(\"Array a\")\n",
    "print (a)\n",
    "print(\"\")\n",
    "\n",
    "b=np.expand_dims(a, axis=2)             # we can try for all axis = 0,1,2,3,4,...\n",
    "print(\"Array b\")\n",
    "print(b)\n",
    "print (a.shape)\n",
    "print (b.shape)"
   ]
  },
  {
   "cell_type": "code",
   "execution_count": 9,
   "id": "047aac78",
   "metadata": {},
   "outputs": [
    {
     "name": "stdout",
     "output_type": "stream",
     "text": [
      "The original array:\n",
      "[[[0 1 2 3]\n",
      "  [4 5 6 7]]]\n",
      "\n",
      "\n",
      "After applying the squeeze function:\n",
      "[[0 1 2 3]\n",
      " [4 5 6 7]]\n"
     ]
    }
   ],
   "source": [
    "# numpy.squeeze - This function removes one-dimensional entry from the shape of the given array. \n",
    "\n",
    "a = np.arange(8).reshape(1,2,4) \n",
    "print ('The original array:') \n",
    "print (a)\n",
    "print(\"\\n\")\n",
    "\n",
    "print ('After applying the squeeze function:') \n",
    "b=np.squeeze(a)\n",
    "print(b)"
   ]
  },
  {
   "cell_type": "code",
   "execution_count": 10,
   "id": "8355e638",
   "metadata": {},
   "outputs": [
    {
     "name": "stdout",
     "output_type": "stream",
     "text": [
      "The original array:\n",
      "[[0 1 2 3]]\n",
      "\n",
      "\n",
      "After broadcasted:\n",
      "[[0 1 2 3]\n",
      " [0 1 2 3]\n",
      " [0 1 2 3]\n",
      " [0 1 2 3]]\n"
     ]
    }
   ],
   "source": [
    "# np.broadcast_to - This function broadcasts an array to a new shape.\n",
    "\n",
    "import numpy as np \n",
    "a = np.arange(4).reshape(1,4) \n",
    "\n",
    "print ('The original array:') \n",
    "print (a )\n",
    "print ('\\n' ) \n",
    "\n",
    "print ('After broadcasted:') \n",
    "print (np.broadcast_to(a,(4,4)))"
   ]
  },
  {
   "cell_type": "code",
   "execution_count": 12,
   "id": "6ad19c58",
   "metadata": {},
   "outputs": [
    {
     "name": "stdout",
     "output_type": "stream",
     "text": [
      "[[ 0  1  2  3]\n",
      " [ 4  5  6  7]\n",
      " [ 8  9 10 11]]\n",
      "\n",
      "[ 0  1  2  3  4  5  6  7  8  9 10 11 11 22 33]\n"
     ]
    }
   ],
   "source": [
    "# numpy.append - This function adds values at the end of an input array.\n",
    "\n",
    "a=np.arange(12).reshape(3,4)\n",
    "print(a)\n",
    "print() \n",
    "b=np.append(a,[[11,22,33]])   \n",
    "print(b)"
   ]
  },
  {
   "cell_type": "code",
   "execution_count": 13,
   "id": "aacf1663",
   "metadata": {},
   "outputs": [
    {
     "name": "stdout",
     "output_type": "stream",
     "text": [
      "[[ 0  1  2  3]\n",
      " [ 4  5  6  7]\n",
      " [ 8  9 10 11]]\n",
      "\n",
      "[[ 0  1  2  3]\n",
      " [ 4  5  6  7]\n",
      " [ 8  9 10 11]\n",
      " [11 22 33 44]]\n"
     ]
    }
   ],
   "source": [
    "# numpy.append -Setting axis\n",
    "\n",
    "a=np.arange(12).reshape(3,4)\n",
    "print(a)\n",
    "print() \n",
    "b=np.append(a,[[11,22,33,44]],axis=0)   \n",
    "print(b)"
   ]
  },
  {
   "cell_type": "code",
   "execution_count": 14,
   "id": "854d9143",
   "metadata": {},
   "outputs": [
    {
     "name": "stdout",
     "output_type": "stream",
     "text": [
      "[[ 0  1  2  3]\n",
      " [ 4  5  6  7]\n",
      " [ 8  9 10 11]]\n",
      "\n",
      "[ 0  1  2  3 11 22 33 44  4  5  6  7  8  9 10 11]\n"
     ]
    }
   ],
   "source": [
    "# numpy.insert - This function inserts values in the input array along the given axis and before the given index.\n",
    "\n",
    "a=np.arange(12).reshape(3,4)\n",
    "print(a)\n",
    "print() \n",
    "b=np.insert(a,4, [11,22,33,44])   # Inserting new rows\n",
    "print(b)"
   ]
  },
  {
   "cell_type": "code",
   "execution_count": 18,
   "id": "d3261f26",
   "metadata": {},
   "outputs": [
    {
     "name": "stdout",
     "output_type": "stream",
     "text": [
      "[[ 0  1  2  3]\n",
      " [ 4  5  6  7]\n",
      " [ 8  9 10 11]]\n",
      "\n",
      "[[ 0  1  2  3]\n",
      " [11 22 33 44]\n",
      " [ 4  5  6  7]\n",
      " [ 8  9 10 11]]\n"
     ]
    }
   ],
   "source": [
    "# numpy.insert - Using axis\n",
    "\n",
    "a=np.arange(12).reshape(3,4)\n",
    "print(a)\n",
    "print() \n",
    "b=np.insert(a,1, [11,22,33,44], axis = 0)   # Inserting new rows\n",
    "print(b)"
   ]
  },
  {
   "cell_type": "code",
   "execution_count": 21,
   "id": "fcc46c10",
   "metadata": {},
   "outputs": [
    {
     "name": "stdout",
     "output_type": "stream",
     "text": [
      "[[ 0  1  2  3]\n",
      " [ 4  5  6  7]\n",
      " [ 8  9 10 11]]\n",
      "\n",
      "[[ 0 11  1  2  3]\n",
      " [ 4 22  5  6  7]\n",
      " [ 8 34  9 10 11]]\n"
     ]
    }
   ],
   "source": [
    "a=np.arange(12).reshape(3,4)\n",
    "print(a)\n",
    "print() \n",
    "b=np.insert(a,1, [11,22,34], axis = 1)   # Inserting new rows\n",
    "print(b)"
   ]
  },
  {
   "cell_type": "code",
   "execution_count": 22,
   "id": "b34a8d99",
   "metadata": {},
   "outputs": [
    {
     "name": "stdout",
     "output_type": "stream",
     "text": [
      "[[ 0  1  2  3]\n",
      " [ 4  5  6  7]\n",
      " [ 8  9 10 11]]\n",
      "\n",
      "[ 0  2  3  4  5  6  7  8  9 10 11]\n"
     ]
    }
   ],
   "source": [
    "# numpy.delete - This function returns a new array with the specified subarray deleted from the input array.\n",
    "\n",
    "a=np.arange(12).reshape(3,4)\n",
    "print(a)\n",
    "print() \n",
    "b=np.delete(a, 1)   # Delete a value\n",
    "print(b)"
   ]
  },
  {
   "cell_type": "code",
   "execution_count": 23,
   "id": "41ce6fb1",
   "metadata": {},
   "outputs": [
    {
     "name": "stdout",
     "output_type": "stream",
     "text": [
      "[[ 0  1  2  3]\n",
      " [ 4  5  6  7]\n",
      " [ 8  9 10 11]]\n",
      "\n",
      "[[ 0  2  3]\n",
      " [ 4  6  7]\n",
      " [ 8 10 11]]\n"
     ]
    }
   ],
   "source": [
    "# numpy.delete - Using axis\n",
    "\n",
    "a=np.arange(12).reshape(3,4)\n",
    "print(a)\n",
    "print() \n",
    "b=np.delete(a, 1, axis= 1 )   # Deleting a column using row\n",
    "print(b)"
   ]
  },
  {
   "cell_type": "code",
   "execution_count": 24,
   "id": "638be81b",
   "metadata": {},
   "outputs": [
    {
     "name": "stdout",
     "output_type": "stream",
     "text": [
      "[[1 2 1]\n",
      " [3 1 3]\n",
      " [1 1 2]]\n",
      "\n",
      "\n",
      "[1 2 3]\n"
     ]
    }
   ],
   "source": [
    "# numpy.unique - This function returns an array of unique elements in the input array.\n",
    "\n",
    "a=np.array([[1,2,1],[3,1,3],[1,1,2]])\n",
    "print(a)\n",
    "print('\\n')\n",
    "\n",
    "b=np.unique(a)         # Unique elements in the array\n",
    "print(b)"
   ]
  },
  {
   "cell_type": "code",
   "execution_count": 25,
   "id": "95d84075",
   "metadata": {},
   "outputs": [
    {
     "name": "stdout",
     "output_type": "stream",
     "text": [
      "[[1 2 1]\n",
      " [3 1 3]\n",
      " [1 1 2]]\n",
      "\n",
      "[1 2 3]\n",
      "\n",
      "Printng Indices\n",
      "[0 1 3]\n"
     ]
    }
   ],
   "source": [
    "a=np.array([[1,2,1],[3,1,3],[1,1,2]])\n",
    "print(a)\n",
    "print()\n",
    "\n",
    "b=np.unique(a)          # Unique elements in the array\n",
    "print(b)\n",
    "\n",
    "b,indices=np.unique(a,return_index='true')\n",
    "print(\"\\nPrintng Indices\")\n",
    "print (indices)"
   ]
  },
  {
   "cell_type": "code",
   "execution_count": 26,
   "id": "e106b65f",
   "metadata": {},
   "outputs": [
    {
     "name": "stdout",
     "output_type": "stream",
     "text": [
      "0b11011\n"
     ]
    }
   ],
   "source": [
    "#  NumPy - Binary Operators \n",
    "\n",
    "# Printing Binary Numbers\n",
    "\n",
    "a=27\n",
    "print (bin(a))"
   ]
  },
  {
   "cell_type": "code",
   "execution_count": 27,
   "id": "2095f748",
   "metadata": {},
   "outputs": [
    {
     "name": "stdout",
     "output_type": "stream",
     "text": [
      "18\n",
      "\n",
      "30\n",
      "\n",
      "[-14]\n"
     ]
    }
   ],
   "source": [
    "# Bitwise AND Operator \n",
    "# Using function - bitwise_and\n",
    "\n",
    "print (np.bitwise_and(22,26))\n",
    "print()\n",
    "\n",
    "# Bitwise OR Operator \n",
    "# Using function - bitwise_or\n",
    "\n",
    "print (np.bitwise_or(22,26))\n",
    "print()\n",
    "\n",
    "# Bitwise NOT Operator \n",
    "# Using function - invert\n",
    "\n",
    "print (np.invert([13]))"
   ]
  },
  {
   "cell_type": "code",
   "execution_count": 28,
   "id": "c1ab91ab",
   "metadata": {},
   "outputs": [
    {
     "name": "stdout",
     "output_type": "stream",
     "text": [
      "HelloWorld\n",
      "\n",
      "['HelloSuper' 'WorldStar']\n"
     ]
    }
   ],
   "source": [
    "#  String Functions \n",
    "\n",
    "# String Concatenation\n",
    "print (np.char.add('Hello','World'))\n",
    "print()\n",
    "print (np.char.add(['Hello','World'],['Super','Star']))"
   ]
  },
  {
   "cell_type": "code",
   "execution_count": 29,
   "id": "19b48185",
   "metadata": {},
   "outputs": [
    {
     "name": "stdout",
     "output_type": "stream",
     "text": [
      "HelloHelloHello\n"
     ]
    }
   ],
   "source": [
    "# String Multiply\n",
    "print (np.char.multiply('Hello', 3))"
   ]
  },
  {
   "cell_type": "code",
   "execution_count": 30,
   "id": "67b48371",
   "metadata": {},
   "outputs": [
    {
     "name": "stdout",
     "output_type": "stream",
     "text": [
      "#######Hello########\n"
     ]
    }
   ],
   "source": [
    "# np.char.center\n",
    "# Returns a copy of the given string with elements centered in a string of specified length\n",
    "\n",
    "print (np.char.center('Hello', 20, fillchar='#'))"
   ]
  },
  {
   "cell_type": "code",
   "execution_count": 32,
   "id": "3ece2023",
   "metadata": {},
   "outputs": [
    {
     "name": "stdout",
     "output_type": "stream",
     "text": [
      "Hello world\n",
      "\n",
      "Hello World\n"
     ]
    }
   ],
   "source": [
    "# numpy.char.capitalize()\n",
    "# Returns a copy of the string with only the first character capitalized\n",
    "\n",
    "print (np.char.capitalize('hello world'))\n",
    "print()\n",
    "\n",
    "# numpy.char.title()\n",
    "# Returns the element-wise title cased version of the string or unicode\n",
    "\n",
    "print (np.char.title('hello world'))"
   ]
  },
  {
   "cell_type": "code",
   "execution_count": 33,
   "id": "a6cc2345",
   "metadata": {},
   "outputs": [
    {
     "name": "stdout",
     "output_type": "stream",
     "text": [
      "hello world\n",
      "\n",
      "HELLO WORLD\n"
     ]
    }
   ],
   "source": [
    "# numpy.char.lower()\n",
    "# Returns an array with the elements converted to lowercase\n",
    "   \n",
    "print (np.char.lower('HELLO WORLD'))\n",
    "print()\n",
    "\n",
    "# numpy.char.upper()\n",
    "# Returns an array with the elements converted to uppercase\n",
    "\n",
    "print (np.char.upper('hello world'))"
   ]
  },
  {
   "cell_type": "code",
   "execution_count": 34,
   "id": "d4394649",
   "metadata": {},
   "outputs": [
    {
     "name": "stdout",
     "output_type": "stream",
     "text": [
      "['hello', 'how', 'are', 'you']\n",
      "\n",
      "['hello,', 'how,', 'are,', 'you']\n"
     ]
    }
   ],
   "source": [
    "# numpy.char.split()\n",
    "# Returns a list of the words in the string, using separatordelimiter\n",
    "\n",
    "print (np.char.split('hello how are you'))\n",
    "print()\n",
    "\n",
    "print (np.char.split('hello, how, are, you'),sep=',')  "
   ]
  },
  {
   "cell_type": "code",
   "execution_count": 35,
   "id": "83a95f75",
   "metadata": {},
   "outputs": [
    {
     "name": "stdout",
     "output_type": "stream",
     "text": [
      "['hello', ' how are you']\n"
     ]
    }
   ],
   "source": [
    "# numpy.char.splitlines()\n",
    "# Returns a list of the lines in the element, breaking at the line boundaries\n",
    "\n",
    "print (np.char.splitlines('hello\\n how are you'))"
   ]
  },
  {
   "cell_type": "code",
   "execution_count": 36,
   "id": "4afe1eac",
   "metadata": {},
   "outputs": [
    {
     "name": "stdout",
     "output_type": "stream",
     "text": [
      "ello how are you\n",
      "ello how are you a\n"
     ]
    }
   ],
   "source": [
    "# numpy.char.strip()\n",
    "# Returns a copy with the leading and trailing characters removed\n",
    "\n",
    "print (np.char.strip('hello how are you', 'h'))      # removes 'h' at starting and ending\n",
    "print (np.char.strip('hello how are you ah', 'h'))"
   ]
  },
  {
   "cell_type": "code",
   "execution_count": 37,
   "id": "508ae645",
   "metadata": {},
   "outputs": [
    {
     "name": "stdout",
     "output_type": "stream",
     "text": [
      "h-e-l-l-o- -w-o-r-l-d\n",
      "\n",
      "['h-e-l-l-o' 'w+o+r+l+d']\n"
     ]
    }
   ],
   "source": [
    "# numpy.char.join()\n",
    "# Returns a string which is the concatenation of the strings in the sequence\n",
    "\n",
    "print (np.char.join('-','hello world'))\n",
    "print()\n",
    "print (np.char.join(['-','+'],['hello', 'world']))"
   ]
  },
  {
   "cell_type": "code",
   "execution_count": 38,
   "id": "2df9242d",
   "metadata": {},
   "outputs": [
    {
     "name": "stdout",
     "output_type": "stream",
     "text": [
      "eello eai eow is He\n"
     ]
    }
   ],
   "source": [
    "# numpy.char.replace()\n",
    "# Returns a copy of the string with all occurrences of substring replaced by the new string\n",
    "\n",
    "print (np.char.replace('hello hai how is He', 'h','e'))"
   ]
  },
  {
   "cell_type": "code",
   "execution_count": 40,
   "id": "a795410e",
   "metadata": {},
   "outputs": [
    {
     "name": "stdout",
     "output_type": "stream",
     "text": [
      "b'\\x88\\x85\\x93\\x93\\x96@\\xa6\\x96\\x99\\x93\\x84'\n",
      "\n",
      "hello world\n"
     ]
    }
   ],
   "source": [
    "# numpy.char.encode()\n",
    "# Calls str.encode element-wise\n",
    "\n",
    "a= np.char.encode('hello world','cp500')\n",
    "print (a)\n",
    "\n",
    "# numpy.char.decode()\n",
    "# Calls str.decode element-wise\n",
    "print()\n",
    "print (np.char.decode(a,'cp500'))"
   ]
  },
  {
   "cell_type": "code",
   "execution_count": 41,
   "id": "7072c202",
   "metadata": {},
   "outputs": [
    {
     "name": "stdout",
     "output_type": "stream",
     "text": [
      "0.0\n",
      "\n",
      "1.0\n",
      "\n",
      "0.0\n"
     ]
    }
   ],
   "source": [
    "#  Mathematical Functions \n",
    "\n",
    "# Finding Sine Values\n",
    "\n",
    "print (np.sin(0))\n",
    "\n",
    "# Finding Cosine Values\n",
    "print()\n",
    "print (np.cos(0))\n",
    "\n",
    "# Finding Tangent Values\n",
    "print()\n",
    "print (np.tan(0))"
   ]
  },
  {
   "cell_type": "code",
   "execution_count": 42,
   "id": "ee81a329",
   "metadata": {},
   "outputs": [
    {
     "name": "stdout",
     "output_type": "stream",
     "text": [
      "0.49999999999999994\n",
      "\n",
      "0.8660254037844387\n"
     ]
    }
   ],
   "source": [
    "# Finding Sine Values for 30\n",
    "\n",
    "print (np.sin(30*np.pi/180))\n",
    "\n",
    "# Finding Cosine Values for 30\n",
    "\n",
    "print()\n",
    "print (np.cos(30*np.pi/180))"
   ]
  },
  {
   "cell_type": "code",
   "execution_count": 43,
   "id": "ac638269",
   "metadata": {},
   "outputs": [
    {
     "name": "stdout",
     "output_type": "stream",
     "text": [
      "2\n"
     ]
    }
   ],
   "source": [
    "#  numpy.ptp() function returns the range (maximum-minimum) of values along an axis.\n",
    "\n",
    "a=np.array([1,2,3])  # 3-1 = 2\n",
    "print(np.ptp(a))"
   ]
  },
  {
   "cell_type": "code",
   "execution_count": 44,
   "id": "3bec4bc4",
   "metadata": {},
   "outputs": [
    {
     "name": "stdout",
     "output_type": "stream",
     "text": [
      "1.2\n"
     ]
    }
   ],
   "source": [
    "# Percentile (or a centile) is a measure used in statistics indicating the value below which a given percentage \n",
    "#   of observations in a group of observations fall.\n",
    "\n",
    "a=np.array([1,2,3])\n",
    "print(np.percentile(a,10))"
   ]
  },
  {
   "cell_type": "code",
   "execution_count": 45,
   "id": "37d1ec98",
   "metadata": {},
   "outputs": [
    {
     "name": "stdout",
     "output_type": "stream",
     "text": [
      "50.0\n"
     ]
    }
   ],
   "source": [
    "# Median is defined as the value separating the higher half of a data sample from the lower half.\n",
    "\n",
    "a=np.array([[10,20,30],[40,50,60],[70,80,90]])\n",
    "print(np.median(a))"
   ]
  },
  {
   "cell_type": "code",
   "execution_count": 46,
   "id": "1ec20cf6",
   "metadata": {},
   "outputs": [
    {
     "name": "stdout",
     "output_type": "stream",
     "text": [
      "50.0\n"
     ]
    }
   ],
   "source": [
    "# The numpy.mean() function returns the arithmetic mean of elements in the array.\n",
    "\n",
    "a=np.array([[10,20,30],[40,50,60],[70,80,90]])\n",
    "print(np.mean(a))"
   ]
  },
  {
   "cell_type": "code",
   "execution_count": 47,
   "id": "9fa9c441",
   "metadata": {},
   "outputs": [
    {
     "name": "stdout",
     "output_type": "stream",
     "text": [
      "8.16496580927726\n"
     ]
    }
   ],
   "source": [
    "# Standard deviation is the square root of the average of squared deviations from mean.\n",
    "\n",
    "a=np.array([10,20,30])\n",
    "print(np.std(a))"
   ]
  },
  {
   "cell_type": "code",
   "execution_count": 48,
   "id": "c843acaa",
   "metadata": {},
   "outputs": [
    {
     "name": "stdout",
     "output_type": "stream",
     "text": [
      "66.66666666666667\n"
     ]
    }
   ],
   "source": [
    "# Variance is the average of squared deviations, i.e., mean(abs(x - x.mean())**2). \n",
    "\n",
    "a=np.array([10,20,30])\n",
    "print(np.var(a))"
   ]
  },
  {
   "cell_type": "code",
   "execution_count": null,
   "id": "6f5401a8",
   "metadata": {},
   "outputs": [],
   "source": []
  },
  {
   "cell_type": "code",
   "execution_count": null,
   "id": "e9c6cf5e",
   "metadata": {},
   "outputs": [],
   "source": []
  }
 ],
 "metadata": {
  "kernelspec": {
   "display_name": "Python 3",
   "language": "python",
   "name": "python3"
  },
  "language_info": {
   "codemirror_mode": {
    "name": "ipython",
    "version": 3
   },
   "file_extension": ".py",
   "mimetype": "text/x-python",
   "name": "python",
   "nbconvert_exporter": "python",
   "pygments_lexer": "ipython3",
   "version": "3.8.8"
  }
 },
 "nbformat": 4,
 "nbformat_minor": 5
}
