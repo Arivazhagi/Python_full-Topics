{
 "cells": [
  {
   "cell_type": "code",
   "execution_count": 1,
   "id": "c3357e63",
   "metadata": {},
   "outputs": [
    {
     "name": "stdout",
     "output_type": "stream",
     "text": [
      "[]\n"
     ]
    }
   ],
   "source": [
    "# List in python:\n",
    "\n",
    "# Creating an empty list\n",
    "a = []\n",
    "print(a)"
   ]
  },
  {
   "cell_type": "code",
   "execution_count": 3,
   "id": "f2d5d9f1",
   "metadata": {},
   "outputs": [
    {
     "data": {
      "text/plain": [
       "['H', 'e', 'l', 'l', 'o']"
      ]
     },
     "execution_count": 3,
     "metadata": {},
     "output_type": "execute_result"
    }
   ],
   "source": [
    "# Printing string in form of list\n",
    "\n",
    "a=\"Hello\"\n",
    "list(a)"
   ]
  },
  {
   "cell_type": "code",
   "execution_count": 3,
   "id": "e661648a",
   "metadata": {},
   "outputs": [
    {
     "name": "stdout",
     "output_type": "stream",
     "text": [
      "<class 'list'>\n",
      "<class 'list'>\n"
     ]
    }
   ],
   "source": [
    "# printing the list type:\n",
    "num = [1,3,4,7]                # because it is given in list []\n",
    "print(type(num))\n",
    "\n",
    "words = ['b','e','s','a','n','t']\n",
    "print(type(words))"
   ]
  },
  {
   "cell_type": "code",
   "execution_count": 4,
   "id": "e2f89ec2",
   "metadata": {},
   "outputs": [
    {
     "name": "stdout",
     "output_type": "stream",
     "text": [
      "['Arivazhagi']\n",
      "['s', 'a', 'n', 't', 'h', 'o', 's', 'h']\n"
     ]
    }
   ],
   "source": [
    "# 1.Creating a list with string\n",
    "\n",
    "a = [\"Arivazhagi\"]\n",
    "print(a)\n",
    "\n",
    "b = ['s','a','n','t','h','o','s','h']\n",
    "print(b)"
   ]
  },
  {
   "cell_type": "code",
   "execution_count": 5,
   "id": "c1c0c2be",
   "metadata": {},
   "outputs": [
    {
     "name": "stdout",
     "output_type": "stream",
     "text": [
      "['Hello', 1, 5.85, True]\n"
     ]
    }
   ],
   "source": [
    "# 2. Creating list with multiple(mixed) values\n",
    "\n",
    "list=[\"Hello\",1,5.85,True]\n",
    "print(list)"
   ]
  },
  {
   "cell_type": "code",
   "execution_count": 6,
   "id": "0dc6efa9",
   "metadata": {},
   "outputs": [
    {
     "name": "stdout",
     "output_type": "stream",
     "text": [
      "True\n"
     ]
    }
   ],
   "source": [
    "# 3. Fetching value from list\n",
    "\n",
    "list=[\"Hello\",1,5.85,True]\n",
    "print(list[3])"
   ]
  },
  {
   "cell_type": "code",
   "execution_count": 12,
   "id": "659b6ce9",
   "metadata": {},
   "outputs": [
    {
     "name": "stdout",
     "output_type": "stream",
     "text": [
      "Arivu\n",
      "10\n"
     ]
    }
   ],
   "source": [
    "# 4. Nested list\n",
    "\n",
    "list = [['lincy','Arivu'],['lavanya','Alfi'],['Aadila','Jeba']]         #also called as 2-d list.\n",
    "print(list[0][1])\n",
    "\n",
    "a = [1,2,3,4,5,[6,7,8,9,10]]\n",
    "print(a[5][4])"
   ]
  },
  {
   "cell_type": "code",
   "execution_count": 6,
   "id": "836e1180",
   "metadata": {},
   "outputs": [
    {
     "name": "stdout",
     "output_type": "stream",
     "text": [
      "[6, 6, 6, 6, 6]\n",
      "[2, 6, 7, 2, 6, 7, 2, 6, 7]\n"
     ]
    }
   ],
   "source": [
    "# 5. Repeating a list value:\n",
    "\n",
    "a = [6]\n",
    "print(a*5)\n",
    "\n",
    "b = [2,6,7]\n",
    "print(b*3)"
   ]
  },
  {
   "cell_type": "code",
   "execution_count": 9,
   "id": "cfe4ebdc",
   "metadata": {},
   "outputs": [
    {
     "name": "stdout",
     "output_type": "stream",
     "text": [
      "[[1, 2, 3], [4, 5, 6], [9, 8, 7]]\n",
      "d\n"
     ]
    }
   ],
   "source": [
    "# 6. Creating matrix using list\n",
    "\n",
    "a = [[1,2,3],[4,5,6],[9,8,7]]\n",
    "print(a)\n",
    "\n",
    "# Accesing value inside the list\n",
    "\n",
    "b = [['a','b','c'],['g','h','i'],['d','e','f']]\n",
    "print(b[2][0])"
   ]
  },
  {
   "cell_type": "code",
   "execution_count": 14,
   "id": "8a88f86e",
   "metadata": {},
   "outputs": [
    {
     "name": "stdout",
     "output_type": "stream",
     "text": [
      "['Arivu', 'Apple', 'Orange']\n",
      "[1, 2, 3, 4, 5, [6, 7, 7, 9, 10]]\n"
     ]
    }
   ],
   "source": [
    "# 7. Replacing a value in list\n",
    "\n",
    "list = ['Arivu','Apple','6.7']\n",
    "list[2] = 'Orange'\n",
    "print(list)\n",
    "\n",
    "a = [1,2,3,4,5,[6,7,8,9,10]]\n",
    "a[5][2] = 7\n",
    "print(a)"
   ]
  },
  {
   "cell_type": "code",
   "execution_count": 15,
   "id": "7ae9ba72",
   "metadata": {},
   "outputs": [
    {
     "name": "stdout",
     "output_type": "stream",
     "text": [
      "[1, 2, 3, 4, 5]\n",
      "[1, 2, 3, [4, 5, 6]]\n",
      "[1, 6, 9, 15, 20]\n",
      "[13, 8, 5, 26, 'num']\n"
     ]
    }
   ],
   "source": [
    "# 8. Appending a list (joining)\n",
    "\n",
    "a = []\n",
    "a.append(1)\n",
    "a.append(2)\n",
    "a.append(3)\n",
    "a.append(4)\n",
    "a.append(5)\n",
    "print(a)\n",
    "\n",
    "b = [1,2,3]\n",
    "c = [4,5,6]\n",
    "b.append(c)\n",
    "print(b)\n",
    "\n",
    "x = [1,6,9,15]\n",
    "x.append(20)       # appending values in created list\n",
    "print(x)\n",
    "y = [13,8,5,26]\n",
    "y.append(\"num\")    # appending string in a created integer list\n",
    "print(y)"
   ]
  },
  {
   "cell_type": "code",
   "execution_count": 16,
   "id": "25ad41b1",
   "metadata": {},
   "outputs": [
    {
     "name": "stdout",
     "output_type": "stream",
     "text": [
      "[1, 2, 3, 4, 5, 6, 7, 8]\n",
      "[71, 95, 42, 63, 84, 56, 10]\n"
     ]
    }
   ],
   "source": [
    "# 8. Extending the list\n",
    "\n",
    "a =[1,2,3,4]\n",
    "b =[5,6,7,8]\n",
    "a.extend(b)\n",
    "print(a)\n",
    "\n",
    "b = [71,95,42]\n",
    "b.extend([63,84,56,10])\n",
    "print(b)"
   ]
  },
  {
   "cell_type": "code",
   "execution_count": 21,
   "id": "7499efe5",
   "metadata": {},
   "outputs": [
    {
     "name": "stdout",
     "output_type": "stream",
     "text": [
      "4\n",
      "5\n",
      "3\n"
     ]
    }
   ],
   "source": [
    "# 9. Find length of a list\n",
    "\n",
    "a = [1,2,3,4]\n",
    "print(len(a))\n",
    "\n",
    "b = [1,2,3,4,[5,6,7]]\n",
    "print(len(b))\n",
    "\n",
    "c = [[1,2,3],[4,5,6],[7,8,9]]\n",
    "print(len(c))"
   ]
  },
  {
   "cell_type": "code",
   "execution_count": 22,
   "id": "5a714596",
   "metadata": {},
   "outputs": [
    {
     "data": {
      "text/plain": [
       "3"
      ]
     },
     "execution_count": 22,
     "metadata": {},
     "output_type": "execute_result"
    }
   ],
   "source": [
    "# 10. Counting a value in list\n",
    "\n",
    "list = [1,1,4,4,4,8,8,8,8,8]     # how many times the element is repeated.\n",
    "list.count(4)"
   ]
  },
  {
   "cell_type": "code",
   "execution_count": 1,
   "id": "9db77035",
   "metadata": {},
   "outputs": [
    {
     "name": "stdout",
     "output_type": "stream",
     "text": [
      "['Arivu', 'Lincy', 'Lavanya', 'Alfi']\n",
      "[1, 2, 3, 4, 5, 6]\n"
     ]
    }
   ],
   "source": [
    "# 11. Inserting a value in a list\n",
    "\n",
    "list = ['Arivu','Lincy','Alfi']\n",
    "list.insert(2,'Lavanya')\n",
    "print(list)\n",
    "\n",
    "a = [1,2,3,5,6]\n",
    "a.insert(3,4)                  \n",
    "print(a)"
   ]
  },
  {
   "cell_type": "code",
   "execution_count": 25,
   "id": "7245b5f3",
   "metadata": {
    "scrolled": true
   },
   "outputs": [
    {
     "name": "stdout",
     "output_type": "stream",
     "text": [
      "[1, 2, 3, 5, 6]\n"
     ]
    }
   ],
   "source": [
    "# 12. pop (delete the item using index value)\n",
    "\n",
    "list = [1,2,3,4,5,6]\n",
    "list.pop(3)\n",
    "print(list)"
   ]
  },
  {
   "cell_type": "code",
   "execution_count": 26,
   "id": "52b2bbe0",
   "metadata": {},
   "outputs": [
    {
     "name": "stdout",
     "output_type": "stream",
     "text": [
      "[1, 2, 4, 5, 6]\n"
     ]
    }
   ],
   "source": [
    "# 13. del (delete the item using index value -similar to pop)\n",
    "\n",
    "list = [1,2,3,4,5,6]\n",
    "del list[2]\n",
    "print(list)"
   ]
  },
  {
   "cell_type": "code",
   "execution_count": 19,
   "id": "7eb5e799",
   "metadata": {},
   "outputs": [
    {
     "name": "stdout",
     "output_type": "stream",
     "text": [
      "[5, 5, 6, 7, 7, 8, 8, 9]\n",
      "[1, 2.3, 4, 6, 7]\n"
     ]
    }
   ],
   "source": [
    "# 14. Remove (it removes the first matching duplicate)\n",
    "\n",
    "list1 = [5,5,5,6,7,7,8,8,9]\n",
    "list1.remove(5)\n",
    "print(list1)\n",
    "\n",
    "a = [1,2.3,4,5,6,7]\n",
    "a.remove(5)                     # it removes the direct values.\n",
    "print(a)"
   ]
  },
  {
   "cell_type": "code",
   "execution_count": 5,
   "id": "a29cdd07",
   "metadata": {},
   "outputs": [
    {
     "name": "stdout",
     "output_type": "stream",
     "text": [
      "[1, 6]\n",
      "[1]\n",
      "[3]\n"
     ]
    }
   ],
   "source": [
    "# 15. Indexing and Slicing\n",
    "\n",
    "list = [1,2,3,4,5,6,6]\n",
    "del list[1:-1]            # 1=a[0] and -1=last\n",
    "print(list)\n",
    "\n",
    "list1 = [1,2,3,4,5,6,7]\n",
    "del list1[1:]\n",
    "print(list1)\n",
    "\n",
    "list2 = [1,2,3,4]\n",
    "print(list2[2:-1])"
   ]
  },
  {
   "cell_type": "code",
   "execution_count": 7,
   "id": "73892349",
   "metadata": {},
   "outputs": [
    {
     "name": "stdout",
     "output_type": "stream",
     "text": [
      "3\n",
      "7\n"
     ]
    }
   ],
   "source": [
    "# 16. Fetching value using index location\n",
    "\n",
    "a = [1,2,3,4,5,6,7]\n",
    "print(a.index(4))                 # a[3] = 4\n",
    "\n",
    "# Printing the element using their index value\n",
    "\n",
    "b = [9,8,7,6,5]\n",
    "print(b[2])"
   ]
  },
  {
   "cell_type": "code",
   "execution_count": 3,
   "id": "95f9cdab",
   "metadata": {},
   "outputs": [
    {
     "name": "stdout",
     "output_type": "stream",
     "text": [
      "1\n",
      "\n",
      "4\n"
     ]
    }
   ],
   "source": [
    "# 16. index()   - Returns the index of first occurance. Start and end index are not necessary.\n",
    "\n",
    "a1 = [1,2,3,4,5,6]\n",
    "\n",
    "b = a1.index(2,0,5)    # index value for 2 is 1\n",
    "print(b)\n",
    "print()\n",
    "\n",
    "c = a1.index(5)\n",
    "print(c)"
   ]
  },
  {
   "cell_type": "code",
   "execution_count": 36,
   "id": "16aa0541",
   "metadata": {},
   "outputs": [
    {
     "name": "stdout",
     "output_type": "stream",
     "text": [
      "True\n",
      "False\n"
     ]
    }
   ],
   "source": [
    "# 17. To check if a list is empty or not\n",
    "\n",
    "a = [1,2,3,4]\n",
    "print(any(a))\n",
    "\n",
    "b = []\n",
    "print(any(b))"
   ]
  },
  {
   "cell_type": "code",
   "execution_count": 20,
   "id": "c541ec77",
   "metadata": {},
   "outputs": [
    {
     "name": "stdout",
     "output_type": "stream",
     "text": [
      "sum: 15\n",
      "1\n",
      "5\n"
     ]
    }
   ],
   "source": [
    "# 18. Summing list     (List supports aggregate functions)\n",
    "\n",
    "a = [1,2,3,4,5]\n",
    "print(\"sum:\",sum(a))\n",
    "print(min(a))\n",
    "print(max(a))"
   ]
  },
  {
   "cell_type": "code",
   "execution_count": 21,
   "id": "4580b5f4",
   "metadata": {},
   "outputs": [
    {
     "name": "stdout",
     "output_type": "stream",
     "text": [
      "[3, 5, 7, 10]\n",
      "[10, 9, 7, 5, 4, 3, 1]\n"
     ]
    }
   ],
   "source": [
    "# 19. Sorting a  list \n",
    "\n",
    "a = [10,3,5,7]\n",
    "a = sorted(a)                     #ascending\n",
    "print(a)\n",
    "\n",
    "b = [10,1,3,9,5,4,7]\n",
    "b = sorted(b,reverse=True)       #descending\n",
    "print(b)"
   ]
  },
  {
   "cell_type": "code",
   "execution_count": 22,
   "id": "bbdc16ba",
   "metadata": {},
   "outputs": [
    {
     "name": "stdout",
     "output_type": "stream",
     "text": [
      "<zip object at 0x7f63cc84b780>\n",
      "{(3, 6), (1, 4), (2, 2)}\n"
     ]
    }
   ],
   "source": [
    "# 20. Zipping a list  (compressing more files into one)\n",
    "\n",
    "a = [1,2,3,4]\n",
    "b = [1,5,6,7]\n",
    "c = zip(a,b)\n",
    "print(set(c))      # if set() is not given then o/p will shows its location alone.\n",
    "\n",
    "\n",
    "a1 = [1,2,3]       # extra value will not be zipped\n",
    "b1 = [4,2,6,7]\n",
    "c1 = zip(a1,b1)\n",
    "print(set(c1))"
   ]
  },
  {
   "cell_type": "code",
   "execution_count": 1,
   "id": "ae4795c1",
   "metadata": {
    "scrolled": true
   },
   "outputs": [
    {
     "name": "stdout",
     "output_type": "stream",
     "text": [
      "[(0, 1), (1, 2), (2, 3), (3, 4)]\n"
     ]
    }
   ],
   "source": [
    "# 21. Enumerating a list\n",
    "\n",
    "a = [1,2,3,4]\n",
    "b = enumerate(a)              # it print the value along with its index value\n",
    "b = list(b)                       # without this line o/p gives location only\n",
    "print(b)"
   ]
  },
  {
   "cell_type": "code",
   "execution_count": 46,
   "id": "08718c5f",
   "metadata": {},
   "outputs": [
    {
     "name": "stdout",
     "output_type": "stream",
     "text": [
      "[1, 2, 3, 4, 5]\n"
     ]
    }
   ],
   "source": [
    "# 22. Copying a list\n",
    "\n",
    "a = [1,2,3,4,5]\n",
    "b = a.copy()\n",
    "print(b)"
   ]
  },
  {
   "cell_type": "code",
   "execution_count": 1,
   "id": "0edeac32",
   "metadata": {},
   "outputs": [
    {
     "name": "stdout",
     "output_type": "stream",
     "text": [
      "(4, 5, 6, 7, 8)\n"
     ]
    }
   ],
   "source": [
    "# 23. Converting a list to tuple\n",
    "\n",
    "a = [4,5,6,7,8]\n",
    "b = tuple(a)\n",
    "print(b)"
   ]
  },
  {
   "cell_type": "code",
   "execution_count": 2,
   "id": "9bdbd5e3",
   "metadata": {},
   "outputs": [
    {
     "name": "stdout",
     "output_type": "stream",
     "text": [
      "[1, 2, 3, 4, 5, 6]\n"
     ]
    }
   ],
   "source": [
    "# 24. Concatenate two list\n",
    "\n",
    "a = [1,2,3]\n",
    "b = [4,5,6]\n",
    "c = a+b\n",
    "print(c)"
   ]
  },
  {
   "cell_type": "code",
   "execution_count": 7,
   "id": "1d4ab8c7",
   "metadata": {},
   "outputs": [
    {
     "name": "stdout",
     "output_type": "stream",
     "text": [
      "True\n"
     ]
    }
   ],
   "source": [
    "# 25. Check a value in a list\n",
    "\n",
    "a = [2, 5, 7 ,5]\n",
    "if 5 in a:\n",
    "    print(\"True\")            #tab is must\n",
    "else:\n",
    "    print(\"False\")"
   ]
  },
  {
   "cell_type": "code",
   "execution_count": 23,
   "id": "beddab8d",
   "metadata": {
    "scrolled": true
   },
   "outputs": [
    {
     "name": "stdout",
     "output_type": "stream",
     "text": [
      "1\n",
      "2\n",
      "3\n",
      "4\n",
      "5.6\n"
     ]
    }
   ],
   "source": [
    "# 26. Column wise print\n",
    "\n",
    "a = [1,2,3,4,5.6]\n",
    "for x in a:\n",
    "    print(x)"
   ]
  }
 ],
 "metadata": {
  "kernelspec": {
   "display_name": "Python 3",
   "language": "python",
   "name": "python3"
  },
  "language_info": {
   "codemirror_mode": {
    "name": "ipython",
    "version": 3
   },
   "file_extension": ".py",
   "mimetype": "text/x-python",
   "name": "python",
   "nbconvert_exporter": "python",
   "pygments_lexer": "ipython3",
   "version": "3.8.8"
  }
 },
 "nbformat": 4,
 "nbformat_minor": 5
}
