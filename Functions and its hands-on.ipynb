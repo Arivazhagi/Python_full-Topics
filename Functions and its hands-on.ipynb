{
 "cells": [
  {
   "cell_type": "code",
   "execution_count": null,
   "id": "f0c3f5f7",
   "metadata": {},
   "outputs": [],
   "source": [
    "# Functions"
   ]
  },
  {
   "cell_type": "code",
   "execution_count": 1,
   "id": "81732b1d",
   "metadata": {
    "scrolled": true
   },
   "outputs": [
    {
     "name": "stdout",
     "output_type": "stream",
     "text": [
      "17\n"
     ]
    }
   ],
   "source": [
    "# Without Argument Without Return Type:\n",
    "\n",
    "def add():\n",
    "    a = 8\n",
    "    b = 9\n",
    "    c = a + b\n",
    "    print(c)\n",
    "add()             #We don't pass arguments here.          "
   ]
  },
  {
   "cell_type": "code",
   "execution_count": 3,
   "id": "4bea25fc",
   "metadata": {},
   "outputs": [
    {
     "name": "stdout",
     "output_type": "stream",
     "text": [
      "15\n"
     ]
    }
   ],
   "source": [
    "# With Arguments Without Return Type:\n",
    "\n",
    "def add(a,b):\n",
    "    c = a + b\n",
    "    print(c)\n",
    "add(6,9)            # Argument is given   "
   ]
  },
  {
   "cell_type": "code",
   "execution_count": 4,
   "id": "ebb52e31",
   "metadata": {},
   "outputs": [
    {
     "data": {
      "text/plain": [
       "9"
      ]
     },
     "execution_count": 4,
     "metadata": {},
     "output_type": "execute_result"
    }
   ],
   "source": [
    "# Without Arguments With Return Type:\n",
    "\n",
    "def add():\n",
    "    a = 5\n",
    "    b = 4\n",
    "    c = a + b\n",
    "    return c\n",
    "add()                # or: x = add()  print(x)"
   ]
  },
  {
   "cell_type": "code",
   "execution_count": 5,
   "id": "e6f57da1",
   "metadata": {},
   "outputs": [
    {
     "name": "stdout",
     "output_type": "stream",
     "text": [
      "15\n"
     ]
    }
   ],
   "source": [
    "# With Arguments With Return Type:\n",
    "\n",
    "def add(a,b):\n",
    "    c = a + b\n",
    "    return c\n",
    "x = add(6,9)\n",
    "print(x)"
   ]
  },
  {
   "cell_type": "code",
   "execution_count": 16,
   "id": "bc3de478",
   "metadata": {
    "scrolled": true
   },
   "outputs": [
    {
     "data": {
      "text/plain": [
       "9"
      ]
     },
     "execution_count": 16,
     "metadata": {},
     "output_type": "execute_result"
    }
   ],
   "source": [
    "class Sum:\n",
    "   \n",
    "   def add(self,a,b):\n",
    "    c = a + b\n",
    "    return c\n",
    "a = 5\n",
    "b = 4\n",
    "\n",
    "obj = Sum()\n",
    "obj.add(a,b)"
   ]
  },
  {
   "cell_type": "code",
   "execution_count": 17,
   "id": "a809beb7",
   "metadata": {},
   "outputs": [
    {
     "name": "stdout",
     "output_type": "stream",
     "text": [
      "(5, 6, 11)\n"
     ]
    }
   ],
   "source": [
    "# Multiple Return Type\n",
    "\n",
    "def add(a,b):\n",
    "    c = a+b\n",
    "    return a,b,c        # return all the value\n",
    "a = 5\n",
    "b = 6\n",
    "obj = add(a,b)\n",
    "print(obj)"
   ]
  },
  {
   "cell_type": "code",
   "execution_count": 18,
   "id": "a53502e6",
   "metadata": {},
   "outputs": [
    {
     "name": "stdout",
     "output_type": "stream",
     "text": [
      "11\n"
     ]
    }
   ],
   "source": [
    "def add(a,b):\n",
    "    c = a+b\n",
    "    return a,b,c        # return all the value\n",
    "a = 5\n",
    "b = 6\n",
    "a,b,obj = add(a,b)      # it will hide a and b value\n",
    "print(obj)"
   ]
  },
  {
   "cell_type": "code",
   "execution_count": 19,
   "id": "8460bf50",
   "metadata": {},
   "outputs": [
    {
     "name": "stdout",
     "output_type": "stream",
     "text": [
      "15\n"
     ]
    }
   ],
   "source": [
    "# Default Arguments\n",
    "\n",
    "def add(a,b= 10):\n",
    "    c = a+b\n",
    "    return c\n",
    "a = 5\n",
    "b = 4\n",
    "obj = add(a)\n",
    "print(obj)"
   ]
  },
  {
   "cell_type": "code",
   "execution_count": 20,
   "id": "ba90ef59",
   "metadata": {},
   "outputs": [
    {
     "name": "stdout",
     "output_type": "stream",
     "text": [
      "9\n"
     ]
    }
   ],
   "source": [
    "def add(a,b= 10):\n",
    "    c = a+b\n",
    "    return c\n",
    "a = 5\n",
    "b = 4\n",
    "obj = add(a,b)\n",
    "print(obj)"
   ]
  },
  {
   "cell_type": "code",
   "execution_count": 21,
   "id": "54e0088d",
   "metadata": {},
   "outputs": [
    {
     "name": "stdout",
     "output_type": "stream",
     "text": [
      "[3, 4, 5, 6, 99, 'a', 77]\n"
     ]
    }
   ],
   "source": [
    "# Passing DataStructure:\n",
    "\n",
    "def add(a):\n",
    "    a.append(77)\n",
    "    return a\n",
    "a = [3,4,5,6,99,'a']\n",
    "obj = add(a)\n",
    "print(obj)"
   ]
  },
  {
   "cell_type": "code",
   "execution_count": null,
   "id": "aa34eb4b",
   "metadata": {},
   "outputs": [],
   "source": [
    "# Exercise Questions\n",
    "\n",
    "1. Area of a triangle\n",
    "2. Volume of a sphere\n",
    "3. Celcius to fahrenheit\n",
    "4. Pass List and do insert with value, position\n",
    "5. Pass List and do delete with value, position"
   ]
  },
  {
   "cell_type": "code",
   "execution_count": 4,
   "id": "531f27d7",
   "metadata": {},
   "outputs": [
    {
     "data": {
      "text/plain": [
       "4.0"
      ]
     },
     "execution_count": 4,
     "metadata": {},
     "output_type": "execute_result"
    }
   ],
   "source": [
    "# 1\n",
    "\n",
    "class Triangle:\n",
    "    def area(self,a,b,h):\n",
    "        cal = a*b*h\n",
    "        return cal\n",
    "a = 0.5\n",
    "b = 4\n",
    "h = 2\n",
    "\n",
    "obj = Triangle()\n",
    "obj.area(a,b,h)"
   ]
  },
  {
   "cell_type": "code",
   "execution_count": 5,
   "id": "823d7a0f",
   "metadata": {},
   "outputs": [
    {
     "data": {
      "text/plain": [
       "113.03999999999999"
      ]
     },
     "execution_count": 5,
     "metadata": {},
     "output_type": "execute_result"
    }
   ],
   "source": [
    "# 2\n",
    "\n",
    "class Sphere:\n",
    "    def volume(self,a,pi,r):\n",
    "        cal = a*pi*(r**3)\n",
    "        return cal\n",
    "a = 4/3\n",
    "pi = 3.14\n",
    "r = 3\n",
    "\n",
    "obj = Sphere()\n",
    "obj.volume(a,pi,r)"
   ]
  },
  {
   "cell_type": "code",
   "execution_count": 7,
   "id": "2e0bdc29",
   "metadata": {},
   "outputs": [
    {
     "name": "stdout",
     "output_type": "stream",
     "text": [
      "Enter the Temperature in celcius: 30\n"
     ]
    },
    {
     "data": {
      "text/plain": [
       "86.0"
      ]
     },
     "execution_count": 7,
     "metadata": {},
     "output_type": "execute_result"
    }
   ],
   "source": [
    "# 3\n",
    "\n",
    "class Temperature:\n",
    "    def celcius(self,c):\n",
    "        cal = (c * 1.8) + 32\n",
    "        return cal\n",
    "    \n",
    "c = int(input(\"Enter the Temperature in celcius: \"))\n",
    "\n",
    "fahrenheit = Temperature()\n",
    "fahrenheit.celcius(c)"
   ]
  },
  {
   "cell_type": "code",
   "execution_count": 9,
   "id": "f8a50063",
   "metadata": {},
   "outputs": [
    {
     "data": {
      "text/plain": [
       "['Arivu', 'Lincy', 'Lavanya', 'Alfi']"
      ]
     },
     "execution_count": 9,
     "metadata": {},
     "output_type": "execute_result"
    }
   ],
   "source": [
    "# 4\n",
    "\n",
    "class DataScience:\n",
    "    def students(self,names):\n",
    "        names.insert(2,'Lavanya')\n",
    "        return names\n",
    "names = ['Arivu','Lincy','Alfi']\n",
    "obj = DataScience()\n",
    "obj.students(names)"
   ]
  },
  {
   "cell_type": "code",
   "execution_count": 16,
   "id": "4fe3730a",
   "metadata": {},
   "outputs": [
    {
     "data": {
      "text/plain": [
       "['Arivu', 'Lincy', 'Lavanya', 'Alfi']"
      ]
     },
     "execution_count": 16,
     "metadata": {},
     "output_type": "execute_result"
    }
   ],
   "source": [
    "# 5\n",
    "\n",
    "class DataScience:\n",
    "    def students(self,names):\n",
    "        del names[3]\n",
    "        return names\n",
    "names = ['Arivu','Lincy','Lavanya','Aadila','Alfi']\n",
    "obj = DataScience()\n",
    "obj.students(names)"
   ]
  },
  {
   "cell_type": "code",
   "execution_count": 5,
   "id": "dcbbb293",
   "metadata": {},
   "outputs": [
    {
     "name": "stdout",
     "output_type": "stream",
     "text": [
      "The name is:  Anu\n",
      "The age is:  25\n"
     ]
    }
   ],
   "source": [
    "# 6. Create a function that can accept two arguments name and age and print its value.\n",
    "\n",
    "def details(name,age):\n",
    "    print(\"The name is: \",name)\n",
    "    print(\"The age is: \",age)\n",
    "\n",
    "details(\"Anu\",25)"
   ]
  },
  {
   "cell_type": "code",
   "execution_count": 6,
   "id": "91ce22a5",
   "metadata": {},
   "outputs": [
    {
     "name": "stdout",
     "output_type": "stream",
     "text": [
      "(35, 15)\n"
     ]
    }
   ],
   "source": [
    "# 7. Write a function calculation() such that it can accept two variables and calculate the addition and \n",
    "#    subtraction of them. And also it must return both addition and subtraction in a single return call.\n",
    "\n",
    "def calculation(a,b):\n",
    "    add = a+b\n",
    "    sub = a-b\n",
    "    return add,sub\n",
    "a = 25\n",
    "b = 10\n",
    "obj = calculation(a,b)\n",
    "print(obj)"
   ]
  },
  {
   "cell_type": "code",
   "execution_count": 1,
   "id": "037cb5dc",
   "metadata": {},
   "outputs": [
    {
     "data": {
      "text/plain": [
       "55"
      ]
     },
     "execution_count": 1,
     "metadata": {},
     "output_type": "execute_result"
    }
   ],
   "source": [
    "# 8. Write a recursive function to calculate the sum of numbers from 0 to 10.\n",
    "\n",
    "def sumfunc(num):\n",
    "    if(num == 0):\n",
    "        return 0\n",
    "    else:\n",
    "        return num + sumfunc(num-1)\n",
    "sumfunc(10)    "
   ]
  },
  {
   "cell_type": "code",
   "execution_count": 2,
   "id": "724a3b39",
   "metadata": {
    "scrolled": true
   },
   "outputs": [
    {
     "name": "stdout",
     "output_type": "stream",
     "text": [
      "4\n",
      "6\n",
      "8\n",
      "10\n",
      "12\n",
      "14\n",
      "16\n",
      "18\n",
      "20\n",
      "22\n",
      "24\n",
      "26\n",
      "28\n",
      "30\n"
     ]
    }
   ],
   "source": [
    "# 9. Generate a python list of all the even numbers between 4 to 30.\n",
    "\n",
    "def numbers(num):\n",
    "    if num > 3 :\n",
    "        while(num <= 30):\n",
    "            print(num)\n",
    "            num += 2\n",
    "num = 4\n",
    "numbers(num)"
   ]
  },
  {
   "cell_type": "code",
   "execution_count": 7,
   "id": "08b5839f",
   "metadata": {},
   "outputs": [
    {
     "data": {
      "text/plain": [
       "98"
      ]
     },
     "execution_count": 7,
     "metadata": {},
     "output_type": "execute_result"
    }
   ],
   "source": [
    "# 10. Return the largest item from the given list.\n",
    "\n",
    "def numbers(a):\n",
    "    x = max(a)\n",
    "    return x\n",
    "a = [23,6,98,65,43]\n",
    "numbers(a)"
   ]
  }
 ],
 "metadata": {
  "kernelspec": {
   "display_name": "Python 3",
   "language": "python",
   "name": "python3"
  },
  "language_info": {
   "codemirror_mode": {
    "name": "ipython",
    "version": 3
   },
   "file_extension": ".py",
   "mimetype": "text/x-python",
   "name": "python",
   "nbconvert_exporter": "python",
   "pygments_lexer": "ipython3",
   "version": "3.8.8"
  }
 },
 "nbformat": 4,
 "nbformat_minor": 5
}
