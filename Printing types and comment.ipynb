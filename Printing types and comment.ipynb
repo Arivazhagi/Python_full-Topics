{
 "cells": [
  {
   "cell_type": "code",
   "execution_count": 1,
   "id": "24bcda5c",
   "metadata": {},
   "outputs": [
    {
     "data": {
      "text/plain": [
       "'Hello'"
      ]
     },
     "execution_count": 1,
     "metadata": {},
     "output_type": "execute_result"
    }
   ],
   "source": [
    "# Simple print\n",
    "\"Hello\""
   ]
  },
  {
   "cell_type": "code",
   "execution_count": 1,
   "id": "b265efc1",
   "metadata": {},
   "outputs": [
    {
     "name": "stdout",
     "output_type": "stream",
     "text": [
      "57\n",
      "I have 20 rupees\n"
     ]
    }
   ],
   "source": [
    "# Printing value of a variable\n",
    "a=57\n",
    "print(a)\n",
    "\n",
    "b=20\n",
    "print(\"I have %d rupees\"%b)"
   ]
  },
  {
   "cell_type": "code",
   "execution_count": 4,
   "id": "4917e088",
   "metadata": {},
   "outputs": [
    {
     "name": "stdout",
     "output_type": "stream",
     "text": [
      "I am Arivu\n"
     ]
    }
   ],
   "source": [
    "# Printing string\n",
    "a=\"Arivu\"\n",
    "print(\"I am %s\"%a)   "
   ]
  },
  {
   "cell_type": "code",
   "execution_count": 3,
   "id": "7d31db69",
   "metadata": {},
   "outputs": [
    {
     "name": "stdout",
     "output_type": "stream",
     "text": [
      "She scored 7.200000 out of 10\n",
      "She scored 7.2000 out of 10\n"
     ]
    }
   ],
   "source": [
    "# Printing floating point\n",
    "a = 7.2\n",
    "print(\"She scored %f out of 10\"%a)\n",
    "print(\"She scored %.4f out of 10\"%a)   # after decimal no. of terms"
   ]
  },
  {
   "cell_type": "code",
   "execution_count": 6,
   "id": "0302dbe0",
   "metadata": {},
   "outputs": [
    {
     "name": "stdout",
     "output_type": "stream",
     "text": [
      "I have 5 pens\n"
     ]
    }
   ],
   "source": [
    "# Printing a value in between a statement\n",
    "n = 5\n",
    "print(\"I have\",n,\"pens\")"
   ]
  },
  {
   "cell_type": "code",
   "execution_count": 9,
   "id": "873eea89",
   "metadata": {},
   "outputs": [
    {
     "name": "stdout",
     "output_type": "stream",
     "text": [
      "My friends names are Lincy,Alfi,Lavanya\n"
     ]
    }
   ],
   "source": [
    "# Printing by use of format\n",
    "x = \"Alfi\"\n",
    "y = \"Lincy\"\n",
    "z = \"Lavanya\"\n",
    "print(\"My friends names are {},{},{}\".format(y,z,x))\n",
    "\n",
    "#or\n",
    "print(\"My friends names are {1},{0},{2}\".format(x,y,z))"
   ]
  },
  {
   "cell_type": "code",
   "execution_count": 5,
   "id": "7e8606bb",
   "metadata": {},
   "outputs": [
    {
     "name": "stdout",
     "output_type": "stream",
     "text": [
      "11\n"
     ]
    }
   ],
   "source": [
    "# Single line comment\n",
    "a=5\n",
    "b=6\n",
    "#example for comment\n",
    "print(a+b)"
   ]
  },
  {
   "cell_type": "code",
   "execution_count": 6,
   "id": "5e489403",
   "metadata": {},
   "outputs": [
    {
     "name": "stdout",
     "output_type": "stream",
     "text": [
      "10\n"
     ]
    }
   ],
   "source": [
    "# Docstring consider as comment when used in b/w codes\n",
    "a=4\n",
    "b=6\n",
    "''' example for docstring--the term statement is variously understood to mean either:'''\n",
    "print(a+b)"
   ]
  },
  {
   "cell_type": "code",
   "execution_count": 7,
   "id": "5b619643",
   "metadata": {},
   "outputs": [
    {
     "data": {
      "text/plain": [
       "' example for docstring-- the term statement is variously understood to mean either:'"
      ]
     },
     "execution_count": 7,
     "metadata": {},
     "output_type": "execute_result"
    }
   ],
   "source": [
    "# Docstring\n",
    "\n",
    "''' example for docstring-- the term statement is variously understood to mean either:'''"
   ]
  },
  {
   "cell_type": "code",
   "execution_count": null,
   "id": "192b8420",
   "metadata": {},
   "outputs": [],
   "source": []
  }
 ],
 "metadata": {
  "kernelspec": {
   "display_name": "Python 3",
   "language": "python",
   "name": "python3"
  },
  "language_info": {
   "codemirror_mode": {
    "name": "ipython",
    "version": 3
   },
   "file_extension": ".py",
   "mimetype": "text/x-python",
   "name": "python",
   "nbconvert_exporter": "python",
   "pygments_lexer": "ipython3",
   "version": "3.8.8"
  }
 },
 "nbformat": 4,
 "nbformat_minor": 5
}
