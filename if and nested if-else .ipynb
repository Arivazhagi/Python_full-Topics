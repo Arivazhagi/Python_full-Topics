{
 "cells": [
  {
   "cell_type": "code",
   "execution_count": null,
   "id": "38d4ad51",
   "metadata": {},
   "outputs": [],
   "source": [
    "# if-else"
   ]
  },
  {
   "cell_type": "code",
   "execution_count": 1,
   "id": "b2ef7615",
   "metadata": {},
   "outputs": [
    {
     "name": "stdout",
     "output_type": "stream",
     "text": [
      "lesser than 10\n"
     ]
    }
   ],
   "source": [
    "# if condition\n",
    "\n",
    "a = 6\n",
    "if a < 10 :\n",
    "    print(\"lesser than 10\")"
   ]
  },
  {
   "cell_type": "code",
   "execution_count": 2,
   "id": "156affca",
   "metadata": {},
   "outputs": [
    {
     "name": "stdout",
     "output_type": "stream",
     "text": [
      "greater than 10\n"
     ]
    }
   ],
   "source": [
    "# if else condition\n",
    "\n",
    "a = 15\n",
    "if a < 10 :\n",
    "    print(\"leser than 10\")\n",
    "else :\n",
    "    print(\"greater than 10\")"
   ]
  },
  {
   "cell_type": "code",
   "execution_count": 3,
   "id": "838efddf",
   "metadata": {},
   "outputs": [
    {
     "name": "stdout",
     "output_type": "stream",
     "text": [
      "b is equal to a\n"
     ]
    }
   ],
   "source": [
    "# if elif condition\n",
    "\n",
    "a = 66\n",
    "b = 66\n",
    "if b > a:\n",
    "    print(\"b is greater than a\")\n",
    "elif b == a :\n",
    "    print(\"b is equal to a\")"
   ]
  },
  {
   "cell_type": "code",
   "execution_count": 4,
   "id": "32c6cba2",
   "metadata": {},
   "outputs": [
    {
     "name": "stdout",
     "output_type": "stream",
     "text": [
      "b is smaller than a\n"
     ]
    }
   ],
   "source": [
    "# if elif else condition\n",
    "\n",
    "a = 66\n",
    "b = 33\n",
    "if b > a:\n",
    "    print(\"b is greater than a\")\n",
    "elif b == a :\n",
    "    print(\"b is equal to a\")\n",
    "else :\n",
    "    print(\"b is smaller than a\")"
   ]
  },
  {
   "cell_type": "code",
   "execution_count": 5,
   "id": "a2857aee",
   "metadata": {},
   "outputs": [
    {
     "name": "stdout",
     "output_type": "stream",
     "text": [
      "a is greater\n"
     ]
    }
   ],
   "source": [
    "# short hand for if\n",
    "a = 62\n",
    "b = 26\n",
    "if a > b :print(\"a is greater\")"
   ]
  },
  {
   "cell_type": "code",
   "execution_count": 6,
   "id": "d1bb0379",
   "metadata": {},
   "outputs": [
    {
     "name": "stdout",
     "output_type": "stream",
     "text": [
      "b is greater\n"
     ]
    }
   ],
   "source": [
    "# short hand for if else\n",
    "a = 12\n",
    "b = 26\n",
    "print(\"a is greater\") if a > b else print(\"b is greater\")"
   ]
  },
  {
   "cell_type": "code",
   "execution_count": 7,
   "id": "b55b44bb",
   "metadata": {},
   "outputs": [
    {
     "name": "stdout",
     "output_type": "stream",
     "text": [
      "both the conditions are true\n",
      "one of the condition is true\n"
     ]
    }
   ],
   "source": [
    "# multiple conditions\n",
    "\n",
    "a = 6\n",
    "b = 14\n",
    "if a < b and a != 0:\n",
    "    print(\"both the conditions are true\")\n",
    "if a > b or a < b :\n",
    "    print(\"one of the condition is true\")"
   ]
  },
  {
   "cell_type": "code",
   "execution_count": 8,
   "id": "e5227b6a",
   "metadata": {},
   "outputs": [
    {
     "name": "stdout",
     "output_type": "stream",
     "text": [
      "Not Twenty\n"
     ]
    }
   ],
   "source": [
    "# Nested if-else\n",
    "\n",
    "a = 10\n",
    "if a == 10 :\n",
    "    if a == 20:\n",
    "        print(\"Twenty\")\n",
    "    else :\n",
    "        print(\"Not Twenty\")\n",
    "else :\n",
    "    print(a*a)"
   ]
  },
  {
   "cell_type": "code",
   "execution_count": 9,
   "id": "fb8a59e5",
   "metadata": {},
   "outputs": [
    {
     "name": "stdout",
     "output_type": "stream",
     "text": [
      "Twenty\n"
     ]
    }
   ],
   "source": [
    "a = 20\n",
    "if a == 10 :\n",
    "    print(\"Ten\")\n",
    "else :\n",
    "    if a == 20:\n",
    "        print(\"Twenty\")\n",
    "    else :\n",
    "        print(\"Not Twenty\")"
   ]
  },
  {
   "cell_type": "code",
   "execution_count": 11,
   "id": "571acb2a",
   "metadata": {},
   "outputs": [
    {
     "name": "stdout",
     "output_type": "stream",
     "text": [
      "Enter your mark:92\n",
      "A Grade\n"
     ]
    }
   ],
   "source": [
    "a = int(input(\"Enter your mark:\"))\n",
    "if a >= 35 :\n",
    "    if a > 80 :\n",
    "        print(\"A Grade\")\n",
    "    elif a >= 60 :\n",
    "        print(\"B Grade\")\n",
    "    else :\n",
    "        print(\"C Grade\")\n",
    "else :\n",
    "    print(\"You failed.\")"
   ]
  }
 ],
 "metadata": {
  "kernelspec": {
   "display_name": "Python 3",
   "language": "python",
   "name": "python3"
  },
  "language_info": {
   "codemirror_mode": {
    "name": "ipython",
    "version": 3
   },
   "file_extension": ".py",
   "mimetype": "text/x-python",
   "name": "python",
   "nbconvert_exporter": "python",
   "pygments_lexer": "ipython3",
   "version": "3.8.8"
  }
 },
 "nbformat": 4,
 "nbformat_minor": 5
}
