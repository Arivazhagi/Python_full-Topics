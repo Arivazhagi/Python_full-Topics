{
 "cells": [
  {
   "cell_type": "markdown",
   "id": "cd20a14e",
   "metadata": {},
   "source": [
    "# OOPS "
   ]
  },
  {
   "cell_type": "code",
   "execution_count": 7,
   "id": "41d767a7",
   "metadata": {},
   "outputs": [
    {
     "data": {
      "text/plain": [
       "'This is a Petrol type car'"
      ]
     },
     "execution_count": 7,
     "metadata": {},
     "output_type": "execute_result"
    }
   ],
   "source": [
    "class Car:\n",
    "    def __init__(self,window,door,engintype):\n",
    "        self.windows = window\n",
    "        self.doors = door\n",
    "        self.engintype = engintype\n",
    "    def self_drive(self):\n",
    "        return \"This is a {} type car\".format(self.engintype)"
   ]
  },
  {
   "cell_type": "code",
   "execution_count": 8,
   "id": "6efd1dd7",
   "metadata": {},
   "outputs": [],
   "source": [
    "car1 = Car(5,4,'Petrol')"
   ]
  },
  {
   "cell_type": "code",
   "execution_count": 9,
   "id": "e3965cf6",
   "metadata": {},
   "outputs": [
    {
     "data": {
      "text/plain": [
       "'This is a Petrol type car'"
      ]
     },
     "execution_count": 9,
     "metadata": {},
     "output_type": "execute_result"
    }
   ],
   "source": [
    "car1.self_drive()"
   ]
  },
  {
   "cell_type": "markdown",
   "id": "18fd038c",
   "metadata": {},
   "source": [
    "# Access Specifiers"
   ]
  },
  {
   "cell_type": "code",
   "execution_count": 30,
   "id": "8f3b2e54",
   "metadata": {},
   "outputs": [
    {
     "data": {
      "text/plain": [
       "<__main__.Car at 0x7f35888e3100>"
      ]
     },
     "execution_count": 30,
     "metadata": {},
     "output_type": "execute_result"
    }
   ],
   "source": [
    "# All the class variables are Public:\n",
    "class Car:\n",
    "    def __init__(self,windows,doors,enginetype):   # Constructor\n",
    "        self.windows=windows\n",
    "        self.doors=doors\n",
    "        self.enginetype=enginetype\n",
    "audi = Car(4,5,\"Diesel\")        \n",
    "audi"
   ]
  },
  {
   "cell_type": "code",
   "execution_count": 31,
   "id": "75dda254",
   "metadata": {},
   "outputs": [
    {
     "data": {
      "text/plain": [
       "'Diesel'"
      ]
     },
     "execution_count": 31,
     "metadata": {},
     "output_type": "execute_result"
    }
   ],
   "source": [
    "audi.enginetype"
   ]
  },
  {
   "cell_type": "code",
   "execution_count": 32,
   "id": "84b7b931",
   "metadata": {},
   "outputs": [],
   "source": [
    "# Advantage of Public is , In Public it can be overridden:\n",
    "\n",
    "audi.enginetype = \"Petrol\""
   ]
  },
  {
   "cell_type": "code",
   "execution_count": 33,
   "id": "f48a8461",
   "metadata": {},
   "outputs": [
    {
     "data": {
      "text/plain": [
       "'Petrol'"
      ]
     },
     "execution_count": 33,
     "metadata": {},
     "output_type": "execute_result"
    }
   ],
   "source": [
    "audi.enginetype"
   ]
  },
  {
   "cell_type": "code",
   "execution_count": 34,
   "id": "d6727f0e",
   "metadata": {},
   "outputs": [
    {
     "data": {
      "text/plain": [
       "['__class__',\n",
       " '__delattr__',\n",
       " '__dict__',\n",
       " '__dir__',\n",
       " '__doc__',\n",
       " '__eq__',\n",
       " '__format__',\n",
       " '__ge__',\n",
       " '__getattribute__',\n",
       " '__gt__',\n",
       " '__hash__',\n",
       " '__init__',\n",
       " '__init_subclass__',\n",
       " '__le__',\n",
       " '__lt__',\n",
       " '__module__',\n",
       " '__ne__',\n",
       " '__new__',\n",
       " '__reduce__',\n",
       " '__reduce_ex__',\n",
       " '__repr__',\n",
       " '__setattr__',\n",
       " '__sizeof__',\n",
       " '__str__',\n",
       " '__subclasshook__',\n",
       " '__weakref__',\n",
       " 'doors',\n",
       " 'enginetype',\n",
       " 'windows']"
      ]
     },
     "execution_count": 34,
     "metadata": {},
     "output_type": "execute_result"
    }
   ],
   "source": [
    "dir(audi)             # It shows all the variables, at last shows the public variables"
   ]
  },
  {
   "cell_type": "code",
   "execution_count": 35,
   "id": "9030eb25",
   "metadata": {},
   "outputs": [
    {
     "data": {
      "text/plain": [
       "<__main__.Car at 0x7f35888e3820>"
      ]
     },
     "execution_count": 35,
     "metadata": {},
     "output_type": "execute_result"
    }
   ],
   "source": [
    "# All the class variables are Protected:\n",
    "class Car:\n",
    "    def __init__(self,windows,doors,enginetype):   \n",
    "        self._windows=windows                       # single underscore before variable makes it as protected\n",
    "        self._doors=doors\n",
    "        self._enginetype=enginetype\n",
    "bmw = Car(4,5,\"Diesel\")        \n",
    "bmw"
   ]
  },
  {
   "cell_type": "code",
   "execution_count": 36,
   "id": "ed327ba6",
   "metadata": {},
   "outputs": [
    {
     "ename": "AttributeError",
     "evalue": "'Car' object has no attribute 'doors'",
     "output_type": "error",
     "traceback": [
      "\u001b[0;31m---------------------------------------------------------------------------\u001b[0m",
      "\u001b[0;31mAttributeError\u001b[0m                            Traceback (most recent call last)",
      "\u001b[0;32m<ipython-input-36-01e0c5fd62d0>\u001b[0m in \u001b[0;36m<module>\u001b[0;34m\u001b[0m\n\u001b[0;32m----> 1\u001b[0;31m \u001b[0mbmw\u001b[0m\u001b[0;34m.\u001b[0m\u001b[0mdoors\u001b[0m         \u001b[0;31m# It could not be seen because it is protected\u001b[0m\u001b[0;34m\u001b[0m\u001b[0;34m\u001b[0m\u001b[0m\n\u001b[0m",
      "\u001b[0;31mAttributeError\u001b[0m: 'Car' object has no attribute 'doors'"
     ]
    }
   ],
   "source": [
    "bmw.doors         # It could not be seen because it is protected"
   ]
  },
  {
   "cell_type": "code",
   "execution_count": 37,
   "id": "a7821f17",
   "metadata": {},
   "outputs": [
    {
     "data": {
      "text/plain": [
       "['__class__',\n",
       " '__delattr__',\n",
       " '__dict__',\n",
       " '__dir__',\n",
       " '__doc__',\n",
       " '__eq__',\n",
       " '__format__',\n",
       " '__ge__',\n",
       " '__getattribute__',\n",
       " '__gt__',\n",
       " '__hash__',\n",
       " '__init__',\n",
       " '__init_subclass__',\n",
       " '__le__',\n",
       " '__lt__',\n",
       " '__module__',\n",
       " '__ne__',\n",
       " '__new__',\n",
       " '__reduce__',\n",
       " '__reduce_ex__',\n",
       " '__repr__',\n",
       " '__setattr__',\n",
       " '__sizeof__',\n",
       " '__str__',\n",
       " '__subclasshook__',\n",
       " '__weakref__',\n",
       " '_doors',\n",
       " '_enginetype',\n",
       " '_windows']"
      ]
     },
     "execution_count": 37,
     "metadata": {},
     "output_type": "execute_result"
    }
   ],
   "source": [
    "dir(bmw)      # Here at last it shows the protected variable"
   ]
  },
  {
   "cell_type": "code",
   "execution_count": 38,
   "id": "ea629837",
   "metadata": {},
   "outputs": [
    {
     "data": {
      "text/plain": [
       "<__main__.Truck at 0x7f35888e34c0>"
      ]
     },
     "execution_count": 38,
     "metadata": {},
     "output_type": "execute_result"
    }
   ],
   "source": [
    "# In Protected, Overridden should only happen from the subclass(child) & it should inherit the Main class\n",
    "\n",
    "class Truck(Car):\n",
    "    def __init__(self,windows,doors,enginetype,horsepower):\n",
    "        super().__init__(windows,doors,enginetype)\n",
    "        self.horsepower=horsepower\n",
    "lorry = Truck(4,2,'Deisel',4000)        \n",
    "lorry"
   ]
  },
  {
   "cell_type": "code",
   "execution_count": 39,
   "id": "4e9e7064",
   "metadata": {},
   "outputs": [
    {
     "data": {
      "text/plain": [
       "['__class__',\n",
       " '__delattr__',\n",
       " '__dict__',\n",
       " '__dir__',\n",
       " '__doc__',\n",
       " '__eq__',\n",
       " '__format__',\n",
       " '__ge__',\n",
       " '__getattribute__',\n",
       " '__gt__',\n",
       " '__hash__',\n",
       " '__init__',\n",
       " '__init_subclass__',\n",
       " '__le__',\n",
       " '__lt__',\n",
       " '__module__',\n",
       " '__ne__',\n",
       " '__new__',\n",
       " '__reduce__',\n",
       " '__reduce_ex__',\n",
       " '__repr__',\n",
       " '__setattr__',\n",
       " '__sizeof__',\n",
       " '__str__',\n",
       " '__subclasshook__',\n",
       " '__weakref__',\n",
       " '_doors',\n",
       " '_enginetype',\n",
       " '_windows',\n",
       " 'horsepower']"
      ]
     },
     "execution_count": 39,
     "metadata": {},
     "output_type": "execute_result"
    }
   ],
   "source": [
    "dir(lorry)"
   ]
  },
  {
   "cell_type": "code",
   "execution_count": 41,
   "id": "083652e7",
   "metadata": {},
   "outputs": [
    {
     "data": {
      "text/plain": [
       "2"
      ]
     },
     "execution_count": 41,
     "metadata": {},
     "output_type": "execute_result"
    }
   ],
   "source": [
    "lorry._doors"
   ]
  },
  {
   "cell_type": "code",
   "execution_count": 43,
   "id": "20ef9a90",
   "metadata": {},
   "outputs": [],
   "source": [
    "lorry._doors = 4     # Now it can be overridden"
   ]
  },
  {
   "cell_type": "code",
   "execution_count": 44,
   "id": "c48f11d8",
   "metadata": {
    "scrolled": true
   },
   "outputs": [
    {
     "data": {
      "text/plain": [
       "4"
      ]
     },
     "execution_count": 44,
     "metadata": {},
     "output_type": "execute_result"
    }
   ],
   "source": [
    "lorry._doors"
   ]
  },
  {
   "cell_type": "code",
   "execution_count": null,
   "id": "f73d3144",
   "metadata": {},
   "outputs": [],
   "source": [
    "# In Private, it cannot be overridden from anywhere"
   ]
  },
  {
   "cell_type": "code",
   "execution_count": 47,
   "id": "401412d4",
   "metadata": {},
   "outputs": [
    {
     "data": {
      "text/plain": [
       "<__main__.Car at 0x7f35888e3940>"
      ]
     },
     "execution_count": 47,
     "metadata": {},
     "output_type": "execute_result"
    }
   ],
   "source": [
    "# All the class variables are Protected:\n",
    "class Car:\n",
    "    def __init__(self,windows,doors,enginetype):   \n",
    "        self.__windows=windows                       # Double underscore before variable makes it as private\n",
    "        self.__doors=doors\n",
    "        self.__enginetype=enginetype\n",
    "marudi = Car(4,5,\"Diesel\")        \n",
    "marudi"
   ]
  },
  {
   "cell_type": "code",
   "execution_count": 48,
   "id": "17a6cc5f",
   "metadata": {},
   "outputs": [
    {
     "data": {
      "text/plain": [
       "['_Car__doors',\n",
       " '_Car__enginetype',\n",
       " '_Car__windows',\n",
       " '__class__',\n",
       " '__delattr__',\n",
       " '__dict__',\n",
       " '__dir__',\n",
       " '__doc__',\n",
       " '__eq__',\n",
       " '__format__',\n",
       " '__ge__',\n",
       " '__getattribute__',\n",
       " '__gt__',\n",
       " '__hash__',\n",
       " '__init__',\n",
       " '__init_subclass__',\n",
       " '__le__',\n",
       " '__lt__',\n",
       " '__module__',\n",
       " '__ne__',\n",
       " '__new__',\n",
       " '__reduce__',\n",
       " '__reduce_ex__',\n",
       " '__repr__',\n",
       " '__setattr__',\n",
       " '__sizeof__',\n",
       " '__str__',\n",
       " '__subclasshook__',\n",
       " '__weakref__']"
      ]
     },
     "execution_count": 48,
     "metadata": {},
     "output_type": "execute_result"
    }
   ],
   "source": [
    "dir(marudi)     # As it is private it is shown at first"
   ]
  },
  {
   "cell_type": "markdown",
   "id": "c3738d14",
   "metadata": {},
   "source": [
    "# Inheritance"
   ]
  },
  {
   "cell_type": "code",
   "execution_count": 73,
   "id": "169c983e",
   "metadata": {},
   "outputs": [],
   "source": [
    "class Car:\n",
    "    def __init__(self,windows,doors,enginetype):   \n",
    "        self.windows=windows                      \n",
    "        self.doors=doors\n",
    "        self.enginetype=enginetype\n",
    "    def drive(self):\n",
    "        print(\"The Person drives a car\")"
   ]
  },
  {
   "cell_type": "code",
   "execution_count": 74,
   "id": "cc18de30",
   "metadata": {},
   "outputs": [
    {
     "data": {
      "text/plain": [
       "<__main__.Car at 0x7f35888f2ee0>"
      ]
     },
     "execution_count": 74,
     "metadata": {},
     "output_type": "execute_result"
    }
   ],
   "source": [
    "marudi = Car(4,5,\"Diesel\")        \n",
    "marudi"
   ]
  },
  {
   "cell_type": "code",
   "execution_count": 75,
   "id": "947384fd",
   "metadata": {
    "scrolled": true
   },
   "outputs": [
    {
     "name": "stdout",
     "output_type": "stream",
     "text": [
      "The Person drives a car\n"
     ]
    }
   ],
   "source": [
    "marudi.drive()"
   ]
  },
  {
   "cell_type": "code",
   "execution_count": 76,
   "id": "e26d72d8",
   "metadata": {},
   "outputs": [],
   "source": [
    "class Mercidez(Car):\n",
    "    def __init__(self,windows,doors,enginetype,enableai):\n",
    "        super().__init__(windows,doors,enginetype)\n",
    "        self.enableai=enableai\n",
    "    def selfdriving(self):\n",
    "        print(\"Mercidez supports Self Driving\")"
   ]
  },
  {
   "cell_type": "code",
   "execution_count": 77,
   "id": "0bd9a984",
   "metadata": {},
   "outputs": [],
   "source": [
    "obj = Mercidez(5,4,\"Deisel\",True)"
   ]
  },
  {
   "cell_type": "code",
   "execution_count": 78,
   "id": "6cd7e653",
   "metadata": {},
   "outputs": [
    {
     "data": {
      "text/plain": [
       "4"
      ]
     },
     "execution_count": 78,
     "metadata": {},
     "output_type": "execute_result"
    }
   ],
   "source": [
    "obj.doors"
   ]
  },
  {
   "cell_type": "code",
   "execution_count": 80,
   "id": "d4dd28fb",
   "metadata": {},
   "outputs": [
    {
     "data": {
      "text/plain": [
       "True"
      ]
     },
     "execution_count": 80,
     "metadata": {},
     "output_type": "execute_result"
    }
   ],
   "source": [
    "obj.enableai"
   ]
  },
  {
   "cell_type": "code",
   "execution_count": 81,
   "id": "2493db93",
   "metadata": {},
   "outputs": [
    {
     "data": {
      "text/plain": [
       "bool"
      ]
     },
     "execution_count": 81,
     "metadata": {},
     "output_type": "execute_result"
    }
   ],
   "source": [
    "type(obj.enableai)"
   ]
  },
  {
   "cell_type": "code",
   "execution_count": 82,
   "id": "478bb104",
   "metadata": {},
   "outputs": [
    {
     "name": "stdout",
     "output_type": "stream",
     "text": [
      "The Person drives a car\n"
     ]
    }
   ],
   "source": [
    "obj.drive()"
   ]
  },
  {
   "cell_type": "code",
   "execution_count": 83,
   "id": "2f3fb57f",
   "metadata": {},
   "outputs": [
    {
     "name": "stdout",
     "output_type": "stream",
     "text": [
      "Mercidez supports Self Driving\n"
     ]
    }
   ],
   "source": [
    "obj.selfdriving()"
   ]
  },
  {
   "cell_type": "code",
   "execution_count": 79,
   "id": "100644d1",
   "metadata": {},
   "outputs": [
    {
     "data": {
      "text/plain": [
       "['__class__',\n",
       " '__delattr__',\n",
       " '__dict__',\n",
       " '__dir__',\n",
       " '__doc__',\n",
       " '__eq__',\n",
       " '__format__',\n",
       " '__ge__',\n",
       " '__getattribute__',\n",
       " '__gt__',\n",
       " '__hash__',\n",
       " '__init__',\n",
       " '__init_subclass__',\n",
       " '__le__',\n",
       " '__lt__',\n",
       " '__module__',\n",
       " '__ne__',\n",
       " '__new__',\n",
       " '__reduce__',\n",
       " '__reduce_ex__',\n",
       " '__repr__',\n",
       " '__setattr__',\n",
       " '__sizeof__',\n",
       " '__str__',\n",
       " '__subclasshook__',\n",
       " '__weakref__',\n",
       " 'doors',\n",
       " 'drive',\n",
       " 'enableai',\n",
       " 'enginetype',\n",
       " 'selfdriving',\n",
       " 'windows']"
      ]
     },
     "execution_count": 79,
     "metadata": {},
     "output_type": "execute_result"
    }
   ],
   "source": [
    "dir(obj)"
   ]
  },
  {
   "cell_type": "code",
   "execution_count": null,
   "id": "ae5e8b5b",
   "metadata": {},
   "outputs": [],
   "source": []
  },
  {
   "cell_type": "markdown",
   "id": "2915e2f0",
   "metadata": {},
   "source": [
    "# Python Exception Handling"
   ]
  },
  {
   "cell_type": "code",
   "execution_count": 51,
   "id": "563d5e65",
   "metadata": {},
   "outputs": [],
   "source": [
    "a=10"
   ]
  },
  {
   "cell_type": "code",
   "execution_count": 11,
   "id": "7ac59d0c",
   "metadata": {},
   "outputs": [
    {
     "ename": "NameError",
     "evalue": "name 'b' is not defined",
     "output_type": "error",
     "traceback": [
      "\u001b[0;31m---------------------------------------------------------------------------\u001b[0m",
      "\u001b[0;31mNameError\u001b[0m                                 Traceback (most recent call last)",
      "\u001b[0;32m<ipython-input-11-488068fe1e94>\u001b[0m in \u001b[0;36m<module>\u001b[0;34m\u001b[0m\n\u001b[0;32m----> 1\u001b[0;31m \u001b[0ma\u001b[0m\u001b[0;34m=\u001b[0m\u001b[0mb\u001b[0m\u001b[0;34m\u001b[0m\u001b[0;34m\u001b[0m\u001b[0m\n\u001b[0m",
      "\u001b[0;31mNameError\u001b[0m: name 'b' is not defined"
     ]
    }
   ],
   "source": [
    "a=b      # An Error occurs"
   ]
  },
  {
   "cell_type": "code",
   "execution_count": 12,
   "id": "62cec797",
   "metadata": {},
   "outputs": [
    {
     "name": "stdout",
     "output_type": "stream",
     "text": [
      "Some problem may have occured\n"
     ]
    }
   ],
   "source": [
    "# To handle the above error we use exception (for others to understand)\n",
    "\n",
    "try:\n",
    "    ## code where exception can occur\n",
    "    a=b\n",
    "    \n",
    "except: \n",
    "    print(\"Some problem may have occured\")   # O/P does not give information of what problem occured here."
   ]
  },
  {
   "cell_type": "code",
   "execution_count": 13,
   "id": "85acdaf2",
   "metadata": {},
   "outputs": [
    {
     "name": "stdout",
     "output_type": "stream",
     "text": [
      "name 'b' is not defined\n"
     ]
    }
   ],
   "source": [
    "# Exception can be hanled in much more generic way (Highest wxception class is Exception itself)\n",
    "\n",
    "try:\n",
    "    ## code where exception can occur\n",
    "    a=b\n",
    "    \n",
    "except Exception as ex:                   # By calling Exception we get exact error \n",
    "    print(ex)                       # This gives the msg of the error      "
   ]
  },
  {
   "cell_type": "code",
   "execution_count": 14,
   "id": "415a53b3",
   "metadata": {},
   "outputs": [
    {
     "name": "stdout",
     "output_type": "stream",
     "text": [
      "The user have not defined the variable\n"
     ]
    }
   ],
   "source": [
    "try:\n",
    "    ## code where exception can occur\n",
    "    a=b\n",
    "\n",
    "except NameError:\n",
    "    print(\"The user have not defined the variable\")     # We already know its Nameerror so give neat msg\n",
    "except Exception as ex:                                 # This class calling should be always at last\n",
    "    print(ex)                            "
   ]
  },
  {
   "cell_type": "markdown",
   "id": "1d5ed18f",
   "metadata": {},
   "source": [
    "### Another example 1:"
   ]
  },
  {
   "cell_type": "code",
   "execution_count": 15,
   "id": "2e235fe3",
   "metadata": {},
   "outputs": [
    {
     "name": "stdout",
     "output_type": "stream",
     "text": [
      "unsupported operand type(s) for +: 'int' and 'str'\n"
     ]
    }
   ],
   "source": [
    "try:\n",
    "    ## code where exception can occur\n",
    "    a=1\n",
    "    b=\"s\"\n",
    "    c = a+b                              # This will not catch in Nameerror because it is some other error \n",
    "\n",
    "except NameError:\n",
    "    print(\"The user have not defined the variable\")     \n",
    "except Exception as ex:                                # So, these codes will be executed    \n",
    "    print(ex)                                            "
   ]
  },
  {
   "cell_type": "code",
   "execution_count": 16,
   "id": "4ce2c348",
   "metadata": {},
   "outputs": [
    {
     "ename": "TypeError",
     "evalue": "unsupported operand type(s) for +: 'int' and 'str'",
     "output_type": "error",
     "traceback": [
      "\u001b[0;31m---------------------------------------------------------------------------\u001b[0m",
      "\u001b[0;31mTypeError\u001b[0m                                 Traceback (most recent call last)",
      "\u001b[0;32m<ipython-input-16-b47c66e2ecfc>\u001b[0m in \u001b[0;36m<module>\u001b[0;34m\u001b[0m\n\u001b[1;32m      2\u001b[0m \u001b[0ma\u001b[0m\u001b[0;34m=\u001b[0m\u001b[0;36m1\u001b[0m\u001b[0;34m\u001b[0m\u001b[0;34m\u001b[0m\u001b[0m\n\u001b[1;32m      3\u001b[0m \u001b[0mb\u001b[0m\u001b[0;34m=\u001b[0m\u001b[0;34m\"s\"\u001b[0m\u001b[0;34m\u001b[0m\u001b[0;34m\u001b[0m\u001b[0m\n\u001b[0;32m----> 4\u001b[0;31m \u001b[0mc\u001b[0m \u001b[0;34m=\u001b[0m \u001b[0ma\u001b[0m\u001b[0;34m+\u001b[0m\u001b[0mb\u001b[0m\u001b[0;34m\u001b[0m\u001b[0;34m\u001b[0m\u001b[0m\n\u001b[0m",
      "\u001b[0;31mTypeError\u001b[0m: unsupported operand type(s) for +: 'int' and 'str'"
     ]
    }
   ],
   "source": [
    "# To check what error:\n",
    "a=1\n",
    "b=\"s\"\n",
    "c = a+b     # It gives Type Error, to handle this see below cell"
   ]
  },
  {
   "cell_type": "code",
   "execution_count": 17,
   "id": "108ac0a4",
   "metadata": {},
   "outputs": [
    {
     "name": "stdout",
     "output_type": "stream",
     "text": [
      "Try to make the datatype similar\n"
     ]
    }
   ],
   "source": [
    "try:\n",
    "    ## code where exception can occur\n",
    "    a=1\n",
    "    b=\"s\"\n",
    "    c = a+b\n",
    "    \n",
    "except NameError:\n",
    "    print(\"The user have not defined the variable\") \n",
    "except TypeError:\n",
    "    print(\"Try to make the datatype similar\")                 # These lines of code act like if-else statement\n",
    "except Exception as ex:                                \n",
    "    print(ex)                                            "
   ]
  },
  {
   "cell_type": "markdown",
   "id": "92fb6a4d",
   "metadata": {},
   "source": [
    "### Another example 2:"
   ]
  },
  {
   "cell_type": "code",
   "execution_count": 18,
   "id": "70e5b3a5",
   "metadata": {},
   "outputs": [
    {
     "name": "stdout",
     "output_type": "stream",
     "text": [
      "Enter the number1 12\n",
      "Enter the number2 4\n",
      "3.0\n",
      "48\n"
     ]
    }
   ],
   "source": [
    "try:\n",
    "    ## code where exception can occur\n",
    "    a=int(input(\"Enter the number1 \"))\n",
    "    b=int(input(\"Enter the number2 \"))\n",
    "    c = a/b\n",
    "    d = a*b\n",
    "    print(c)\n",
    "    print(d)\n",
    "    \n",
    "except NameError:\n",
    "    print(\"The user have not defined the variable\") \n",
    "except TypeError:\n",
    "    print(\"Try to make the datatype similar\")                 \n",
    "except Exception as ex:                                \n",
    "    print(ex)                                            "
   ]
  },
  {
   "cell_type": "code",
   "execution_count": 19,
   "id": "41a253db",
   "metadata": {},
   "outputs": [
    {
     "name": "stdout",
     "output_type": "stream",
     "text": [
      "Enter the number1 12\n",
      "Enter the number2 0\n",
      "division by zero\n"
     ]
    }
   ],
   "source": [
    "try:\n",
    "    ## code where exception can occur\n",
    "    a=int(input(\"Enter the number1 \"))\n",
    "    b=int(input(\"Enter the number2 \"))\n",
    "    c = a/b\n",
    "    d = a*b\n",
    "    print(c)\n",
    "    print(d)\n",
    "    \n",
    "except NameError:\n",
    "    print(\"The user have not defined the variable\") \n",
    "except TypeError:\n",
    "    print(\"Try to make the datatype similar\")                 \n",
    "except Exception as ex:                                \n",
    "    print(ex)                                        # To find this error type"
   ]
  },
  {
   "cell_type": "code",
   "execution_count": 21,
   "id": "ea548731",
   "metadata": {},
   "outputs": [
    {
     "name": "stdout",
     "output_type": "stream",
     "text": [
      "Enter the number1 12\n",
      "Enter the number2 0\n"
     ]
    },
    {
     "ename": "ZeroDivisionError",
     "evalue": "division by zero",
     "output_type": "error",
     "traceback": [
      "\u001b[0;31m---------------------------------------------------------------------------\u001b[0m",
      "\u001b[0;31mZeroDivisionError\u001b[0m                         Traceback (most recent call last)",
      "\u001b[0;32m<ipython-input-21-65b55b2cd514>\u001b[0m in \u001b[0;36m<module>\u001b[0;34m\u001b[0m\n\u001b[1;32m      1\u001b[0m \u001b[0ma\u001b[0m\u001b[0;34m=\u001b[0m\u001b[0mint\u001b[0m\u001b[0;34m(\u001b[0m\u001b[0minput\u001b[0m\u001b[0;34m(\u001b[0m\u001b[0;34m\"Enter the number1 \"\u001b[0m\u001b[0;34m)\u001b[0m\u001b[0;34m)\u001b[0m\u001b[0;34m\u001b[0m\u001b[0;34m\u001b[0m\u001b[0m\n\u001b[1;32m      2\u001b[0m \u001b[0mb\u001b[0m\u001b[0;34m=\u001b[0m\u001b[0mint\u001b[0m\u001b[0;34m(\u001b[0m\u001b[0minput\u001b[0m\u001b[0;34m(\u001b[0m\u001b[0;34m\"Enter the number2 \"\u001b[0m\u001b[0;34m)\u001b[0m\u001b[0;34m)\u001b[0m\u001b[0;34m\u001b[0m\u001b[0;34m\u001b[0m\u001b[0m\n\u001b[0;32m----> 3\u001b[0;31m \u001b[0mc\u001b[0m \u001b[0;34m=\u001b[0m \u001b[0ma\u001b[0m\u001b[0;34m/\u001b[0m\u001b[0mb\u001b[0m\u001b[0;34m\u001b[0m\u001b[0;34m\u001b[0m\u001b[0m\n\u001b[0m\u001b[1;32m      4\u001b[0m \u001b[0md\u001b[0m \u001b[0;34m=\u001b[0m \u001b[0ma\u001b[0m\u001b[0;34m*\u001b[0m\u001b[0mb\u001b[0m\u001b[0;34m\u001b[0m\u001b[0;34m\u001b[0m\u001b[0m\n\u001b[1;32m      5\u001b[0m \u001b[0mprint\u001b[0m\u001b[0;34m(\u001b[0m\u001b[0mc\u001b[0m\u001b[0;34m)\u001b[0m\u001b[0;34m\u001b[0m\u001b[0;34m\u001b[0m\u001b[0m\n",
      "\u001b[0;31mZeroDivisionError\u001b[0m: division by zero"
     ]
    }
   ],
   "source": [
    "a=int(input(\"Enter the number1 \"))\n",
    "b=int(input(\"Enter the number2 \"))\n",
    "c = a/b\n",
    "d = a*b\n",
    "print(c)\n",
    "print(d)                           # It is found that the error ZeroDivisionError"
   ]
  },
  {
   "cell_type": "code",
   "execution_count": 22,
   "id": "23ac7389",
   "metadata": {},
   "outputs": [
    {
     "name": "stdout",
     "output_type": "stream",
     "text": [
      "Enter the number1 12\n",
      "Enter the number2 0\n",
      "Please provide a number greater than zero\n"
     ]
    }
   ],
   "source": [
    "try:\n",
    "    ## code where exception can occur\n",
    "    a=int(input(\"Enter the number1 \"))\n",
    "    b=int(input(\"Enter the number2 \"))\n",
    "    c = a/b\n",
    "    d = a*b\n",
    "    \n",
    "except NameError:\n",
    "    print(\"The user have not defined the variable\") \n",
    "except TypeError:\n",
    "    print(\"Try to make the datatype similar\")\n",
    "except ZeroDivisionError:\n",
    "    print(\"Please provide a number greater than zero\")     \n",
    "except Exception as ex:                                \n",
    "    print(ex)                                        \n",
    "else:                                                                # We can also use else block here\n",
    "    print(c)\n",
    "    print(d)"
   ]
  },
  {
   "cell_type": "code",
   "execution_count": 23,
   "id": "658e66e1",
   "metadata": {},
   "outputs": [
    {
     "name": "stdout",
     "output_type": "stream",
     "text": [
      "Enter the number1 12\n",
      "Enter the number2 0\n",
      "Please provide a number greater than zero\n",
      "The execution is done\n"
     ]
    }
   ],
   "source": [
    "# try-else-finally:\n",
    "\n",
    "try:\n",
    "    ## code where exception can occur\n",
    "    a=int(input(\"Enter the number1 \"))\n",
    "    b=int(input(\"Enter the number2 \"))\n",
    "    c = a/b\n",
    "    \n",
    "except NameError:\n",
    "    print(\"The user have not defined the variable\") \n",
    "except TypeError:\n",
    "    print(\"Try to make the datatype similar\")\n",
    "except ZeroDivisionError:\n",
    "    print(\"Please provide a number greater than zero\")     \n",
    "except Exception as ex:                                \n",
    "    print(ex) \n",
    "    \n",
    "else:                                                                \n",
    "    print(c)\n",
    "    \n",
    "finally:                                 # This block will always get printed\n",
    "    print(\"The execution is done\")       # Finally block helps to close the database."
   ]
  },
  {
   "cell_type": "markdown",
   "id": "d5a7efbc",
   "metadata": {},
   "source": [
    "# Custom Exception "
   ]
  },
  {
   "cell_type": "code",
   "execution_count": 24,
   "id": "929c5bc2",
   "metadata": {},
   "outputs": [],
   "source": [
    "class Error(Exception):\n",
    "    pass\n",
    "\n",
    "class dobException(Error):\n",
    "    pass\n",
    "\n",
    "class customgeneric(Error):\n",
    "    pass"
   ]
  },
  {
   "cell_type": "code",
   "execution_count": 27,
   "id": "ca68765b",
   "metadata": {},
   "outputs": [
    {
     "name": "stdout",
     "output_type": "stream",
     "text": [
      "Enter the year of Birth 1996\n",
      "The age is valid. You can apply for the exams.\n"
     ]
    }
   ],
   "source": [
    "year = int(input(\"Enter the year of Birth \"))\n",
    "age = 2021 - year\n",
    "\n",
    "try:\n",
    "    if age>20 & age<=30:\n",
    "        print(\"The age is valid. You can apply for the exams.\")\n",
    "    else:\n",
    "        raise dobException\n",
    "        \n",
    "except dobException:        \n",
    "    print(\"The age is not within the range. You cannot apply for the exams.\")"
   ]
  }
 ],
 "metadata": {
  "kernelspec": {
   "display_name": "Python 3",
   "language": "python",
   "name": "python3"
  },
  "language_info": {
   "codemirror_mode": {
    "name": "ipython",
    "version": 3
   },
   "file_extension": ".py",
   "mimetype": "text/x-python",
   "name": "python",
   "nbconvert_exporter": "python",
   "pygments_lexer": "ipython3",
   "version": "3.8.8"
  }
 },
 "nbformat": 4,
 "nbformat_minor": 5
}
