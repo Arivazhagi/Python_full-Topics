{
 "cells": [
  {
   "cell_type": "markdown",
   "id": "71193c66",
   "metadata": {},
   "source": [
    "# List Comprehension:"
   ]
  },
  {
   "cell_type": "code",
   "execution_count": 2,
   "id": "cbacbed1",
   "metadata": {},
   "outputs": [],
   "source": [
    "# Example 1\n",
    "a = []\n",
    "def lst_square(lst1):\n",
    "    for i in lst1:\n",
    "        a.append(i*i)\n",
    "    return a    "
   ]
  },
  {
   "cell_type": "code",
   "execution_count": 3,
   "id": "b943956a",
   "metadata": {},
   "outputs": [
    {
     "data": {
      "text/plain": [
       "[1, 4, 9, 16, 25, 36, 49, 64, 81]"
      ]
     },
     "execution_count": 3,
     "metadata": {},
     "output_type": "execute_result"
    }
   ],
   "source": [
    "lst_square([1,2,3,4,5,6,7,8,9])"
   ]
  },
  {
   "cell_type": "code",
   "execution_count": 5,
   "id": "802f9703",
   "metadata": {},
   "outputs": [
    {
     "name": "stdout",
     "output_type": "stream",
     "text": [
      "[1, 4, 9, 16, 25, 36, 49, 64, 81]\n"
     ]
    }
   ],
   "source": [
    "# Example 1 using list comprehension\n",
    "\n",
    "b = [1,2,3,4,5,6,7,8,9]\n",
    "\n",
    "lst_comp = [i*i for i in b]\n",
    "\n",
    "print(lst_comp)"
   ]
  },
  {
   "cell_type": "code",
   "execution_count": 6,
   "id": "2557d826",
   "metadata": {},
   "outputs": [
    {
     "name": "stdout",
     "output_type": "stream",
     "text": [
      "[4, 16, 36, 64]\n"
     ]
    }
   ],
   "source": [
    "lst_comp_2 = [i*i for i in b if i%2==0]\n",
    "print(lst_comp_2)"
   ]
  },
  {
   "cell_type": "markdown",
   "id": "df1d87cf",
   "metadata": {},
   "source": [
    "### Some other examples:"
   ]
  },
  {
   "cell_type": "code",
   "execution_count": 2,
   "id": "b8ad013a",
   "metadata": {},
   "outputs": [
    {
     "name": "stdout",
     "output_type": "stream",
     "text": [
      "[1, 9, 25, 49, 81]\n"
     ]
    }
   ],
   "source": [
    "a = [x**2 for x in range(1,11) if x%2 == 1]\n",
    "print(a)"
   ]
  },
  {
   "cell_type": "code",
   "execution_count": 5,
   "id": "b02e7ad9",
   "metadata": {
    "scrolled": true
   },
   "outputs": [
    {
     "name": "stdout",
     "output_type": "stream",
     "text": [
      "[0, 1, 4, 9, 16, 25, 36, 49, 64, 81]\n"
     ]
    }
   ],
   "source": [
    "a = [x**2 for x in range(10)]\n",
    "print(a)"
   ]
  },
  {
   "cell_type": "code",
   "execution_count": 3,
   "id": "2f42c7f3",
   "metadata": {},
   "outputs": [
    {
     "name": "stdout",
     "output_type": "stream",
     "text": [
      "[1, 2, 4, 8, 16, 32, 64, 128, 256, 512, 1024, 2048, 4096]\n"
     ]
    }
   ],
   "source": [
    "value = [2**i for i in range(13)]\n",
    "print(value)"
   ]
  },
  {
   "cell_type": "code",
   "execution_count": 4,
   "id": "4109bf69",
   "metadata": {},
   "outputs": [
    {
     "name": "stdout",
     "output_type": "stream",
     "text": [
      "[0, 4, 16, 36, 64]\n"
     ]
    }
   ],
   "source": [
    "a = [x**2 for x in range(10)]\n",
    "b = [y for y in a if y%2 == 0]\n",
    "print(b)"
   ]
  },
  {
   "cell_type": "code",
   "execution_count": null,
   "id": "66a279cc",
   "metadata": {},
   "outputs": [],
   "source": [
    "# Nested List Comprehension:"
   ]
  },
  {
   "cell_type": "code",
   "execution_count": 1,
   "id": "8921e5f5",
   "metadata": {},
   "outputs": [
    {
     "name": "stdout",
     "output_type": "stream",
     "text": [
      "[[0, 1, 2, 3, 4], [0, 1, 2, 3, 4], [0, 1, 2, 3, 4], [0, 1, 2, 3, 4], [0, 1, 2, 3, 4]]\n"
     ]
    }
   ],
   "source": [
    "matrix = []\n",
    "for i in range(5):\n",
    "    matrix.append([])   # this will add [] in matrix \n",
    "    for j in range(5):\n",
    "        matrix[i].append(j)   # this will add the elemnted in already added matrix\n",
    "print(matrix)        "
   ]
  },
  {
   "cell_type": "code",
   "execution_count": 2,
   "id": "04ebc912",
   "metadata": {},
   "outputs": [
    {
     "name": "stdout",
     "output_type": "stream",
     "text": [
      "[[0, 1, 2, 3, 4], [0, 1, 2, 3, 4], [0, 1, 2, 3, 4], [0, 1, 2, 3, 4], [0, 1, 2, 3, 4]]\n"
     ]
    }
   ],
   "source": [
    "# the above code can be written in one line called nested\n",
    "\n",
    "matrix = [[j for j in range(5)]for i in range(5)]\n",
    "print(matrix)"
   ]
  },
  {
   "cell_type": "code",
   "execution_count": 5,
   "id": "305f78d5",
   "metadata": {},
   "outputs": [
    {
     "name": "stdout",
     "output_type": "stream",
     "text": [
      "[1, 2, 3, 4, 6, 9, 8, 7]\n"
     ]
    }
   ],
   "source": [
    "# to flatten the 2-D list\n",
    "\n",
    "a = []\n",
    "matrix = [[1,2,3],[4,6],[9,8,7]]\n",
    "for i in matrix:\n",
    "    for j in i:\n",
    "        a.append(j)\n",
    "print(a)        "
   ]
  },
  {
   "cell_type": "code",
   "execution_count": 10,
   "id": "85565fe9",
   "metadata": {},
   "outputs": [
    {
     "name": "stdout",
     "output_type": "stream",
     "text": [
      "[1, 2, 3, 4, 6, 9, 8, 7]\n"
     ]
    }
   ],
   "source": [
    "# to flatten 2-D list by nested\n",
    "\n",
    "matrix = [[1,2,3],[4,6],[9,8,7]]\n",
    "a = [j for i in matrix for j in i]\n",
    "print(a)"
   ]
  }
 ],
 "metadata": {
  "kernelspec": {
   "display_name": "Python 3",
   "language": "python",
   "name": "python3"
  },
  "language_info": {
   "codemirror_mode": {
    "name": "ipython",
    "version": 3
   },
   "file_extension": ".py",
   "mimetype": "text/x-python",
   "name": "python",
   "nbconvert_exporter": "python",
   "pygments_lexer": "ipython3",
   "version": "3.8.8"
  }
 },
 "nbformat": 4,
 "nbformat_minor": 5
}
