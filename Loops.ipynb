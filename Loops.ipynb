{
 "cells": [
  {
   "cell_type": "code",
   "execution_count": 1,
   "id": "896bfa24",
   "metadata": {},
   "outputs": [
    {
     "name": "stdout",
     "output_type": "stream",
     "text": [
      "Abi\n",
      "Anu\n",
      "Arivu\n",
      "Hari\n"
     ]
    }
   ],
   "source": [
    "# for loop:\n",
    "\n",
    "# list\n",
    "\n",
    "a = ['Abi','Anu','Arivu','Hari']\n",
    "for x in a :\n",
    "    print(x)"
   ]
  },
  {
   "cell_type": "code",
   "execution_count": 17,
   "id": "e8e96289",
   "metadata": {},
   "outputs": [
    {
     "name": "stdout",
     "output_type": "stream",
     "text": [
      "H\n",
      "e\n",
      "l\n",
      "l\n",
      "o\n",
      " \n",
      "w\n",
      "o\n",
      "r\n",
      "d\n"
     ]
    }
   ],
   "source": [
    "# for loop in string\n",
    "\n",
    "a = \"Hello word\"\n",
    "for x in a :\n",
    "    print(x)"
   ]
  },
  {
   "cell_type": "code",
   "execution_count": 4,
   "id": "b3ea345a",
   "metadata": {},
   "outputs": [
    {
     "name": "stdout",
     "output_type": "stream",
     "text": [
      "Apple\n",
      "Bannana\n"
     ]
    }
   ],
   "source": [
    "fruits = ['Apple','Bannana','Orange']\n",
    "for x in fruits :\n",
    "    print(x)\n",
    "    if x == 'Bannana' :\n",
    "        break"
   ]
  },
  {
   "cell_type": "code",
   "execution_count": 7,
   "id": "a2bee548",
   "metadata": {},
   "outputs": [
    {
     "name": "stdout",
     "output_type": "stream",
     "text": [
      "Apple\n"
     ]
    }
   ],
   "source": [
    "fruits = ['Apple','Bannana','Orange']\n",
    "for x in fruits :\n",
    "    if x == 'Bannana' :\n",
    "        break\n",
    "    print(x)"
   ]
  },
  {
   "cell_type": "code",
   "execution_count": 8,
   "id": "2e9f5aa2",
   "metadata": {
    "scrolled": true
   },
   "outputs": [
    {
     "name": "stdout",
     "output_type": "stream",
     "text": [
      "Apple\n",
      "Orange\n"
     ]
    }
   ],
   "source": [
    "fruits = ['Apple','Bannana','Orange']\n",
    "for x in fruits :\n",
    "    if x == 'Bannana' :\n",
    "        continue                       # skip that word alone\n",
    "    print(x)    "
   ]
  },
  {
   "cell_type": "code",
   "execution_count": 16,
   "id": "d5fa1f48",
   "metadata": {},
   "outputs": [],
   "source": [
    "fruits = ['Apple','Bannana','Orange']\n",
    "for x in fruits :\n",
    "    if x == 'Bannana' :\n",
    "        pass                        # it will run but no output"
   ]
  },
  {
   "cell_type": "code",
   "execution_count": 10,
   "id": "8f5f8867",
   "metadata": {},
   "outputs": [
    {
     "name": "stdout",
     "output_type": "stream",
     "text": [
      "2\n",
      "3\n",
      "4\n",
      "5\n",
      "2\n",
      "4\n",
      "6\n",
      "8\n",
      "10\n",
      "12\n",
      "14\n",
      "16\n",
      "18\n"
     ]
    }
   ],
   "source": [
    "# Range\n",
    "\n",
    "for x in range (2,6) :\n",
    "    print(x) \n",
    "    \n",
    "for y in range (2,20,2) :    # increment b/w numbers by 2\n",
    "    print(y)"
   ]
  },
  {
   "cell_type": "code",
   "execution_count": 12,
   "id": "ee6427f3",
   "metadata": {},
   "outputs": [
    {
     "name": "stdout",
     "output_type": "stream",
     "text": [
      "0\n",
      "1\n",
      "2\n"
     ]
    }
   ],
   "source": [
    "for x in range(6) :\n",
    "    if x == 3 :\n",
    "        break      # break and continue cannot be used in same loop\n",
    "    print(x)\n",
    "else :\n",
    "        print(\"reached final\")"
   ]
  },
  {
   "cell_type": "code",
   "execution_count": 13,
   "id": "1ab19718",
   "metadata": {},
   "outputs": [
    {
     "name": "stdout",
     "output_type": "stream",
     "text": [
      "0\n",
      "1\n",
      "2\n",
      "4\n",
      "5\n",
      "reached final\n"
     ]
    }
   ],
   "source": [
    "for x in range(6) :\n",
    "    if x == 3 :\n",
    "        continue\n",
    "    print(x)\n",
    "else :\n",
    "    print(\"reached final\")"
   ]
  },
  {
   "cell_type": "code",
   "execution_count": 14,
   "id": "a7e66068",
   "metadata": {},
   "outputs": [
    {
     "name": "stdout",
     "output_type": "stream",
     "text": [
      "apple orange\n",
      "apple pomo\n",
      "apple mango\n",
      "bannana orange\n",
      "bannana pomo\n",
      "bannana mango\n",
      "cherry orange\n",
      "cherry pomo\n",
      "cherry mango\n"
     ]
    }
   ],
   "source": [
    "# nested loop\n",
    "\n",
    "fruit1 = ['apple','bannana','cherry']\n",
    "fruit2 = ['orange','pomo','mango']\n",
    "for x in fruit1 :\n",
    "    for y in fruit2 :\n",
    "        print(x,y)"
   ]
  },
  {
   "cell_type": "code",
   "execution_count": 18,
   "id": "8ec8851b",
   "metadata": {},
   "outputs": [
    {
     "name": "stdout",
     "output_type": "stream",
     "text": [
      "1\n",
      "2\n",
      "3\n",
      "4\n",
      "5\n",
      "6\n",
      "7\n",
      "8\n",
      "9\n",
      "10\n",
      "11\n",
      "12\n",
      "13\n",
      "14\n",
      "15\n",
      "16\n",
      "17\n",
      "18\n",
      "19\n"
     ]
    }
   ],
   "source": [
    "# while loop\n",
    "\n",
    "i = 1\n",
    "while i < 20 :\n",
    "    print(i)\n",
    "    i += 1"
   ]
  },
  {
   "cell_type": "code",
   "execution_count": 19,
   "id": "f0378bc1",
   "metadata": {},
   "outputs": [
    {
     "name": "stdout",
     "output_type": "stream",
     "text": [
      "1\n"
     ]
    }
   ],
   "source": [
    "# while loop\n",
    "\n",
    "i = 1\n",
    "while i < 20 :\n",
    "    print(i)\n",
    "    i += 1\n",
    "    break"
   ]
  },
  {
   "cell_type": "code",
   "execution_count": 20,
   "id": "709109a0",
   "metadata": {},
   "outputs": [
    {
     "name": "stdout",
     "output_type": "stream",
     "text": [
      "1\n",
      "2\n",
      "3\n",
      "4\n",
      "5\n",
      "6\n",
      "7\n",
      "8\n",
      "9\n",
      "10\n",
      "11\n",
      "12\n",
      "13\n",
      "14\n",
      "15\n",
      "16\n",
      "17\n",
      "18\n",
      "19\n"
     ]
    }
   ],
   "source": [
    "i = 1\n",
    "while i < 20 :\n",
    "    print(i)\n",
    "    i += 1\n",
    "    continue"
   ]
  },
  {
   "cell_type": "code",
   "execution_count": 21,
   "id": "91c6f8fd",
   "metadata": {
    "scrolled": true
   },
   "outputs": [
    {
     "name": "stdout",
     "output_type": "stream",
     "text": [
      "Enter the guess value8\n",
      "You fail\n",
      "Enter the guess value6\n",
      "You fail\n",
      "Enter the guess value12\n",
      "You Win\n"
     ]
    }
   ],
   "source": [
    "# Secret Game   ( by using while and if statement)\n",
    "\n",
    "secret_number = 12\n",
    "guess_count = 0\n",
    "guess_limit = 3\n",
    "while guess_count < guess_limit :\n",
    "    guess = int(input(\"Enter the guess value\"))\n",
    "    guess_count += 1\n",
    "    if guess == secret_number :\n",
    "        print(\"You Win\")\n",
    "        break\n",
    "    else :\n",
    "        print(\"You fail\")"
   ]
  },
  {
   "cell_type": "code",
   "execution_count": 1,
   "id": "86c566da",
   "metadata": {},
   "outputs": [
    {
     "name": "stdout",
     "output_type": "stream",
     "text": [
      ">start\n",
      "car started\n",
      ">stop\n",
      "car stopped\n",
      ">help\n",
      "> start >stop >quit\n",
      ">quit\n",
      "car quitted\n"
     ]
    }
   ],
   "source": [
    "# Car Game\n",
    "\n",
    "command = \"\"\n",
    "started = False\n",
    "while True :\n",
    "    command = input(\">\").lower()\n",
    "    if command == \"start\" :\n",
    "        if started :\n",
    "            print(\"Already started\")\n",
    "        else :\n",
    "            started = True\n",
    "        print(\"car started\")\n",
    "    elif command == 'stop' :\n",
    "        if not started :\n",
    "            print(\"Already stopped\")\n",
    "        else :\n",
    "            started = False\n",
    "            print(\"car stopped\")\n",
    "    elif command == 'help' :\n",
    "        print('''> start >stop >quit''')\n",
    "    elif command == 'quit' :\n",
    "        print(\"car quitted\")\n",
    "        break\n",
    "    else :\n",
    "        print(\"don't understand the command\")"
   ]
  }
 ],
 "metadata": {
  "kernelspec": {
   "display_name": "Python 3",
   "language": "python",
   "name": "python3"
  },
  "language_info": {
   "codemirror_mode": {
    "name": "ipython",
    "version": 3
   },
   "file_extension": ".py",
   "mimetype": "text/x-python",
   "name": "python",
   "nbconvert_exporter": "python",
   "pygments_lexer": "ipython3",
   "version": "3.8.8"
  }
 },
 "nbformat": 4,
 "nbformat_minor": 5
}
