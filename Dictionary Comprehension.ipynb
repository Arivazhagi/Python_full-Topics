{
 "cells": [
  {
   "cell_type": "code",
   "execution_count": null,
   "id": "63237c54",
   "metadata": {},
   "outputs": [],
   "source": [
    "# Dictionary Comprehension"
   ]
  },
  {
   "cell_type": "code",
   "execution_count": 1,
   "id": "62ecaae7",
   "metadata": {},
   "outputs": [
    {
     "name": "stdout",
     "output_type": "stream",
     "text": [
      "{'a': 1, 'b': 2, 'c': 3, 'd': 4, 'e': 5}\n"
     ]
    }
   ],
   "source": [
    "keys = ['a','b','c','d','e']\n",
    "values = [1,2,3,4,5]\n",
    "myDict = {k:v for (k,v) in zip(keys,values)}\n",
    "print(myDict)"
   ]
  },
  {
   "cell_type": "code",
   "execution_count": 2,
   "id": "fd2a618b",
   "metadata": {},
   "outputs": [
    {
     "name": "stdout",
     "output_type": "stream",
     "text": [
      "{'a': 1, 'b': 2, 'c': 3, 'd': 4, 'e': 5}\n"
     ]
    }
   ],
   "source": [
    "# another method (using in-built function)\n",
    "\n",
    "keys = ['a','b','c','d','e']\n",
    "values = [1,2,3,4,5]\n",
    "myDict = dict(zip(keys,values))\n",
    "print(myDict)"
   ]
  },
  {
   "cell_type": "code",
   "execution_count": 3,
   "id": "274db72e",
   "metadata": {},
   "outputs": [
    {
     "name": "stdout",
     "output_type": "stream",
     "text": [
      "{1: 1, 2: 4, 3: 9, 4: 16, 5: 25}\n"
     ]
    }
   ],
   "source": [
    "myDict = {x:x**2 for x in [1,2,3,4,5]}\n",
    "print(myDict)"
   ]
  },
  {
   "cell_type": "code",
   "execution_count": 4,
   "id": "b1dbf83c",
   "metadata": {},
   "outputs": [
    {
     "name": "stdout",
     "output_type": "stream",
     "text": [
      "{0: 0, 1: 1, 2: 4, 3: 9, 4: 16, 5: 25, 6: 36, 7: 49, 8: 64, 9: 81}\n"
     ]
    }
   ],
   "source": [
    "myDict = {x:x**2 for x in range(10)}\n",
    "print(myDict)"
   ]
  },
  {
   "cell_type": "code",
   "execution_count": 6,
   "id": "c2bd477a",
   "metadata": {},
   "outputs": [
    {
     "name": "stdout",
     "output_type": "stream",
     "text": [
      "{0: 0, 1: 1, 2: 8, 3: 27, 4: 64, 5: 125, 6: 216, 7: 343, 8: 512, 9: 729}\n"
     ]
    }
   ],
   "source": [
    "myDict = {x:x**3 for x in range(10)}\n",
    "print(myDict)"
   ]
  },
  {
   "cell_type": "code",
   "execution_count": 7,
   "id": "1c32dde1",
   "metadata": {},
   "outputs": [
    {
     "name": "stdout",
     "output_type": "stream",
     "text": [
      "{0: 0, 2: 8, 4: 64, 6: 216, 8: 512}\n"
     ]
    }
   ],
   "source": [
    "myDict = {x:x**3 for x in range(10) if x**3%4 == 0}\n",
    "print(myDict)"
   ]
  },
  {
   "cell_type": "code",
   "execution_count": 9,
   "id": "7725c72f",
   "metadata": {},
   "outputs": [
    {
     "name": "stdout",
     "output_type": "stream",
     "text": [
      "{0: 0, 4: 64, 8: 512}\n"
     ]
    }
   ],
   "source": [
    "myDict = {x:x**3 for x in range(10) if x%4 == 0}\n",
    "print(myDict)"
   ]
  },
  {
   "cell_type": "code",
   "execution_count": 1,
   "id": "8beb21b3",
   "metadata": {},
   "outputs": [
    {
     "name": "stdout",
     "output_type": "stream",
     "text": [
      "{'car1': {'Ambassador': 1960}, 'car2': {'Marudi': 1970}, 'car3': {'Benz': 1980}}\n"
     ]
    }
   ],
   "source": [
    "car1_model = {'Ambassador':1960} \n",
    "car2_model = {'Marudi':1970}\n",
    "car3_model = {'Benz':1980}\n",
    "car4_model = {'Audi':1996}\n",
    "\n",
    "car_variety = {'car1':car1_model, 'car2':car2_model, 'car3':car3_model}\n",
    "\n",
    "print(car_variety)     # o/p = key:{key,value}, so value for car1 = 1960"
   ]
  },
  {
   "cell_type": "code",
   "execution_count": 2,
   "id": "2f464d37",
   "metadata": {},
   "outputs": [
    {
     "name": "stdout",
     "output_type": "stream",
     "text": [
      "{'Ambassador': 1960}\n"
     ]
    }
   ],
   "source": [
    "# Accessing the item\n",
    "\n",
    "print(car_variety['car1'])"
   ]
  },
  {
   "cell_type": "code",
   "execution_count": 5,
   "id": "9058a405",
   "metadata": {},
   "outputs": [
    {
     "name": "stdout",
     "output_type": "stream",
     "text": [
      "1970\n"
     ]
    }
   ],
   "source": [
    "print(car_variety['car2']['Marudi'])"
   ]
  }
 ],
 "metadata": {
  "kernelspec": {
   "display_name": "Python 3",
   "language": "python",
   "name": "python3"
  },
  "language_info": {
   "codemirror_mode": {
    "name": "ipython",
    "version": 3
   },
   "file_extension": ".py",
   "mimetype": "text/x-python",
   "name": "python",
   "nbconvert_exporter": "python",
   "pygments_lexer": "ipython3",
   "version": "3.8.8"
  }
 },
 "nbformat": 4,
 "nbformat_minor": 5
}
