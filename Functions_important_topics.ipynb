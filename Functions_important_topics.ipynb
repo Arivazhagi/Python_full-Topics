{
 "cells": [
  {
   "cell_type": "markdown",
   "id": "794089db",
   "metadata": {},
   "source": [
    "## Difference between Keyword argument and Positional argument"
   ]
  },
  {
   "cell_type": "code",
   "execution_count": null,
   "id": "0fe78d16",
   "metadata": {},
   "outputs": [],
   "source": [
    "def hello(*args,**kwargs):\n",
    "    print(args)\n",
    "    print(kwargs)"
   ]
  },
  {
   "cell_type": "code",
   "execution_count": 2,
   "id": "73fcac7b",
   "metadata": {},
   "outputs": [
    {
     "name": "stdout",
     "output_type": "stream",
     "text": [
      "('Anu', 'Priya')\n",
      "{'age': 30, 'dob': 1980}\n"
     ]
    }
   ],
   "source": [
    "hello(\"Anu\",\"Priya\",age=30,dob=1980)"
   ]
  },
  {
   "cell_type": "code",
   "execution_count": 3,
   "id": "35b3146a",
   "metadata": {},
   "outputs": [],
   "source": [
    "# another method\n",
    "\n",
    "list1 = ['Anu', 'Priya']\n",
    "dict1 = {'age': 30, 'dob': 1980}"
   ]
  },
  {
   "cell_type": "code",
   "execution_count": 4,
   "id": "77c6e8e0",
   "metadata": {},
   "outputs": [
    {
     "name": "stdout",
     "output_type": "stream",
     "text": [
      "(['Anu', 'Priya'], {'age': 30, 'dob': 1980})\n",
      "{}\n"
     ]
    }
   ],
   "source": [
    "hello(list1,dict1)   # it is wrong way because it takes both as args and gives kwargs as empty"
   ]
  },
  {
   "cell_type": "code",
   "execution_count": 5,
   "id": "6a7320a0",
   "metadata": {},
   "outputs": [
    {
     "name": "stdout",
     "output_type": "stream",
     "text": [
      "('Anu', 'Priya')\n",
      "{'age': 30, 'dob': 1980}\n"
     ]
    }
   ],
   "source": [
    "# in order to fix this \n",
    "\n",
    "hello(*list1, **dict1)"
   ]
  },
  {
   "cell_type": "code",
   "execution_count": 6,
   "id": "3598e4c1",
   "metadata": {},
   "outputs": [],
   "source": [
    "list2 = [1,2,3,4,5,6,7,8,9]\n",
    "\n",
    "def evenoddsum(list2):\n",
    "    even_sum = 0\n",
    "    odd_sum = 0\n",
    "    for x in list2:\n",
    "        if x%2 == 0:\n",
    "            even_sum += x\n",
    "        else:\n",
    "            odd_sum += x\n",
    "    return even_sum, odd_sum        "
   ]
  },
  {
   "cell_type": "code",
   "execution_count": 7,
   "id": "17180474",
   "metadata": {},
   "outputs": [
    {
     "data": {
      "text/plain": [
       "(20, 25)"
      ]
     },
     "execution_count": 7,
     "metadata": {},
     "output_type": "execute_result"
    }
   ],
   "source": [
    "evenoddsum(list2)"
   ]
  },
  {
   "cell_type": "markdown",
   "id": "0b491463",
   "metadata": {},
   "source": [
    "## Map Function"
   ]
  },
  {
   "cell_type": "code",
   "execution_count": 8,
   "id": "5a63829e",
   "metadata": {},
   "outputs": [],
   "source": [
    "def even_or_odd(num):\n",
    "    if num%2 == 0:\n",
    "        return \"The number {} is Even\".format(num)\n",
    "    else:\n",
    "        return \"The number {} is Odd\".format(num)"
   ]
  },
  {
   "cell_type": "code",
   "execution_count": 9,
   "id": "2107bc88",
   "metadata": {},
   "outputs": [
    {
     "data": {
      "text/plain": [
       "'The number 24 is Even'"
      ]
     },
     "execution_count": 9,
     "metadata": {},
     "output_type": "execute_result"
    }
   ],
   "source": [
    "even_or_odd(24)"
   ]
  },
  {
   "cell_type": "code",
   "execution_count": 10,
   "id": "c22849ac",
   "metadata": {},
   "outputs": [],
   "source": [
    "list3 = [10,11,12,23,34,45,56,67,78,89,90]"
   ]
  },
  {
   "cell_type": "code",
   "execution_count": 11,
   "id": "4bc56403",
   "metadata": {},
   "outputs": [
    {
     "data": {
      "text/plain": [
       "<map at 0x7f121c0fc730>"
      ]
     },
     "execution_count": 11,
     "metadata": {},
     "output_type": "execute_result"
    }
   ],
   "source": [
    "map(even_or_odd,list3)  \n",
    "\n",
    "# it is an easy calculation \n",
    "# we use map instead of writing lines of code like for loop, taking each items in the list3 and then doing if-else"
   ]
  },
  {
   "cell_type": "code",
   "execution_count": 12,
   "id": "adedba43",
   "metadata": {},
   "outputs": [
    {
     "data": {
      "text/plain": [
       "['The number 10 is Even',\n",
       " 'The number 11 is Odd',\n",
       " 'The number 12 is Even',\n",
       " 'The number 23 is Odd',\n",
       " 'The number 34 is Even',\n",
       " 'The number 45 is Odd',\n",
       " 'The number 56 is Even',\n",
       " 'The number 67 is Odd',\n",
       " 'The number 78 is Even',\n",
       " 'The number 89 is Odd',\n",
       " 'The number 90 is Even']"
      ]
     },
     "execution_count": 12,
     "metadata": {},
     "output_type": "execute_result"
    }
   ],
   "source": [
    "# To view the values use list\n",
    "\n",
    "list(map(even_or_odd,list3))  # map func contains function name, iterable data"
   ]
  },
  {
   "cell_type": "markdown",
   "id": "3da93f5b",
   "metadata": {},
   "source": [
    "## Lambda Function\n",
    "\n",
    "### It is also called as Anonymous Function\n",
    "A function with No Name"
   ]
  },
  {
   "cell_type": "code",
   "execution_count": 14,
   "id": "fe343210",
   "metadata": {},
   "outputs": [
    {
     "data": {
      "text/plain": [
       "9"
      ]
     },
     "execution_count": 14,
     "metadata": {},
     "output_type": "execute_result"
    }
   ],
   "source": [
    "def addition(a,b):\n",
    "    return a+b\n",
    "addition(4,5)"
   ]
  },
  {
   "cell_type": "code",
   "execution_count": 16,
   "id": "90f2adc4",
   "metadata": {},
   "outputs": [],
   "source": [
    "add = lambda a,b:a+b    \n",
    "\n",
    "# it is possible only if it have single return operation\n",
    "# lambda funtion contains number of variables:operation"
   ]
  },
  {
   "cell_type": "code",
   "execution_count": 18,
   "id": "45c84cca",
   "metadata": {},
   "outputs": [
    {
     "data": {
      "text/plain": [
       "12"
      ]
     },
     "execution_count": 18,
     "metadata": {},
     "output_type": "execute_result"
    }
   ],
   "source": [
    "add(5,7)"
   ]
  },
  {
   "cell_type": "code",
   "execution_count": 19,
   "id": "0b138f9e",
   "metadata": {},
   "outputs": [
    {
     "data": {
      "text/plain": [
       "True"
      ]
     },
     "execution_count": 19,
     "metadata": {},
     "output_type": "execute_result"
    }
   ],
   "source": [
    "def even(num):\n",
    "    if num%2==0:\n",
    "        return True\n",
    "even(24)    "
   ]
  },
  {
   "cell_type": "code",
   "execution_count": 20,
   "id": "e5279765",
   "metadata": {},
   "outputs": [],
   "source": [
    "ev = lambda a:a%2==0"
   ]
  },
  {
   "cell_type": "code",
   "execution_count": 22,
   "id": "1e2a58aa",
   "metadata": {},
   "outputs": [
    {
     "data": {
      "text/plain": [
       "False"
      ]
     },
     "execution_count": 22,
     "metadata": {},
     "output_type": "execute_result"
    }
   ],
   "source": [
    "ev(25)"
   ]
  },
  {
   "cell_type": "code",
   "execution_count": 23,
   "id": "e5dd5ce8",
   "metadata": {},
   "outputs": [
    {
     "data": {
      "text/plain": [
       "15"
      ]
     },
     "execution_count": 23,
     "metadata": {},
     "output_type": "execute_result"
    }
   ],
   "source": [
    "def add(x,y,z):\n",
    "    return x+y+z\n",
    "add(2,5,8)"
   ]
  },
  {
   "cell_type": "code",
   "execution_count": 24,
   "id": "e2baf8dc",
   "metadata": {},
   "outputs": [],
   "source": [
    "a = lambda p,q,r:p+q+r"
   ]
  },
  {
   "cell_type": "code",
   "execution_count": 25,
   "id": "a0f8005f",
   "metadata": {},
   "outputs": [
    {
     "data": {
      "text/plain": [
       "18"
      ]
     },
     "execution_count": 25,
     "metadata": {},
     "output_type": "execute_result"
    }
   ],
   "source": [
    "a(5,6,7)"
   ]
  },
  {
   "cell_type": "markdown",
   "id": "eaf5ceaa",
   "metadata": {},
   "source": [
    "# Filter Function"
   ]
  },
  {
   "cell_type": "code",
   "execution_count": 1,
   "id": "ee1ddc1f",
   "metadata": {},
   "outputs": [],
   "source": [
    "def even(num):\n",
    "    if num%2==0:\n",
    "        return True"
   ]
  },
  {
   "cell_type": "code",
   "execution_count": 2,
   "id": "d184fd2b",
   "metadata": {},
   "outputs": [],
   "source": [
    "list_1 = [1,2,3,4,5,6,7,8,9,0]"
   ]
  },
  {
   "cell_type": "code",
   "execution_count": 3,
   "id": "1b30fb4f",
   "metadata": {},
   "outputs": [
    {
     "data": {
      "text/plain": [
       "<filter at 0x7f48d0496f40>"
      ]
     },
     "execution_count": 3,
     "metadata": {},
     "output_type": "execute_result"
    }
   ],
   "source": [
    "filter(even,list_1)"
   ]
  },
  {
   "cell_type": "code",
   "execution_count": 4,
   "id": "072905ea",
   "metadata": {},
   "outputs": [
    {
     "data": {
      "text/plain": [
       "[2, 4, 6, 8, 0]"
      ]
     },
     "execution_count": 4,
     "metadata": {},
     "output_type": "execute_result"
    }
   ],
   "source": [
    "# To View\n",
    "list(filter(even,list_1))"
   ]
  },
  {
   "cell_type": "code",
   "execution_count": 5,
   "id": "15e23a85",
   "metadata": {},
   "outputs": [
    {
     "data": {
      "text/plain": [
       "[2, 4, 6, 8, 0]"
      ]
     },
     "execution_count": 5,
     "metadata": {},
     "output_type": "execute_result"
    }
   ],
   "source": [
    "# Also use lambda along with filter\n",
    "\n",
    "list(filter(lambda num:num%2==0, list_1))"
   ]
  },
  {
   "cell_type": "code",
   "execution_count": 6,
   "id": "223073d0",
   "metadata": {},
   "outputs": [
    {
     "data": {
      "text/plain": [
       "[False, True, False, True, False, True, False, True, False, True]"
      ]
     },
     "execution_count": 6,
     "metadata": {},
     "output_type": "execute_result"
    }
   ],
   "source": [
    "# Also use map instead of filter\n",
    "\n",
    "list(map(lambda num:num%2==0, list_1))"
   ]
  },
  {
   "cell_type": "markdown",
   "id": "8fbac808",
   "metadata": {},
   "source": [
    "# Python List Iterables vs Iterators"
   ]
  },
  {
   "cell_type": "code",
   "execution_count": 1,
   "id": "e338370f",
   "metadata": {
    "scrolled": true
   },
   "outputs": [
    {
     "name": "stdout",
     "output_type": "stream",
     "text": [
      "1\n",
      "2\n",
      "3\n",
      "4\n",
      "5\n",
      "6\n",
      "7\n",
      "8\n",
      "9\n"
     ]
    }
   ],
   "source": [
    "# List is iterable:\n",
    "\n",
    "list_1 = [1,2,3,4,5,6,7,8,9]\n",
    "\n",
    "for i in list_1:\n",
    "    print(i)"
   ]
  },
  {
   "cell_type": "markdown",
   "id": "7f5d6d86",
   "metadata": {},
   "source": [
    "####  This concept is used when we have huge elements in the list but we need only some elements which is necessary to be             stored in the memory . And the unnecessary values be skipped for storage purpose.\n",
    "\n",
    "### Property: \n",
    "     In Iterable as soon as list is initialized all/each values are stored in different memory location. But, \n",
    "     In Iter it is not stored once initialized instead once we call the \"next()\" then only the particular value is stored in memory location."
   ]
  },
  {
   "cell_type": "code",
   "execution_count": 2,
   "id": "7a132906",
   "metadata": {},
   "outputs": [],
   "source": [
    "# Iters are defined by an in-built function:  \n",
    "\n",
    "list_2 = iter(list_1)"
   ]
  },
  {
   "cell_type": "code",
   "execution_count": 3,
   "id": "133d9593",
   "metadata": {},
   "outputs": [
    {
     "data": {
      "text/plain": [
       "<list_iterator at 0x7fba74487f10>"
      ]
     },
     "execution_count": 3,
     "metadata": {},
     "output_type": "execute_result"
    }
   ],
   "source": [
    "list_2         # Stored in a memory retrived by using next()"
   ]
  },
  {
   "cell_type": "code",
   "execution_count": 4,
   "id": "dc0b78f2",
   "metadata": {},
   "outputs": [
    {
     "data": {
      "text/plain": [
       "1"
      ]
     },
     "execution_count": 4,
     "metadata": {},
     "output_type": "execute_result"
    }
   ],
   "source": [
    "next(list_2)   # it stores one-by-one element in the list when it called."
   ]
  },
  {
   "cell_type": "code",
   "execution_count": 5,
   "id": "ea9354c5",
   "metadata": {
    "scrolled": true
   },
   "outputs": [
    {
     "data": {
      "text/plain": [
       "2"
      ]
     },
     "execution_count": 5,
     "metadata": {},
     "output_type": "execute_result"
    }
   ],
   "source": [
    "next(list_2)   # To view the next element again it is executed"
   ]
  },
  {
   "cell_type": "code",
   "execution_count": 12,
   "id": "0a03c8ae",
   "metadata": {},
   "outputs": [
    {
     "data": {
      "text/plain": [
       "9"
      ]
     },
     "execution_count": 12,
     "metadata": {},
     "output_type": "execute_result"
    }
   ],
   "source": [
    "next(list_2)   # executing repeatedly gives each and every element upto last element"
   ]
  },
  {
   "cell_type": "code",
   "execution_count": 13,
   "id": "48daf9b9",
   "metadata": {
    "scrolled": true
   },
   "outputs": [
    {
     "ename": "StopIteration",
     "evalue": "",
     "output_type": "error",
     "traceback": [
      "\u001b[0;31m---------------------------------------------------------------------------\u001b[0m",
      "\u001b[0;31mStopIteration\u001b[0m                             Traceback (most recent call last)",
      "\u001b[0;32m<ipython-input-13-93fb95d771f5>\u001b[0m in \u001b[0;36m<module>\u001b[0;34m\u001b[0m\n\u001b[0;32m----> 1\u001b[0;31m \u001b[0mnext\u001b[0m\u001b[0;34m(\u001b[0m\u001b[0mlist_2\u001b[0m\u001b[0;34m)\u001b[0m\u001b[0;34m\u001b[0m\u001b[0;34m\u001b[0m\u001b[0m\n\u001b[0m",
      "\u001b[0;31mStopIteration\u001b[0m: "
     ]
    }
   ],
   "source": [
    "next(list_2)   # after the elements are over it gives StopIteration Error"
   ]
  },
  {
   "cell_type": "code",
   "execution_count": 15,
   "id": "843dcafc",
   "metadata": {},
   "outputs": [
    {
     "name": "stdout",
     "output_type": "stream",
     "text": [
      "1\n",
      "2\n",
      "3\n",
      "4\n",
      "5\n",
      "6\n",
      "7\n",
      "8\n",
      "9\n"
     ]
    }
   ],
   "source": [
    "# In order not to get stop iteration error wee can also use for loop which itself stop the iteration.\n",
    "\n",
    "list_2 = iter(list_1)\n",
    "for i in list_2:\n",
    "    print(i)"
   ]
  },
  {
   "cell_type": "markdown",
   "id": "1081fbc3",
   "metadata": {},
   "source": [
    "# Pyforest -lazy\n",
    "### Import of all Python Data Science Libraries\n",
    "    Pyforest-lazy is very useful to import all popular Python Data Science libraries, So they will be automatically imported/executed."
   ]
  },
  {
   "cell_type": "code",
   "execution_count": null,
   "id": "059fb8f5",
   "metadata": {},
   "outputs": [],
   "source": [
    "Open Anaconda_Prompt - pip install Pyforest    # it will be automatically done in 30secs "
   ]
  },
  {
   "cell_type": "markdown",
   "id": "8e82068b",
   "metadata": {},
   "source": [
    "##### Now when we work in a csv file without importing packages it will be executed"
   ]
  },
  {
   "cell_type": "code",
   "execution_count": null,
   "id": "6eff3af4",
   "metadata": {},
   "outputs": [],
   "source": [
    "# To check the number of packages imported\n",
    "\n",
    "active_imports()      # it gives the libraries that the used(automatically imported) in the file"
   ]
  }
 ],
 "metadata": {
  "kernelspec": {
   "display_name": "Python 3",
   "language": "python",
   "name": "python3"
  },
  "language_info": {
   "codemirror_mode": {
    "name": "ipython",
    "version": 3
   },
   "file_extension": ".py",
   "mimetype": "text/x-python",
   "name": "python",
   "nbconvert_exporter": "python",
   "pygments_lexer": "ipython3",
   "version": "3.8.8"
  }
 },
 "nbformat": 4,
 "nbformat_minor": 5
}
