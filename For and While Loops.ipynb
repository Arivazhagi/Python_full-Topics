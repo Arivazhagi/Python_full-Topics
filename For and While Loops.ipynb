{
 "cells": [
  {
   "cell_type": "code",
   "execution_count": 16,
   "id": "72d97d8c",
   "metadata": {},
   "outputs": [],
   "source": [
    "# for loops"
   ]
  },
  {
   "cell_type": "code",
   "execution_count": 1,
   "id": "d34a1238",
   "metadata": {},
   "outputs": [
    {
     "name": "stdout",
     "output_type": "stream",
     "text": [
      "honda\n",
      "benz\n",
      "bmw\n"
     ]
    }
   ],
   "source": [
    "# Simple for loop\n",
    "\n",
    "car = [\"honda\",\"benz\",\"bmw\"]\n",
    "for i in car:\n",
    "    print(i)"
   ]
  },
  {
   "cell_type": "code",
   "execution_count": 2,
   "id": "07972286",
   "metadata": {},
   "outputs": [
    {
     "name": "stdout",
     "output_type": "stream",
     "text": [
      "p\n",
      "y\n",
      "t\n",
      "h\n",
      "o\n",
      "n\n"
     ]
    }
   ],
   "source": [
    "# looping through string\n",
    "\n",
    "for i in \"python\":\n",
    "    print(i)"
   ]
  },
  {
   "cell_type": "code",
   "execution_count": 4,
   "id": "9bfb9a83",
   "metadata": {},
   "outputs": [
    {
     "name": "stdout",
     "output_type": "stream",
     "text": [
      "honda\n",
      "benz\n"
     ]
    }
   ],
   "source": [
    "# break statement in for loop\n",
    "\n",
    "car = [\"honda\",\"benz\",\"bmw\"]\n",
    "for x in car:\n",
    "    print(x)\n",
    "    if x == \"benz\":\n",
    "        break"
   ]
  },
  {
   "cell_type": "code",
   "execution_count": 6,
   "id": "8f3d5f57",
   "metadata": {},
   "outputs": [
    {
     "name": "stdout",
     "output_type": "stream",
     "text": [
      "honda\n",
      "bmw\n",
      "aadi\n"
     ]
    }
   ],
   "source": [
    "# continue statement in for loop\n",
    "\n",
    "car = [\"honda\",\"benz\",\"bmw\",\"aadi\"]\n",
    "for x in car:\n",
    "    if x == \"benz\":\n",
    "        continue\n",
    "    print(x)    "
   ]
  },
  {
   "cell_type": "code",
   "execution_count": 7,
   "id": "2058daee",
   "metadata": {},
   "outputs": [
    {
     "name": "stdout",
     "output_type": "stream",
     "text": [
      "0\n",
      "1\n",
      "2\n",
      "3\n",
      "4\n",
      "5\n",
      "6\n",
      "7\n",
      "8\n",
      "9\n",
      "\n",
      "2\n",
      "3\n",
      "4\n",
      "5\n",
      "6\n",
      "7\n"
     ]
    }
   ],
   "source": [
    "# using range() function\n",
    "\n",
    "for x in range(10):\n",
    "    print(x)\n",
    "print()\n",
    "for y in range(2,8):\n",
    "    print(y)"
   ]
  },
  {
   "cell_type": "code",
   "execution_count": 8,
   "id": "bdc374ac",
   "metadata": {},
   "outputs": [
    {
     "name": "stdout",
     "output_type": "stream",
     "text": [
      "0\n",
      "1\n",
      "2\n",
      "3\n",
      "4\n",
      "5\n",
      "6\n",
      "7\n",
      "8\n",
      "9\n",
      "Finished\n"
     ]
    }
   ],
   "source": [
    "# else in for loop\n",
    "\n",
    "for x in range(10):\n",
    "    print(x)\n",
    "else :\n",
    "    print(\"Finished\")    "
   ]
  },
  {
   "cell_type": "code",
   "execution_count": 9,
   "id": "901c74a5",
   "metadata": {},
   "outputs": [
    {
     "name": "stdout",
     "output_type": "stream",
     "text": [
      "red honda\n",
      "red bmw\n",
      "red benz\n",
      "blue honda\n",
      "blue bmw\n",
      "blue benz\n",
      "black honda\n",
      "black bmw\n",
      "black benz\n"
     ]
    }
   ],
   "source": [
    "# nested loop\n",
    "\n",
    "car = [\"honda\",\"bmw\",\"benz\"]\n",
    "color = [\"red\",\"blue\",\"black\"]\n",
    "for x in color:\n",
    "    for y in car:\n",
    "        print(x,y)"
   ]
  },
  {
   "cell_type": "code",
   "execution_count": 10,
   "id": "297fe0f3",
   "metadata": {},
   "outputs": [
    {
     "name": "stdout",
     "output_type": "stream",
     "text": [
      "1\n",
      "2\n",
      "3\n",
      "4\n"
     ]
    }
   ],
   "source": [
    "# accessing elements of a set\n",
    "\n",
    "a = {1,2,3,4}\n",
    "for x in a:\n",
    "    print(x)"
   ]
  },
  {
   "cell_type": "code",
   "execution_count": 11,
   "id": "3f90b186",
   "metadata": {},
   "outputs": [
    {
     "name": "stdout",
     "output_type": "stream",
     "text": [
      "('a', 2)\n",
      "('b', 3)\n",
      "('c', 6)\n"
     ]
    }
   ],
   "source": [
    "# iteration of dictionary\n",
    "\n",
    "dic = {\"a\":2,\"b\":3,\"c\":6}\n",
    "for x in dic.items():\n",
    "    print(x)"
   ]
  },
  {
   "cell_type": "code",
   "execution_count": 15,
   "id": "080c6580",
   "metadata": {},
   "outputs": [
    {
     "name": "stdout",
     "output_type": "stream",
     "text": [
      "without list comprenhsion\n",
      "[20, 22, 24, 26, 28, 30, 32, 34, 36, 38]\n",
      "[10, 11, 12, 13, 14, 15, 16, 17, 18, 19]\n",
      "\n",
      " by list comprenhsion\n",
      "[20, 22, 24, 26, 28, 30, 32, 34, 36, 38]\n",
      "[10, 11, 12, 13, 14, 15, 16, 17, 18, 19]\n"
     ]
    }
   ],
   "source": [
    "# without list comprenhsion\n",
    "\n",
    "print(\"without list comprenhsion\")\n",
    "a = list(range(20,40,2))\n",
    "print(a)\n",
    "b = []\n",
    "for x in a:\n",
    "    b.append(x//2)\n",
    "print(b)\n",
    "\n",
    "print()\n",
    "# List comprenhsion (another method of without list comprenhsion)\n",
    "\n",
    "print(\" by list comprenhsion\")\n",
    "c = list(range(20,40,2))\n",
    "print(c)\n",
    "d = [x//2 for x in c]\n",
    "print(d)"
   ]
  },
  {
   "cell_type": "code",
   "execution_count": null,
   "id": "bd1f1d18",
   "metadata": {},
   "outputs": [],
   "source": [
    "# while loops"
   ]
  },
  {
   "cell_type": "code",
   "execution_count": 17,
   "id": "2dbdec6a",
   "metadata": {},
   "outputs": [
    {
     "name": "stdout",
     "output_type": "stream",
     "text": [
      "1\n",
      "2\n",
      "3\n",
      "4\n",
      "5\n"
     ]
    }
   ],
   "source": [
    "# Simple while loop\n",
    "\n",
    "i = 1\n",
    "while(i<6):\n",
    "    print(i)\n",
    "    i = i+1"
   ]
  },
  {
   "cell_type": "code",
   "execution_count": 18,
   "id": "7486bb85",
   "metadata": {},
   "outputs": [
    {
     "name": "stdout",
     "output_type": "stream",
     "text": [
      "1\n",
      "2\n",
      "3\n",
      "4\n"
     ]
    }
   ],
   "source": [
    "# break statement\n",
    "\n",
    "i = 1\n",
    "while(i<6):\n",
    "    print(i)\n",
    "    if i == 4:\n",
    "        break\n",
    "    i += 1    "
   ]
  },
  {
   "cell_type": "code",
   "execution_count": 19,
   "id": "ee1fbf0d",
   "metadata": {},
   "outputs": [
    {
     "name": "stdout",
     "output_type": "stream",
     "text": [
      "9\n",
      "8\n",
      "7\n",
      "6\n",
      "4\n",
      "3\n",
      "2\n",
      "1\n",
      "0\n"
     ]
    }
   ],
   "source": [
    "# continue statement\n",
    "\n",
    "num = 10\n",
    "while num > 0:\n",
    "    num = num - 1\n",
    "    if num == 5:\n",
    "        continue\n",
    "    print(num)    "
   ]
  }
 ],
 "metadata": {
  "kernelspec": {
   "display_name": "Python 3",
   "language": "python",
   "name": "python3"
  },
  "language_info": {
   "codemirror_mode": {
    "name": "ipython",
    "version": 3
   },
   "file_extension": ".py",
   "mimetype": "text/x-python",
   "name": "python",
   "nbconvert_exporter": "python",
   "pygments_lexer": "ipython3",
   "version": "3.8.8"
  }
 },
 "nbformat": 4,
 "nbformat_minor": 5
}
