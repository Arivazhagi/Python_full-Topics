{
 "cells": [
  {
   "cell_type": "code",
   "execution_count": null,
   "id": "a1213ab0",
   "metadata": {},
   "outputs": [],
   "source": [
    "# Operators in Python"
   ]
  },
  {
   "cell_type": "code",
   "execution_count": 1,
   "id": "048f746b",
   "metadata": {},
   "outputs": [
    {
     "name": "stdout",
     "output_type": "stream",
     "text": [
      "13\n"
     ]
    }
   ],
   "source": [
    "# 1. Arithmetic Operators (Used to do all mathemaical operation)\n",
    "# Addition\n",
    "a = 5\n",
    "b = 8\n",
    "c = a+b\n",
    "print(c)"
   ]
  },
  {
   "cell_type": "code",
   "execution_count": 2,
   "id": "be5d30d4",
   "metadata": {},
   "outputs": [
    {
     "name": "stdout",
     "output_type": "stream",
     "text": [
      "6\n"
     ]
    }
   ],
   "source": [
    "# Subtraction\n",
    "a = 8\n",
    "b = 2\n",
    "print(a-b)"
   ]
  },
  {
   "cell_type": "code",
   "execution_count": 3,
   "id": "2e5df767",
   "metadata": {},
   "outputs": [
    {
     "name": "stdout",
     "output_type": "stream",
     "text": [
      "27\n"
     ]
    }
   ],
   "source": [
    "# Multiplication\n",
    "a = 3\n",
    "b = 9\n",
    "print(a*b)"
   ]
  },
  {
   "cell_type": "code",
   "execution_count": 6,
   "id": "af055222",
   "metadata": {},
   "outputs": [
    {
     "name": "stdout",
     "output_type": "stream",
     "text": [
      "4.5\n",
      "3.0\n"
     ]
    }
   ],
   "source": [
    "# Division\n",
    "a = 9\n",
    "b = 2 \n",
    "c = 3\n",
    "print(a/b)\n",
    "print(a/c)"
   ]
  },
  {
   "cell_type": "code",
   "execution_count": 7,
   "id": "0cad2c26",
   "metadata": {},
   "outputs": [
    {
     "name": "stdout",
     "output_type": "stream",
     "text": [
      "1\n"
     ]
    }
   ],
   "source": [
    "# Modulus  -(calculates the reminder of two number)\n",
    "a = 9\n",
    "b = 2\n",
    "print(a%b)"
   ]
  },
  {
   "cell_type": "code",
   "execution_count": 10,
   "id": "b9d316e9",
   "metadata": {},
   "outputs": [
    {
     "name": "stdout",
     "output_type": "stream",
     "text": [
      "25\n",
      "64\n"
     ]
    }
   ],
   "source": [
    "# Exponent  -(calculates the Power of no)\n",
    "a = 5**2     \n",
    "b = 4**3    \n",
    "print(a)\n",
    "print(b)"
   ]
  },
  {
   "cell_type": "code",
   "execution_count": 11,
   "id": "ed2781c6",
   "metadata": {},
   "outputs": [
    {
     "name": "stdout",
     "output_type": "stream",
     "text": [
      "2\n"
     ]
    }
   ],
   "source": [
    "# Floor division    -(gives the Quotient in whole number)\n",
    "a = 12\n",
    "b = 5\n",
    "print(a//b)             # 12 divideby 5 = 2.5 , it gives as whole number 2"
   ]
  },
  {
   "cell_type": "code",
   "execution_count": 22,
   "id": "4f1313ff",
   "metadata": {},
   "outputs": [],
   "source": [
    "# 2. Assignment Operators\n",
    "# Simple assignment\n",
    "a = 5"
   ]
  },
  {
   "cell_type": "code",
   "execution_count": 14,
   "id": "db22f109",
   "metadata": {},
   "outputs": [
    {
     "name": "stdout",
     "output_type": "stream",
     "text": [
      "8\n"
     ]
    }
   ],
   "source": [
    "# Add AND\n",
    "a = 3\n",
    "a += 5         # a = a+5\n",
    "print(a)"
   ]
  },
  {
   "cell_type": "code",
   "execution_count": 15,
   "id": "4fa49a70",
   "metadata": {},
   "outputs": [
    {
     "name": "stdout",
     "output_type": "stream",
     "text": [
      "5\n"
     ]
    }
   ],
   "source": [
    "# Sub AND\n",
    "a = 6 \n",
    "a -=1\n",
    "print(a)"
   ]
  },
  {
   "cell_type": "code",
   "execution_count": 16,
   "id": "cd608aac",
   "metadata": {},
   "outputs": [
    {
     "name": "stdout",
     "output_type": "stream",
     "text": [
      "32\n"
     ]
    }
   ],
   "source": [
    "# Multiply AND\n",
    "a = 8\n",
    "a *=4\n",
    "print(a)"
   ]
  },
  {
   "cell_type": "code",
   "execution_count": 19,
   "id": "f7ae2c74",
   "metadata": {},
   "outputs": [
    {
     "name": "stdout",
     "output_type": "stream",
     "text": [
      "2.0\n"
     ]
    }
   ],
   "source": [
    "# Divide AND\n",
    "a = 6\n",
    "a /=3\n",
    "print(a)"
   ]
  },
  {
   "cell_type": "code",
   "execution_count": 18,
   "id": "f68b6a26",
   "metadata": {},
   "outputs": [
    {
     "name": "stdout",
     "output_type": "stream",
     "text": [
      "4\n"
     ]
    }
   ],
   "source": [
    "# Modulus AND\n",
    "a = 14\n",
    "a %=5\n",
    "print(a)"
   ]
  },
  {
   "cell_type": "code",
   "execution_count": 20,
   "id": "d71981d2",
   "metadata": {},
   "outputs": [
    {
     "name": "stdout",
     "output_type": "stream",
     "text": [
      "81\n"
     ]
    }
   ],
   "source": [
    "# Exponential AND\n",
    "a = 9\n",
    "a **=2\n",
    "print(a)"
   ]
  },
  {
   "cell_type": "code",
   "execution_count": 21,
   "id": "766f5c59",
   "metadata": {},
   "outputs": [
    {
     "name": "stdout",
     "output_type": "stream",
     "text": [
      "9\n"
     ]
    }
   ],
   "source": [
    "# Floor division AND\n",
    "a = 19\n",
    "a //=2\n",
    "print(a)          # 19 divideby 2 = 9.5 , it gives as whole number 9"
   ]
  },
  {
   "cell_type": "code",
   "execution_count": 23,
   "id": "5b29de43",
   "metadata": {},
   "outputs": [
    {
     "name": "stdout",
     "output_type": "stream",
     "text": [
      "1\n"
     ]
    }
   ],
   "source": [
    "# Bitwise AND\n",
    "a = 5\n",
    "a &= 3\n",
    "print(a)"
   ]
  },
  {
   "cell_type": "code",
   "execution_count": 24,
   "id": "fb873ba0",
   "metadata": {},
   "outputs": [
    {
     "name": "stdout",
     "output_type": "stream",
     "text": [
      "7\n"
     ]
    }
   ],
   "source": [
    "# Bitwise OR\n",
    "a = 5\n",
    "a |= 3\n",
    "print(a)"
   ]
  },
  {
   "cell_type": "code",
   "execution_count": 25,
   "id": "a098300f",
   "metadata": {},
   "outputs": [
    {
     "name": "stdout",
     "output_type": "stream",
     "text": [
      "6\n"
     ]
    }
   ],
   "source": [
    "# Bitwise XOR\n",
    "a = 5\n",
    "a ^= 3\n",
    "print(a)"
   ]
  },
  {
   "cell_type": "code",
   "execution_count": 26,
   "id": "d5d69c1e",
   "metadata": {},
   "outputs": [
    {
     "name": "stdout",
     "output_type": "stream",
     "text": [
      "0\n"
     ]
    }
   ],
   "source": [
    "# Bitwise Right Shift\n",
    "a = 5\n",
    "a >>= 3\n",
    "print(a)"
   ]
  },
  {
   "cell_type": "code",
   "execution_count": 27,
   "id": "c16c3d8a",
   "metadata": {},
   "outputs": [
    {
     "name": "stdout",
     "output_type": "stream",
     "text": [
      "40\n"
     ]
    }
   ],
   "source": [
    "# Bitwise Left Shift\n",
    "a = 5\n",
    "a <<= 3\n",
    "print(a)"
   ]
  },
  {
   "cell_type": "code",
   "execution_count": 29,
   "id": "387193b2",
   "metadata": {},
   "outputs": [
    {
     "name": "stdout",
     "output_type": "stream",
     "text": [
      "True\n",
      "False\n"
     ]
    }
   ],
   "source": [
    "# 3. Comparison Operator\n",
    "# Greater Than\n",
    "a = 5\n",
    "b = 1\n",
    "c = a>b\n",
    "print(c) \n",
    "\n",
    "x = 3\n",
    "y = 9\n",
    "z = x>y\n",
    "print(z)"
   ]
  },
  {
   "cell_type": "code",
   "execution_count": 30,
   "id": "51b8a680",
   "metadata": {},
   "outputs": [
    {
     "name": "stdout",
     "output_type": "stream",
     "text": [
      "False\n",
      "True\n"
     ]
    }
   ],
   "source": [
    "# Lesser Than\n",
    "a = 5\n",
    "b = 1\n",
    "c = a<b\n",
    "print(c) \n",
    "\n",
    "x = 3\n",
    "y = 9\n",
    "z = x<y\n",
    "print(z)"
   ]
  },
  {
   "cell_type": "code",
   "execution_count": 31,
   "id": "e134a107",
   "metadata": {},
   "outputs": [
    {
     "name": "stdout",
     "output_type": "stream",
     "text": [
      "True\n",
      "False\n"
     ]
    }
   ],
   "source": [
    "# Equal To\n",
    "a = 5\n",
    "b = 5\n",
    "c = a==b\n",
    "print(c) \n",
    "\n",
    "x = 3\n",
    "y = 9\n",
    "z = x==y\n",
    "print(z)"
   ]
  },
  {
   "cell_type": "code",
   "execution_count": 32,
   "id": "7c35b4da",
   "metadata": {},
   "outputs": [
    {
     "name": "stdout",
     "output_type": "stream",
     "text": [
      "False\n",
      "True\n"
     ]
    }
   ],
   "source": [
    "# Not Equal To\n",
    "a = 5\n",
    "b = 5\n",
    "c = a!=b\n",
    "print(c) \n",
    "\n",
    "x = 3\n",
    "y = 9\n",
    "z = x!=y\n",
    "print(z)"
   ]
  },
  {
   "cell_type": "code",
   "execution_count": 33,
   "id": "bcaccd47",
   "metadata": {},
   "outputs": [
    {
     "name": "stdout",
     "output_type": "stream",
     "text": [
      "True\n",
      "False\n",
      "True\n"
     ]
    }
   ],
   "source": [
    "# Greater Than or Equal To\n",
    "a = 5\n",
    "b = 1\n",
    "c = a>=b\n",
    "print(c) \n",
    "\n",
    "x = 3\n",
    "y = 9\n",
    "z = x>=y\n",
    "print(z)\n",
    "\n",
    "p = 2\n",
    "q = 2\n",
    "r = p>=q\n",
    "print(r)"
   ]
  },
  {
   "cell_type": "code",
   "execution_count": 34,
   "id": "1fc5442a",
   "metadata": {},
   "outputs": [
    {
     "name": "stdout",
     "output_type": "stream",
     "text": [
      "False\n",
      "True\n",
      "True\n"
     ]
    }
   ],
   "source": [
    "# Lesser Than or Equal To\n",
    "a = 5\n",
    "b = 1\n",
    "c = a<=b\n",
    "print(c) \n",
    "\n",
    "x = 3\n",
    "y = 9\n",
    "z = x<=y\n",
    "print(z)\n",
    "\n",
    "p = 2\n",
    "q = 2\n",
    "r = p<=q\n",
    "print(r)"
   ]
  },
  {
   "cell_type": "code",
   "execution_count": 36,
   "id": "794018d5",
   "metadata": {},
   "outputs": [
    {
     "name": "stdout",
     "output_type": "stream",
     "text": [
      "false\n",
      "true\n",
      "false\n"
     ]
    }
   ],
   "source": [
    "# 4. Logical Operator\n",
    "# Logical AND\n",
    "a = \"true\"\n",
    "b = \"false\"\n",
    "c = a and b\n",
    "print(c)\n",
    "\n",
    "x = \"true\"\n",
    "y = \"true\"                          # AND - True if both case are True\n",
    "z = x and y\n",
    "print(z)\n",
    "\n",
    "p = \"false\"\n",
    "q = \"false\"\n",
    "r = p and q\n",
    "print(r)"
   ]
  },
  {
   "cell_type": "code",
   "execution_count": 37,
   "id": "91932c6a",
   "metadata": {},
   "outputs": [
    {
     "name": "stdout",
     "output_type": "stream",
     "text": [
      "true\n",
      "true\n",
      "false\n"
     ]
    }
   ],
   "source": [
    "# Logical OR\n",
    "a = \"true\"\n",
    "b = \"false\"\n",
    "c = a or b\n",
    "print(c)\n",
    "\n",
    "x = \"true\"\n",
    "y = \"true\"                          # OR - True if either case is True\n",
    "z = x or y\n",
    "print(z)\n",
    "\n",
    "p = \"false\"\n",
    "q = \"false\"\n",
    "r = p or q\n",
    "print(r)"
   ]
  },
  {
   "cell_type": "code",
   "execution_count": 4,
   "id": "3c72e860",
   "metadata": {},
   "outputs": [
    {
     "name": "stdout",
     "output_type": "stream",
     "text": [
      "False\n",
      "True\n"
     ]
    }
   ],
   "source": [
    "# Logical NOT\n",
    "a = True\n",
    "b = not a\n",
    "print(b)\n",
    "\n",
    "x = False\n",
    "y = not x                          # NOT - True if operand is false *(should not give it in quotes)\n",
    "print(y)"
   ]
  },
  {
   "cell_type": "code",
   "execution_count": 7,
   "id": "55fab162",
   "metadata": {},
   "outputs": [
    {
     "name": "stdout",
     "output_type": "stream",
     "text": [
      "True\n",
      "False\n",
      "True\n",
      "False\n"
     ]
    }
   ],
   "source": [
    "# 5. Identity Operator : is\n",
    "a = 5\n",
    "b = 5\n",
    "print(a is b)\n",
    "\n",
    "c = 2\n",
    "d = 5\n",
    "print(c is d)       # identity operators check if TWO VALUES are located on SAME part of memory\n",
    "\n",
    "x = \"Arivu\"\n",
    "y = \"Arivu\"\n",
    "print(x is y)\n",
    "\n",
    "p = \"Lincy\"\n",
    "q = \"Lavanya\"\n",
    "print(p is q)"
   ]
  },
  {
   "cell_type": "code",
   "execution_count": 8,
   "id": "0745d2af",
   "metadata": {},
   "outputs": [
    {
     "name": "stdout",
     "output_type": "stream",
     "text": [
      "False\n",
      "True\n",
      "False\n",
      "True\n"
     ]
    }
   ],
   "source": [
    "# Identity : is not\n",
    "a = 5\n",
    "b = 5\n",
    "print(a is not b)\n",
    "\n",
    "c = 2\n",
    "d = 5\n",
    "print(c is not d)\n",
    "\n",
    "x = \"Arivu\"\n",
    "y = \"Arivu\"\n",
    "print(x is not y)\n",
    "\n",
    "p = \"Lincy\"\n",
    "q = \"lavanya\"\n",
    "print(p is not q)"
   ]
  },
  {
   "cell_type": "code",
   "execution_count": 10,
   "id": "8641681b",
   "metadata": {},
   "outputs": [
    {
     "name": "stdout",
     "output_type": "stream",
     "text": [
      "False\n",
      "True\n",
      "True\n",
      "False\n"
     ]
    }
   ],
   "source": [
    "# 6. Membership Operator  : in\n",
    "a = 6\n",
    "list = [2,3,5]\n",
    "print(a in list)\n",
    "\n",
    "b = 9\n",
    "list1 = [10,9,8,7]                        # Membership opereator check if the value is AVAILABLE in the list \n",
    "print(b in list1)\n",
    "\n",
    "c = 'Sing'\n",
    "list2 = ['Sing','Poo','Arivu','Sandy']\n",
    "print(c in list2)\n",
    "\n",
    "d = 'Anu'\n",
    "list3 = ['Sing','Poo','Arivu','Sandy']\n",
    "print(d in list3)"
   ]
  },
  {
   "cell_type": "code",
   "execution_count": 11,
   "id": "8ff7b431",
   "metadata": {},
   "outputs": [
    {
     "name": "stdout",
     "output_type": "stream",
     "text": [
      "0\n"
     ]
    }
   ],
   "source": [
    "# 7. Bitwise Operator     -(it operates bit by bit)\n",
    "# Bitwise AND\n",
    "a = 5\n",
    "b = 2\n",
    "c = a & b \n",
    "print(c)"
   ]
  },
  {
   "cell_type": "code",
   "execution_count": 12,
   "id": "ff25e87b",
   "metadata": {},
   "outputs": [
    {
     "name": "stdout",
     "output_type": "stream",
     "text": [
      "7\n"
     ]
    }
   ],
   "source": [
    "# Bitwise OR\n",
    "a = 5\n",
    "b = 2\n",
    "c = a | b\n",
    "print(c)"
   ]
  },
  {
   "cell_type": "code",
   "execution_count": 13,
   "id": "60b72d64",
   "metadata": {},
   "outputs": [
    {
     "name": "stdout",
     "output_type": "stream",
     "text": [
      "7\n"
     ]
    }
   ],
   "source": [
    "# Bitwise XOR\n",
    "a = 5\n",
    "b = 2\n",
    "c = a ^ b\n",
    "print(c)"
   ]
  },
  {
   "cell_type": "code",
   "execution_count": 16,
   "id": "f01f0f6a",
   "metadata": {},
   "outputs": [
    {
     "name": "stdout",
     "output_type": "stream",
     "text": [
      "-14\n"
     ]
    }
   ],
   "source": [
    "# Bitwise NOT\n",
    "a = 13\n",
    "b = ~a\n",
    "print(b)"
   ]
  },
  {
   "cell_type": "code",
   "execution_count": 17,
   "id": "696d5a42",
   "metadata": {},
   "outputs": [
    {
     "name": "stdout",
     "output_type": "stream",
     "text": [
      "60\n"
     ]
    }
   ],
   "source": [
    "# Bitwise Right Shift\n",
    "a = 15\n",
    "b = 2\n",
    "c = a << b\n",
    "print(c)"
   ]
  },
  {
   "cell_type": "code",
   "execution_count": 18,
   "id": "71f95931",
   "metadata": {},
   "outputs": [
    {
     "name": "stdout",
     "output_type": "stream",
     "text": [
      "1\n"
     ]
    }
   ],
   "source": [
    "# Bitwise Left Shift\n",
    "a = 15\n",
    "b = 3\n",
    "c = a >> b\n",
    "print(c)"
   ]
  }
 ],
 "metadata": {
  "kernelspec": {
   "display_name": "Python 3",
   "language": "python",
   "name": "python3"
  },
  "language_info": {
   "codemirror_mode": {
    "name": "ipython",
    "version": 3
   },
   "file_extension": ".py",
   "mimetype": "text/x-python",
   "name": "python",
   "nbconvert_exporter": "python",
   "pygments_lexer": "ipython3",
   "version": "3.8.8"
  }
 },
 "nbformat": 4,
 "nbformat_minor": 5
}
