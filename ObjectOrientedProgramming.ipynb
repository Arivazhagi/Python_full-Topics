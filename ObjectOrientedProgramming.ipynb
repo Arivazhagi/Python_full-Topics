{
 "cells": [
  {
   "cell_type": "code",
   "execution_count": null,
   "id": "11594a3f",
   "metadata": {},
   "outputs": [],
   "source": [
    "# Object Oriented Programming:"
   ]
  },
  {
   "cell_type": "code",
   "execution_count": 1,
   "id": "ddc30cd0",
   "metadata": {},
   "outputs": [],
   "source": [
    "class Animal:\n",
    "    pass                    # it will run but no o/p"
   ]
  },
  {
   "cell_type": "code",
   "execution_count": 3,
   "id": "759067a7",
   "metadata": {},
   "outputs": [
    {
     "name": "stdout",
     "output_type": "stream",
     "text": [
      "I am class\n",
      "<__main__.Fruits object at 0x7f5d5d304790>\n",
      "<__main__.Fruits object at 0x7f5d5d304460>\n"
     ]
    }
   ],
   "source": [
    "class Fruits:\n",
    "    print(\"I am class\")\n",
    "    \n",
    "orange = Fruits() \n",
    "mango = Fruits()\n",
    "print(orange)\n",
    "print(mango)"
   ]
  },
  {
   "cell_type": "code",
   "execution_count": 10,
   "id": "4ada24f7",
   "metadata": {},
   "outputs": [
    {
     "name": "stdout",
     "output_type": "stream",
     "text": [
      "black 4 Animal\n",
      "pet False\n",
      "<__main__.Animal object at 0x7f5d5cac8730>\n",
      "<__main__.Animal object at 0x7f5d5cac8070>\n"
     ]
    }
   ],
   "source": [
    "# Implementation of Attribute\n",
    "\n",
    "class Animal:\n",
    "    name = \"Animal\"\n",
    "    def __init__(self,color,noOflegs,types,canfly):   # self = Denotes the current object, init = initialize\n",
    "        self.color = color                            # (self,color,...) = these are attributes\n",
    "        self.noOflegs = noOflegs\n",
    "        self.types = types\n",
    "        self.canfly = canfly\n",
    "        \n",
    "cat = Animal(\"black\",4,\"pet\",False)\n",
    "dog = Animal(\"white\",4,\"pet\",False)\n",
    "\n",
    "print(cat.color, cat.noOflegs, cat.name)\n",
    "print(cat.types, dog.canfly)\n",
    "print(cat)\n",
    "print(dog)"
   ]
  },
  {
   "cell_type": "code",
   "execution_count": 12,
   "id": "eb465c4e",
   "metadata": {},
   "outputs": [
    {
     "name": "stdout",
     "output_type": "stream",
     "text": [
      "puffy is running\n",
      "puffy cheese 30\n"
     ]
    }
   ],
   "source": [
    "# Methods:\n",
    "\n",
    "class Animal:\n",
    "    name = \"Animal\"\n",
    "    def __init__(self,color,name,canfly):            # (self,color,...) = these are attributes\n",
    "        self.color = color                           # creating object                           \n",
    "        self.name = name\n",
    "        self.canfly = canfly\n",
    "    def run(self) :                                  # method(behavior)\n",
    "        print(self.name,\"is running\")\n",
    "    def eat(self, eatable, qty):                     # (self, eatable,...) = parameters\n",
    "        self.eatable = eatable\n",
    "        self.qty = qty\n",
    "        print(self.name, self.eatable, self.qty)\n",
    "        \n",
    "cat= Animal(\"grey\", \"puffy\", False)                  # intializing object     \n",
    "cat.run()                                            # calling a function\n",
    "cat.eat(\"cheese\", 30)"
   ]
  },
  {
   "cell_type": "code",
   "execution_count": 13,
   "id": "b0e695aa",
   "metadata": {},
   "outputs": [
    {
     "name": "stdout",
     "output_type": "stream",
     "text": [
      "puffy\n",
      "white\n",
      "False\n"
     ]
    }
   ],
   "source": [
    "# Constructor:     (class,constructor,object - is the order of code)\n",
    "\n",
    "# Implementation of Constructor\n",
    "\n",
    "class Animal:\n",
    "    def __init__(self,name,color,canfly):\n",
    "        self.name = name\n",
    "        self.color = color\n",
    "        self.canfly = canfly\n",
    "\n",
    "cat = Animal(\"puffy\",\"white\",False)      \n",
    "print(cat.name)\n",
    "print(cat.color)\n",
    "print(cat.canfly)"
   ]
  },
  {
   "cell_type": "code",
   "execution_count": 18,
   "id": "c8987f4d",
   "metadata": {},
   "outputs": [
    {
     "name": "stdout",
     "output_type": "stream",
     "text": [
      "This is display method\n",
      "Alex 123 CS\n"
     ]
    }
   ],
   "source": [
    "# Inheritance\n",
    "\n",
    "# Implementation of Single level inheritance:\n",
    "\n",
    "class Employee:\n",
    "    def __init__(self,name,code):\n",
    "        self.name = name\n",
    "        self.code = code\n",
    "        \n",
    "    def display(self) :\n",
    "        print(\"This is display method\")\n",
    "        \n",
    "class Faculty(Employee) :\n",
    "    def __init__(self,name,code,dept):\n",
    "        Employee.__init__(self,name,code)         # it inherit the employee object name,code,...\n",
    "        self.dept = dept\n",
    "Alex = Faculty(\"Alex\",\"123\",\"CS\")        \n",
    "Alex.display()\n",
    "print(Alex.name, Alex.code, Alex.dept)"
   ]
  },
  {
   "cell_type": "code",
   "execution_count": 20,
   "id": "887972b3",
   "metadata": {},
   "outputs": [
    {
     "name": "stdout",
     "output_type": "stream",
     "text": [
      "I am Grandfather class\n",
      "I am Father class\n",
      "I am son class\n",
      "Employee\n"
     ]
    }
   ],
   "source": [
    "# Implementation of Multi-Level Inheritance:\n",
    "\n",
    "class Employee:\n",
    "    type = \"Employee\"\n",
    "    def __init__(self):\n",
    "        print(\"I am Grandfather class\")\n",
    "        \n",
    "class Faculty(Employee):                         # we should say its parent in class name bracket\n",
    "    def __init__(self):\n",
    "        super().__init__()                       # super()  is used to call its parent class\n",
    "        print(\"I am Father class\")\n",
    "        \n",
    "class HOD(Faculty):\n",
    "    def __init__(self):\n",
    "        super().__init__()\n",
    "        print(\"I am son class\")\n",
    "        \n",
    "ob = HOD()        \n",
    "print(ob.type)"
   ]
  },
  {
   "cell_type": "code",
   "execution_count": 23,
   "id": "238c5ac4",
   "metadata": {},
   "outputs": [
    {
     "name": "stdout",
     "output_type": "stream",
     "text": [
      "XYZ\n"
     ]
    }
   ],
   "source": [
    "# Multiple Inheritance\n",
    "\n",
    "class Employee:\n",
    "    clg_name = \"ABC\"\n",
    "class SME:\n",
    "    clg_name = \"XYZ\"\n",
    "class Faculty(SME,Employee):\n",
    "    def get_name(self):\n",
    "        return SME.clg_name        # one function contains only one return statement\n",
    "obj = Faculty()\n",
    "print(obj.get_name())"
   ]
  },
  {
   "cell_type": "code",
   "execution_count": 24,
   "id": "105198a6",
   "metadata": {
    "scrolled": true
   },
   "outputs": [
    {
     "ename": "AttributeError",
     "evalue": "'SavingAcc' object has no attribute '__accno'",
     "output_type": "error",
     "traceback": [
      "\u001b[0;31m---------------------------------------------------------------------------\u001b[0m",
      "\u001b[0;31mAttributeError\u001b[0m                            Traceback (most recent call last)",
      "\u001b[0;32m<ipython-input-24-00a9c883610c>\u001b[0m in \u001b[0;36m<module>\u001b[0;34m\u001b[0m\n\u001b[1;32m      5\u001b[0m \u001b[0;34m\u001b[0m\u001b[0m\n\u001b[1;32m      6\u001b[0m \u001b[0mob\u001b[0m \u001b[0;34m=\u001b[0m \u001b[0mSavingAcc\u001b[0m\u001b[0;34m(\u001b[0m\u001b[0;34m)\u001b[0m\u001b[0;34m\u001b[0m\u001b[0;34m\u001b[0m\u001b[0m\n\u001b[0;32m----> 7\u001b[0;31m \u001b[0mprint\u001b[0m\u001b[0;34m(\u001b[0m\u001b[0mob\u001b[0m\u001b[0;34m.\u001b[0m\u001b[0m__accno\u001b[0m\u001b[0;34m)\u001b[0m\u001b[0;34m\u001b[0m\u001b[0;34m\u001b[0m\u001b[0m\n\u001b[0m",
      "\u001b[0;31mAttributeError\u001b[0m: 'SavingAcc' object has no attribute '__accno'"
     ]
    }
   ],
   "source": [
    "# Encapsulation\n",
    "\n",
    "class SavingAcc :\n",
    "    __accno = 12345           # __ it makes the variable private\n",
    "    \n",
    "ob = SavingAcc()\n",
    "print(ob.__accno)             # this will give error because we need its class name with underscore_"
   ]
  },
  {
   "cell_type": "code",
   "execution_count": 25,
   "id": "d431ab95",
   "metadata": {},
   "outputs": [
    {
     "name": "stdout",
     "output_type": "stream",
     "text": [
      "12345\n"
     ]
    }
   ],
   "source": [
    "class SavingAcc :\n",
    "    __accno = 12345           # __ it makes the variable private\n",
    "    \n",
    "ob = SavingAcc()\n",
    "print(ob._SavingAcc__accno) "
   ]
  },
  {
   "cell_type": "code",
   "execution_count": 27,
   "id": "0c3a93b1",
   "metadata": {},
   "outputs": [
    {
     "name": "stdout",
     "output_type": "stream",
     "text": [
      "This is B\n",
      "This is A\n"
     ]
    }
   ],
   "source": [
    "# Polymorphism\n",
    "\n",
    "class A:\n",
    "    def display(self):\n",
    "        print(\"This is A\")\n",
    "        \n",
    "class B(A):\n",
    "    def display(self):               # If this display is not given then A display will run that is inherited     \n",
    "        print(\"This is B\")\n",
    "        \n",
    "obj = B()\n",
    "obj.display()\n",
    "\n",
    "# Both class have same method so it override"
   ]
  },
  {
   "cell_type": "code",
   "execution_count": 1,
   "id": "bcbf6243",
   "metadata": {
    "scrolled": true
   },
   "outputs": [
    {
     "name": "stdout",
     "output_type": "stream",
     "text": [
      "This is Pulsar\n",
      "This is Honda\n"
     ]
    }
   ],
   "source": [
    "# Abstraction;\n",
    "\n",
    "from abc import ABC, abstractmethod     # abc means abstract class\n",
    "\n",
    "class Bike:\n",
    "    @abstractmethod\n",
    "    def run(self):\n",
    "        pass\n",
    "    \n",
    "class Pulsar(ABC):\n",
    "    def run(self):\n",
    "        print(\"This is Pulsar\")\n",
    "        \n",
    "class Honda(Bike):\n",
    "    def run(self):\n",
    "        print(\"This is Honda\")    \n",
    "    \n",
    "obj1 = Pulsar()\n",
    "obj1.run()\n",
    "\n",
    "obj2 = Honda() \n",
    "obj2.run()    "
   ]
  }
 ],
 "metadata": {
  "kernelspec": {
   "display_name": "Python 3",
   "language": "python",
   "name": "python3"
  },
  "language_info": {
   "codemirror_mode": {
    "name": "ipython",
    "version": 3
   },
   "file_extension": ".py",
   "mimetype": "text/x-python",
   "name": "python",
   "nbconvert_exporter": "python",
   "pygments_lexer": "ipython3",
   "version": "3.8.8"
  }
 },
 "nbformat": 4,
 "nbformat_minor": 5
}
