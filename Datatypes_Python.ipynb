{
 "cells": [
  {
   "cell_type": "markdown",
   "id": "d5f9c6f1",
   "metadata": {},
   "source": [
    "# DataTypes :"
   ]
  },
  {
   "cell_type": "code",
   "execution_count": 3,
   "id": "8a49bf5a",
   "metadata": {},
   "outputs": [
    {
     "name": "stdout",
     "output_type": "stream",
     "text": [
      "My name is Arivazhagi\n"
     ]
    }
   ],
   "source": [
    "# Text type:\n",
    "\n",
    "a = \"My name is Arivazhagi\"\n",
    "print(a)"
   ]
  },
  {
   "cell_type": "code",
   "execution_count": 5,
   "id": "8dff3c07",
   "metadata": {},
   "outputs": [
    {
     "name": "stdout",
     "output_type": "stream",
     "text": [
      "45\n",
      "96.567\n",
      "(3+5j)\n"
     ]
    }
   ],
   "source": [
    "# Numeric Types:\n",
    "\n",
    "# int:\n",
    "a = 45\n",
    "print(a)\n",
    "\n",
    "# float:\n",
    "b = 96.567\n",
    "print(b)\n",
    "\n",
    "# complex:\n",
    "c = 3+5j\n",
    "print(c)"
   ]
  },
  {
   "cell_type": "code",
   "execution_count": 7,
   "id": "8816b429",
   "metadata": {},
   "outputs": [
    {
     "name": "stdout",
     "output_type": "stream",
     "text": [
      "Enter the value:9\n",
      "9\n",
      "<class 'int'>\n",
      "Enter the value:87\n",
      "87.0\n",
      "<class 'float'>\n",
      "Enter the name:Panneer\n",
      "Panneer\n",
      "<class 'str'>\n",
      "Enter the value:87\n",
      "87\n",
      "<class 'str'>\n"
     ]
    }
   ],
   "source": [
    "# input:\n",
    "\n",
    "# int:\n",
    "a = int(input(\"Enter the value:\"))\n",
    "print(a)\n",
    "print(type(a))\n",
    "\n",
    "# float:\n",
    "b = float(input(\"Enter the value:\"))\n",
    "print(b)\n",
    "print(type(b))\n",
    "\n",
    "# string:\n",
    "c = input(\"Enter the name:\")\n",
    "print(c)\n",
    "print(type(c))\n",
    "d = input(\"Enter the value:\")\n",
    "print(d)\n",
    "print(type(d))"
   ]
  },
  {
   "cell_type": "code",
   "execution_count": 8,
   "id": "b5f0c52b",
   "metadata": {},
   "outputs": [
    {
     "name": "stdout",
     "output_type": "stream",
     "text": [
      "['My name is Arivazhagi']\n",
      "My friend name is Lincy\n",
      "range(0, 9)\n"
     ]
    }
   ],
   "source": [
    "# Sequence Types:\n",
    " \n",
    "# 1. list    \n",
    "a = ['My name is Arivazhagi']\n",
    "print(a)\n",
    "\n",
    "# 2. tuple\n",
    "b = ('My friend name is Lincy')\n",
    "print(b)\n",
    "\n",
    "# 3. range\n",
    "c = range(9)\n",
    "print(c)"
   ]
  },
  {
   "cell_type": "code",
   "execution_count": 9,
   "id": "9eb8a2c6",
   "metadata": {},
   "outputs": [
    {
     "name": "stdout",
     "output_type": "stream",
     "text": [
      "{'Name': 'Arivu', 'Roll_no.': '9', 'Course': 'Data Science'}\n"
     ]
    }
   ],
   "source": [
    "# Mapping Type:  dictionary\n",
    "\n",
    "student = {'Name':\"Arivu\",'Roll_no.':'9','Course':\"Data Science\"}\n",
    "print(student)"
   ]
  },
  {
   "cell_type": "code",
   "execution_count": 11,
   "id": "24f7bebd",
   "metadata": {},
   "outputs": [
    {
     "name": "stdout",
     "output_type": "stream",
     "text": [
      "{'Lincy', 'Lavanya', 'Alfi', 'Jeba'}\n",
      "frozenset({'Lincy', 'Lavanya', 'Alfi', 'Jeba'})\n"
     ]
    }
   ],
   "source": [
    "# Set Types:\n",
    "\n",
    "# 1. set\n",
    "friends = {'Lincy','Lavanya','Alfi','Jeba'}\n",
    "print(friends)\n",
    "\n",
    "# 2.frozenset                                               # it is immutable.\n",
    "friends = frozenset({'Lincy','Lavanya','Alfi','Jeba'})\n",
    "print(friends)"
   ]
  },
  {
   "cell_type": "code",
   "execution_count": 12,
   "id": "80be1a35",
   "metadata": {},
   "outputs": [
    {
     "name": "stdout",
     "output_type": "stream",
     "text": [
      "b'\\x00\\x00\\x00\\x00\\x00\\x00\\x00\\x00\\x00\\x00\\x00\\x00\\x00\\x00\\x00\\x00\\x00\\x00\\x00\\x00'\n",
      "bytearray(b'\\x00\\x00\\x00\\x00\\x00\\x00')\n",
      "<memory at 0x7fa62bd16d00>\n",
      "\n",
      "b'\\x00\\x00\\x00\\x00\\x00\\x00\\x00\\x00\\x00\\x00\\x00\\x00\\x00'\n"
     ]
    }
   ],
   "source": [
    "# Binary Types:\n",
    "\n",
    "# 1. bytes\n",
    "a = bytes(20)\n",
    "print(a)\n",
    "\n",
    "# 2. bytearray\n",
    "b = bytearray(6)\n",
    "print(b)\n",
    "\n",
    "# 3. memoryview\n",
    "c = memoryview(bytes(13))\n",
    "print(c)                       # it shows the memory location\n",
    "print()\n",
    "d = bytes(c)              # this again calculte its bytes \n",
    "print(d)"
   ]
  },
  {
   "cell_type": "code",
   "execution_count": 20,
   "id": "22e8f4c9",
   "metadata": {},
   "outputs": [
    {
     "name": "stdout",
     "output_type": "stream",
     "text": [
      "True\n",
      "\n",
      "False\n"
     ]
    }
   ],
   "source": [
    "# Boolean Types;\n",
    "a = bool(8)           # all intergers and character are TRUE, except 0\n",
    "print(a)\n",
    "print()\n",
    "b = bool()            # space is False\n",
    "print(b)"
   ]
  }
 ],
 "metadata": {
  "kernelspec": {
   "display_name": "Python 3",
   "language": "python",
   "name": "python3"
  },
  "language_info": {
   "codemirror_mode": {
    "name": "ipython",
    "version": 3
   },
   "file_extension": ".py",
   "mimetype": "text/x-python",
   "name": "python",
   "nbconvert_exporter": "python",
   "pygments_lexer": "ipython3",
   "version": "3.8.8"
  }
 },
 "nbformat": 4,
 "nbformat_minor": 5
}
