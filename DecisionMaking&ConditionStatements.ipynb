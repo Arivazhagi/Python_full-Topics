{
 "cells": [
  {
   "cell_type": "code",
   "execution_count": null,
   "id": "119595a0",
   "metadata": {},
   "outputs": [],
   "source": [
    "# Condition Statements and Decision Making"
   ]
  },
  {
   "cell_type": "code",
   "execution_count": null,
   "id": "720d0790",
   "metadata": {},
   "outputs": [],
   "source": [
    "# Questions: \n",
    "2. Check the given no. is Prime or not.                         # Will be solved later             \n",
    "3. Print the numbers b/w (1 - 100) that are divisible by 5      # Use for loop for exact answer"
   ]
  },
  {
   "cell_type": "code",
   "execution_count": 2,
   "id": "dc32ea82",
   "metadata": {},
   "outputs": [
    {
     "name": "stdout",
     "output_type": "stream",
     "text": [
      "Enter your age37\n",
      "You are eligible to vote\n"
     ]
    }
   ],
   "source": [
    "# 1. Voting eligible or not?\n",
    "\n",
    "a = int(input(\"Enter your age\"))\n",
    "if a > 18 :\n",
    "    print(\"You are eligible to vote\")\n",
    "else :\n",
    "    print(\"You are not eligible\")"
   ]
  },
  {
   "cell_type": "code",
   "execution_count": 4,
   "id": "365a7689",
   "metadata": {},
   "outputs": [
    {
     "name": "stdout",
     "output_type": "stream",
     "text": [
      "Enter the number56\n",
      "56 is not divisible by 5\n"
     ]
    }
   ],
   "source": [
    "a = int(input(\"Enter the number\"))\n",
    "if a % 5 == 0:\n",
    "    print(\"%d is divisible by 5\"%a)\n",
    "else :\n",
    "    print(\"%d is not divisible by 5\"%a)\n",
    "     "
   ]
  },
  {
   "cell_type": "code",
   "execution_count": null,
   "id": "93e10d89",
   "metadata": {
    "scrolled": true
   },
   "outputs": [],
   "source": [
    "# Interview Question\n",
    "# 1. A company decides to give 5% hike to employee for his/her service more than 5 years. Ask user for salary and\n",
    "#    year of exp and print bonus\n",
    "    \n",
    "salary = int(input(\"Enter your salary \"))\n",
    "bonus = salary * (5/100)\n",
    "YearOfExperience = int(input(\"Enter your year of experience \"))\n",
    "if YearOfExperience >= 5 :\n",
    "    print(\"Your hike is %d\"%bonus)\n",
    "else :\n",
    "    print(\"no hike\")"
   ]
  },
  {
   "cell_type": "code",
   "execution_count": 11,
   "id": "8c66e91f",
   "metadata": {},
   "outputs": [
    {
     "name": "stdout",
     "output_type": "stream",
     "text": [
      "Enter the value1 = 56\n",
      "Enter the value2 = 78\n",
      "The maximum value is 78\n"
     ]
    }
   ],
   "source": [
    "# 2 . Take two int values from the user and check the maximum value among the values\n",
    "\n",
    "value1 = int(input(\"Enter the value1 = \"))\n",
    "value2 = int(input(\"Enter the value2 = \"))\n",
    "if value1 > value2 :\n",
    "    print(\"The maximum value is %d\"%value1)\n",
    "else :\n",
    "    print(\"The maximum value is %d\"%value2)"
   ]
  },
  {
   "cell_type": "code",
   "execution_count": 2,
   "id": "991203e8",
   "metadata": {},
   "outputs": [
    {
     "name": "stdout",
     "output_type": "stream",
     "text": [
      "Enter the quantity 30\n",
      "The total cost is = 2700\n"
     ]
    }
   ],
   "source": [
    "# 3. Shop has given 10% discount if cost of purchased quantity is more than 1000 Rs. Ask user for 1. quantity\n",
    "#    note: Suppose 1 unit cost rs 100 ask user to judge and print total cost.\n",
    "\n",
    "quantity = int(input(\"Enter the quantity \"))\n",
    "cost = quantity * 100\n",
    "if cost > 1000 :\n",
    "    discount = cost * (10/100)\n",
    "    totalCost = cost - discount\n",
    "    print(\"The total cost is = %d\"%totalCost)\n",
    "else :\n",
    "    print(\"The total cost is = %d\"%cost)"
   ]
  },
  {
   "cell_type": "code",
   "execution_count": 3,
   "id": "d606a722",
   "metadata": {},
   "outputs": [
    {
     "name": "stdout",
     "output_type": "stream",
     "text": [
      "Enter your marks65\n",
      "B Grade\n"
     ]
    }
   ],
   "source": [
    "# 4. A school has following rules for grading system:\n",
    "#     i) below 25 mark fail\n",
    "#    ii) 25 to 45 - E grade\n",
    "#   iii) 45 to 50 - D grade\n",
    "#    iv) 50 to 60 - C grade\n",
    "#     v) 60 to 80 - B grade\n",
    "#    vi) Above 80 - A grade  \n",
    "\n",
    "mark = int(input(\"Enter your marks\"))\n",
    "if mark >= 80 :\n",
    "    print(\"A Grade\")\n",
    "elif mark >= 60 and mark < 80 :\n",
    "    print(\"B Grade\")\n",
    "elif mark >= 50 and mark < 60 :\n",
    "    print(\"C Grade\")\n",
    "elif mark >= 45 and mark < 50 :\n",
    "    print(\"D Grade\")\n",
    "elif mark >= 25 and mark < 45 :\n",
    "    print(\"E Grade\")\n",
    "else :\n",
    "    print(\"Fail\")   "
   ]
  },
  {
   "cell_type": "code",
   "execution_count": 4,
   "id": "05ddc02d",
   "metadata": {},
   "outputs": [
    {
     "name": "stdout",
     "output_type": "stream",
     "text": [
      "Enter the age of person1 :28\n",
      "Enter the age of person2 :46\n",
      "Enter the age of person3 :22\n",
      "Person2 is the Oldest\n",
      "Person3 is the Youngest\n"
     ]
    }
   ],
   "source": [
    "# 5. Take input age of 3 people and determine oldest and youngest among them.\n",
    "\n",
    "age1 = int(input(\"Enter the age of person1 :\"))\n",
    "age2 = int(input(\"Enter the age of person2 :\"))\n",
    "age3 = int(input(\"Enter the age of person3 :\"))\n",
    "if age1 > age2 and age1 > age3 :\n",
    "    print(\"Person1 is the Oldest\")\n",
    "    if age2 < age3 :\n",
    "        print(\"Person2 is the Youngest\")\n",
    "    else :\n",
    "        print(\"Person3 is the Youngest\")\n",
    "elif age2 > age1 and age2 > age3 :\n",
    "    print(\"Person2 is the Oldest\")\n",
    "    if age1 < age3 :\n",
    "        print(\"Person1 is the Youngest\")\n",
    "    else :\n",
    "        print(\"Person3 is the Youngest\")\n",
    "elif age3 > age1 and age3 > age2 :\n",
    "    print(\"Person3 is the Oldest\")\n",
    "    if age1 < age2 :\n",
    "        print(\"Person1 is the Youngest\")\n",
    "    else :\n",
    "        print(\"Person2 is the Youngest\")"
   ]
  },
  {
   "cell_type": "code",
   "execution_count": 5,
   "id": "d6fcaf27",
   "metadata": {},
   "outputs": [
    {
     "name": "stdout",
     "output_type": "stream",
     "text": [
      "Enter the total no. of class held : 200\n",
      "Enter the no. of class you attended : 120\n",
      "You are not allowed\n"
     ]
    }
   ],
   "source": [
    "# 6. A student will not be allowed to sit inside the exam hall if his/her attendance percent is less than 75.\n",
    "#    Take the following from the user:\n",
    "#    i) No. of class held totally\n",
    "#   ii) No. of class attended by the student\n",
    "#  Calculate the % of class attended by the student and print whether they are allowed or not?\n",
    "\n",
    "clsheld = int(input(\"Enter the total no. of class held : \"))\n",
    "clsattend = int(input(\"Enter the no. of class you attended : \"))\n",
    "percent = (clsattend/clsheld) * 100\n",
    "if percent >= 75 :\n",
    "    print(\"You are allowed to write the exam\")\n",
    "else :\n",
    "    print(\"You are not allowed\")"
   ]
  },
  {
   "cell_type": "code",
   "execution_count": 6,
   "id": "19bbbdaf",
   "metadata": {
    "scrolled": false
   },
   "outputs": [
    {
     "name": "stdout",
     "output_type": "stream",
     "text": [
      "Enter the length of a rectangle 15\n",
      "Enter the breadth of a rectangle 9\n",
      "No,it is not a Square\n"
     ]
    }
   ],
   "source": [
    "# 7. Take values of length and breadth of rectangle from the user and check it is Square or not \n",
    "\n",
    "length = int(input(\"Enter the length of a rectangle \"))\n",
    "breadth = int(input(\"Enter the breadth of a rectangle \"))\n",
    "if length == breadth :\n",
    "    print(\"It is a Square\")\n",
    "else :\n",
    "    print(\"No,it is not a Square\")"
   ]
  },
  {
   "cell_type": "code",
   "execution_count": 7,
   "id": "1df8d149",
   "metadata": {
    "scrolled": true
   },
   "outputs": [
    {
     "name": "stdout",
     "output_type": "stream",
     "text": [
      "Enter the Year : 2021\n",
      "No, 2021 is not a leap year\n"
     ]
    }
   ],
   "source": [
    "# 8. Write a program to check it is leap year or not\n",
    "\n",
    "year = int(input(\"Enter the Year : \"))\n",
    "if year%4 == 0:\n",
    "    print(\"%d is a leap year\"%year)\n",
    "else :\n",
    "    print(\"No, %d is not a leap year\"%year)"
   ]
  },
  {
   "cell_type": "code",
   "execution_count": 8,
   "id": "9ce4d37e",
   "metadata": {},
   "outputs": [
    {
     "name": "stdout",
     "output_type": "stream",
     "text": [
      "Enter your age : 28\n",
      "Enter your marital status 'Y' or 'N' : Y\n",
      "Enter your gender 'M' or 'F' : M\n",
      "He can work anywhere\n"
     ]
    }
   ],
   "source": [
    "# 9. Ask user to enter their age, marital status and gender And by use of following rules print their service place\n",
    "#    i) if employee is female, she should work in urban area.\n",
    "#   ii) if employee is male and their age is b/w 20-40, he can work anywhere.\n",
    "#  iii) if employee is male and their age is b/w 40-60, he will work only in urban area.\n",
    "#   iv) if input is other than these conditions, then print error.\n",
    "\n",
    "age = int(input(\"Enter your age : \"))\n",
    "status = input(\"Enter your marital status 'Y' or 'N' : \")\n",
    "gender = input(\"Enter your gender 'M' or 'F' : \") \n",
    "if gender == 'F' :\n",
    "    print(\"She should work in Urban area\")\n",
    "elif gender == 'M' and (age >= 20 and age <= 40) :   \n",
    "    print(\"He can work anywhere\")\n",
    "elif gender == 'M' and (age >= 40 and age <= 60) :\n",
    "    print(\"He will work only in Urban area\")\n",
    "else :\n",
    "    print(\"Error\")"
   ]
  }
 ],
 "metadata": {
  "kernelspec": {
   "display_name": "Python 3",
   "language": "python",
   "name": "python3"
  },
  "language_info": {
   "codemirror_mode": {
    "name": "ipython",
    "version": 3
   },
   "file_extension": ".py",
   "mimetype": "text/x-python",
   "name": "python",
   "nbconvert_exporter": "python",
   "pygments_lexer": "ipython3",
   "version": "3.8.8"
  }
 },
 "nbformat": 4,
 "nbformat_minor": 5
}
