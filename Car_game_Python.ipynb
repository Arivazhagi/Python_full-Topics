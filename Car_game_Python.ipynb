{
 "cells": [
  {
   "cell_type": "code",
   "execution_count": 3,
   "id": "1f4a6869",
   "metadata": {},
   "outputs": [
    {
     "name": "stdout",
     "output_type": "stream",
     "text": [
      ">start\n",
      "car started\n",
      ">stop\n",
      "car stopped\n",
      ">help\n",
      "> start >stop >quit\n",
      ">qite\n",
      "don't understand the command\n",
      ">quit\n",
      "car quitted\n"
     ]
    }
   ],
   "source": [
    "# Car Game\n",
    "\n",
    "command = \"\"\n",
    "started = False\n",
    "while True :\n",
    "    command = input(\">\").lower()\n",
    "    if command == \"start\" :\n",
    "        if started :\n",
    "            print(\"Already started\")\n",
    "        else :\n",
    "            started = True\n",
    "        print(\"car started\")\n",
    "    elif command == 'stop' :\n",
    "        if not started :\n",
    "            print(\"Already stopped\")\n",
    "        else :\n",
    "            started = False\n",
    "            print(\"car stopped\")\n",
    "    elif command == 'help' :\n",
    "        print('''> start >stop >quit''')\n",
    "    elif command == 'quit' :\n",
    "        print(\"car quitted\")\n",
    "        break\n",
    "    else :\n",
    "        print(\"don't understand the command\")"
   ]
  }
 ],
 "metadata": {
  "kernelspec": {
   "display_name": "Python 3",
   "language": "python",
   "name": "python3"
  },
  "language_info": {
   "codemirror_mode": {
    "name": "ipython",
    "version": 3
   },
   "file_extension": ".py",
   "mimetype": "text/x-python",
   "name": "python",
   "nbconvert_exporter": "python",
   "pygments_lexer": "ipython3",
   "version": "3.8.8"
  }
 },
 "nbformat": 4,
 "nbformat_minor": 5
}
