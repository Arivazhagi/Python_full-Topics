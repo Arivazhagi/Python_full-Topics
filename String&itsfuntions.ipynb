{
 "cells": [
  {
   "cell_type": "code",
   "execution_count": 1,
   "id": "2e5bde2b",
   "metadata": {},
   "outputs": [
    {
     "name": "stdout",
     "output_type": "stream",
     "text": [
      "A\n",
      "i\n"
     ]
    }
   ],
   "source": [
    "# String \n",
    "\n",
    "a = \"Arivazhagi\"   # stored in form of index\n",
    "print(a[0])\n",
    "print(a[-1])       # last word"
   ]
  },
  {
   "cell_type": "code",
   "execution_count": 3,
   "id": "09c197a8",
   "metadata": {},
   "outputs": [
    {
     "name": "stdout",
     "output_type": "stream",
     "text": [
      "10\n",
      "53\n"
     ]
    }
   ],
   "source": [
    "# length of a string\n",
    "a = \"Arivazhagi\"\n",
    "print(len(a))\n",
    "\n",
    "b = \"I like briyani.Most favourite type is mutton briyani.\"\n",
    "print(len(b))"
   ]
  },
  {
   "cell_type": "code",
   "execution_count": 8,
   "id": "977801da",
   "metadata": {},
   "outputs": [
    {
     "name": "stdout",
     "output_type": "stream",
     "text": [
      "LINCY IS MY BEST FRIEND\n",
      "i played volley ball and batmitton with her\n"
     ]
    }
   ],
   "source": [
    "# Uppercase and Lowercase\n",
    "a = \"Lincy is my best friend\"\n",
    "print(a.upper())\n",
    "\n",
    "b = \"I played Volley Ball and Batmitton with Her\"\n",
    "print(b.lower())"
   ]
  },
  {
   "cell_type": "code",
   "execution_count": 9,
   "id": "2351444e",
   "metadata": {},
   "outputs": [
    {
     "name": "stdout",
     "output_type": "stream",
     "text": [
      "3\n"
     ]
    }
   ],
   "source": [
    "# No. of occurance\n",
    "a = \"Santhosh played cricket.He also played volleyball.He is intersted in video games so he played that too.\"\n",
    "print(a.count('played'))"
   ]
  },
  {
   "cell_type": "code",
   "execution_count": 14,
   "id": "9f796796",
   "metadata": {},
   "outputs": [
    {
     "name": "stdout",
     "output_type": "stream",
     "text": [
      "Panneerdas is the most smartest boy.Panneerdas is Panneerdas so I like Panneerdas\n",
      "Panneerdas is the most smartest boy.Panneerdas is Iy so I like Iy\n"
     ]
    }
   ],
   "source": [
    "# Replace \n",
    "a = \"Iy is the most smartest boy.Iy is Iy so I like Iy\"\n",
    "print(a.replace('Iy','Panneerdas'))\n",
    "\n",
    "b = \"Iy is the most smartest boy.Iy is Iy so I like Iy\"\n",
    "print(b.replace(\"Iy\",\"Panneerdas\",2))"
   ]
  },
  {
   "cell_type": "code",
   "execution_count": 19,
   "id": "fe024d43",
   "metadata": {},
   "outputs": [
    {
     "name": "stdout",
     "output_type": "stream",
     "text": [
      "28\n",
      "66\n"
     ]
    }
   ],
   "source": [
    "# Find \n",
    "a = \"Santhosh played cricket and volleyball.He is intersted in video games so he played that too.\"\n",
    "print(a.find('volleyball')) \n",
    "\n",
    "print(a.find('m'))"
   ]
  },
  {
   "cell_type": "code",
   "execution_count": 25,
   "id": "308f3b09",
   "metadata": {},
   "outputs": [
    {
     "name": "stdout",
     "output_type": "stream",
     "text": [
      "['Jupyter', 'for', 'jupyter', 'notebook']\n",
      "['Conda', 'for', 'anaconda,jupyter']\n",
      "['Conda', 'for', 'anaconda', 'jupyter']\n",
      "['Conda', 'for,anaconda,jupyter']\n"
     ]
    }
   ],
   "source": [
    "# Split\n",
    "a = \"Jupyter for jupyter notebook\"\n",
    "print(a.split())\n",
    "\n",
    "# Maxsplit\n",
    "b = \"Conda,for,anaconda,jupyter\"\n",
    "print(b.split(',',2))\n",
    "print(b.split(',',4))\n",
    "print(b.split(',',1))"
   ]
  },
  {
   "cell_type": "markdown",
   "id": "c7199d69",
   "metadata": {},
   "source": [
    "## String Formatting"
   ]
  },
  {
   "cell_type": "code",
   "execution_count": 1,
   "id": "6ad1e33e",
   "metadata": {},
   "outputs": [],
   "source": [
    "def greeting(name):\n",
    "    return \"Hello {}. Welcome to our community\".format(name)"
   ]
  },
  {
   "cell_type": "code",
   "execution_count": 2,
   "id": "641cda22",
   "metadata": {},
   "outputs": [
    {
     "data": {
      "text/plain": [
       "'Hello Anu. Welcome to our community'"
      ]
     },
     "execution_count": 2,
     "metadata": {},
     "output_type": "execute_result"
    }
   ],
   "source": [
    "greeting('Anu')"
   ]
  },
  {
   "cell_type": "code",
   "execution_count": 3,
   "id": "088c14eb",
   "metadata": {},
   "outputs": [],
   "source": [
    "def details(name,age,hobby):\n",
    "    return \"Hai, This is {}. I'm {} years old. My fav hobby is {}\".format(name, age, hobby)"
   ]
  },
  {
   "cell_type": "code",
   "execution_count": 4,
   "id": "457fbcd8",
   "metadata": {},
   "outputs": [
    {
     "data": {
      "text/plain": [
       "\"Hai, This is Anu. I'm 25 years old. My fav hobby is Reading Books\""
      ]
     },
     "execution_count": 4,
     "metadata": {},
     "output_type": "execute_result"
    }
   ],
   "source": [
    "details('Anu', 25, 'Reading Books')"
   ]
  },
  {
   "cell_type": "code",
   "execution_count": 7,
   "id": "57e558ac",
   "metadata": {},
   "outputs": [],
   "source": [
    "# In order to get formatted without changing its format we can use the below method\n",
    "\n",
    "def details(name,age,frnd):\n",
    "    return \"Hello {name1}! This is {frnd1} ur bestie of age {age1}\".format(name1=name, age1=age, frnd1=frnd)"
   ]
  },
  {
   "cell_type": "code",
   "execution_count": 8,
   "id": "d260decf",
   "metadata": {},
   "outputs": [
    {
     "data": {
      "text/plain": [
       "'Hello Arivu! This is Lincy ur bestie of age 24'"
      ]
     },
     "execution_count": 8,
     "metadata": {},
     "output_type": "execute_result"
    }
   ],
   "source": [
    "details('Arivu',24,'Lincy')"
   ]
  }
 ],
 "metadata": {
  "kernelspec": {
   "display_name": "Python 3",
   "language": "python",
   "name": "python3"
  },
  "language_info": {
   "codemirror_mode": {
    "name": "ipython",
    "version": 3
   },
   "file_extension": ".py",
   "mimetype": "text/x-python",
   "name": "python",
   "nbconvert_exporter": "python",
   "pygments_lexer": "ipython3",
   "version": "3.8.8"
  }
 },
 "nbformat": 4,
 "nbformat_minor": 5
}
