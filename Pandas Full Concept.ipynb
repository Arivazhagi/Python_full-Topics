{
 "cells": [
  {
   "cell_type": "code",
   "execution_count": null,
   "id": "9271147e",
   "metadata": {},
   "outputs": [],
   "source": [
    "# Pandas Complete Concepts"
   ]
  },
  {
   "cell_type": "code",
   "execution_count": 1,
   "id": "1ae48192",
   "metadata": {},
   "outputs": [],
   "source": [
    "#  Data Structure - Series \n",
    "\n",
    "import pandas as pd\n",
    "import numpy as np"
   ]
  },
  {
   "cell_type": "code",
   "execution_count": 2,
   "id": "f435488a",
   "metadata": {},
   "outputs": [
    {
     "name": "stdout",
     "output_type": "stream",
     "text": [
      "Series([], dtype: float64)\n"
     ]
    },
    {
     "name": "stderr",
     "output_type": "stream",
     "text": [
      "<ipython-input-2-f347f6daef5a>:3: DeprecationWarning: The default dtype for empty Series will be 'object' instead of 'float64' in a future version. Specify a dtype explicitly to silence this warning.\n",
      "  a = pd.Series()\n"
     ]
    }
   ],
   "source": [
    "# Creating an empty series:\n",
    "\n",
    "a = pd.Series()\n",
    "print(a)"
   ]
  },
  {
   "cell_type": "code",
   "execution_count": 5,
   "id": "ed805ea3",
   "metadata": {},
   "outputs": [
    {
     "name": "stdout",
     "output_type": "stream",
     "text": [
      "0     1\n",
      "1     2\n",
      "2     3\n",
      "3     4\n",
      "4     5\n",
      "5     6\n",
      "6     7\n",
      "7     8\n",
      "8     9\n",
      "9    10\n",
      "dtype: int64\n",
      "\n",
      "0    a\n",
      "1    b\n",
      "2    c\n",
      "3    d\n",
      "4    e\n",
      "dtype: object\n"
     ]
    }
   ],
   "source": [
    "# Creating a series from ndarray\n",
    "\n",
    "a = np.arange(1,11)\n",
    "b = pd.Series(a)\n",
    "print(b)\n",
    "\n",
    "\n",
    "# using string values\n",
    "print()\n",
    "a1 = np.array(['a','b','c','d','e'])\n",
    "b1 = pd.Series(a1)\n",
    "print(b1)"
   ]
  },
  {
   "cell_type": "code",
   "execution_count": 13,
   "id": "55c82d87",
   "metadata": {},
   "outputs": [
    {
     "name": "stdout",
     "output_type": "stream",
     "text": [
      "101    a\n",
      "102    b\n",
      "103    c\n",
      "104    d\n",
      "105    e\n",
      "dtype: object\n"
     ]
    }
   ],
   "source": [
    "# Indexing the array\n",
    "\n",
    "a = np.array(['a','b','c','d','e'])\n",
    "b = pd.Series(a, index=[101,102,103,104,105])\n",
    "print(b)"
   ]
  },
  {
   "cell_type": "code",
   "execution_count": 14,
   "id": "1a895815",
   "metadata": {},
   "outputs": [
    {
     "name": "stdout",
     "output_type": "stream",
     "text": [
      "101    a\n",
      "102    b\n",
      "103    c\n",
      "104    d\n",
      "105    e\n",
      "dtype: object\n"
     ]
    }
   ],
   "source": [
    "# If index not specified, then the dictionary keys are taken in a sorted order to construct index.\n",
    "\n",
    "val = {'101':'a', '102': 'b','103':'c', '104':'d', '105':'e'}\n",
    "x = pd.Series(val)\n",
    "print(x)"
   ]
  },
  {
   "cell_type": "code",
   "execution_count": 15,
   "id": "c288f0bf",
   "metadata": {},
   "outputs": [
    {
     "name": "stdout",
     "output_type": "stream",
     "text": [
      "104    d\n",
      "101    a\n",
      "105    e\n",
      "103    c\n",
      "102    b\n",
      "dtype: object\n"
     ]
    }
   ],
   "source": [
    "# If index is passed, the values in data corresponding to the labels in the index will be pulled out.\n",
    "\n",
    "val = {'101':'a', '102': 'b','103':'c', '104':'d', '105':'e'}\n",
    "x = pd.Series(val, index = ['104','101','105','103','102'])  # we can sort in any order as we wish\n",
    "print(x)"
   ]
  },
  {
   "cell_type": "code",
   "execution_count": 16,
   "id": "2b06dba6",
   "metadata": {},
   "outputs": [
    {
     "name": "stdout",
     "output_type": "stream",
     "text": [
      "104      d\n",
      "101      a\n",
      "105      e\n",
      "103    NaN\n",
      "102      b\n",
      "dtype: object\n"
     ]
    }
   ],
   "source": [
    "# Above program with missing value\n",
    "\n",
    "val = {'101':'a', '102': 'b', '104':'d', '105':'e'}\n",
    "x = pd.Series(val, index = ['104','101','105','103','102']) \n",
    "print(x)"
   ]
  },
  {
   "cell_type": "code",
   "execution_count": 19,
   "id": "31119256",
   "metadata": {},
   "outputs": [
    {
     "name": "stdout",
     "output_type": "stream",
     "text": [
      "101    11\n",
      "102    11\n",
      "103    11\n",
      "104    11\n",
      "105    11\n",
      "dtype: int64\n"
     ]
    }
   ],
   "source": [
    "# Create a Series from Scalar\n",
    "# If data is a scalar value, an index must be provided. The value will be repeated to match the length of index\n",
    "\n",
    "a = pd.Series(11, index=[101,102,103,104,105])\n",
    "print(a)"
   ]
  },
  {
   "cell_type": "code",
   "execution_count": 23,
   "id": "7b5a94ba",
   "metadata": {},
   "outputs": [
    {
     "name": "stdout",
     "output_type": "stream",
     "text": [
      "cba\n"
     ]
    }
   ],
   "source": [
    "# Accessing Data from Series with Position\n",
    "\n",
    "a = np.array(['aaa','baa','cba','dbb','ecb'])\n",
    "b = pd.Series(a, index=[1,2,3,4,5])\n",
    "print(b[3])"
   ]
  },
  {
   "cell_type": "code",
   "execution_count": 24,
   "id": "e12652e1",
   "metadata": {},
   "outputs": [
    {
     "name": "stdout",
     "output_type": "stream",
     "text": [
      "101    a\n",
      "102    b\n",
      "103    c\n",
      "dtype: object\n"
     ]
    }
   ],
   "source": [
    "# Retrieving First 3 elements using ':' symbol\n",
    "\n",
    "x=np.array(['a','b','c','d','e'])\n",
    "a=pd.Series(x, index=[101,102,103,104,105])\n",
    "print(a[:3])"
   ]
  },
  {
   "cell_type": "code",
   "execution_count": 25,
   "id": "80f0be70",
   "metadata": {},
   "outputs": [
    {
     "name": "stdout",
     "output_type": "stream",
     "text": [
      "103    c\n",
      "104    d\n",
      "105    e\n",
      "dtype: object\n"
     ]
    }
   ],
   "source": [
    "# Retrieving last 3 elements using ':' symbol\n",
    "\n",
    "x=np.array(['a','b','c','d','e'])\n",
    "a=pd.Series(x, index=[101,102,103,104,105])\n",
    "print(a[-3:])"
   ]
  },
  {
   "cell_type": "code",
   "execution_count": 2,
   "id": "c45ca28d",
   "metadata": {},
   "outputs": [
    {
     "name": "stdout",
     "output_type": "stream",
     "text": [
      "b\n"
     ]
    }
   ],
   "source": [
    "# Retrieve Data Using Label (Index)\n",
    "\n",
    "x=np.array(['a','b','c','d','e'])\n",
    "a=pd.Series(x, index=[101,102,103,104,105])\n",
    "print(a[102])"
   ]
  },
  {
   "cell_type": "code",
   "execution_count": 6,
   "id": "c321a28c",
   "metadata": {},
   "outputs": [
    {
     "name": "stdout",
     "output_type": "stream",
     "text": [
      "102    b\n",
      "103    c\n",
      "104    d\n",
      "dtype: object\n",
      "a    101\n",
      "c    103\n",
      "e    105\n",
      "dtype: int64\n"
     ]
    }
   ],
   "source": [
    "# Retrieve Multiple Data Using Label (Index)\n",
    "\n",
    "x=np.array(['a','b','c','d','e'])\n",
    "a=pd.Series(x, index=[101,102,103,104,105])\n",
    "print(a[[102,103,104]])\n",
    "\n",
    "# another example:\n",
    "\n",
    "y = np.array([101,102,103,104,105])\n",
    "a1 = pd.Series(y, index=['a','b','c','d','e'])\n",
    "print(a1[['a','c','e']])"
   ]
  },
  {
   "cell_type": "code",
   "execution_count": 7,
   "id": "9bc7935b",
   "metadata": {},
   "outputs": [
    {
     "name": "stdout",
     "output_type": "stream",
     "text": [
      "Empty DataFrame\n",
      "Columns: []\n",
      "Index: []\n"
     ]
    }
   ],
   "source": [
    "# Data Structure - DataFrame\n",
    "\n",
    "# Creating an Empty DataFrame\n",
    "\n",
    "a = pd.DataFrame()\n",
    "print (a)"
   ]
  },
  {
   "cell_type": "code",
   "execution_count": 8,
   "id": "404256c9",
   "metadata": {},
   "outputs": [
    {
     "name": "stdout",
     "output_type": "stream",
     "text": [
      "[3 4 5 6]\n",
      "\n",
      "   0\n",
      "0  3\n",
      "1  4\n",
      "2  5\n",
      "3  6\n"
     ]
    }
   ],
   "source": [
    "# Create a DataFrame from Lists\n",
    "\n",
    "x=np.arange(3,7)\n",
    "print(x)\n",
    "print()\n",
    "a = pd.DataFrame(x)\n",
    "print (a)"
   ]
  },
  {
   "cell_type": "code",
   "execution_count": 9,
   "id": "0fb349dd",
   "metadata": {},
   "outputs": [
    {
     "name": "stdout",
     "output_type": "stream",
     "text": [
      "    Name  Age\n",
      "0    Tom   32\n",
      "1  Jerry   45\n",
      "2    Bob   44\n"
     ]
    }
   ],
   "source": [
    "# Another Example:\n",
    "\n",
    "x=[['Tom',32],['Jerry', 45], ['Bob',44]]\n",
    "a = pd.DataFrame(x, columns=['Name','Age'])\n",
    "print (a)"
   ]
  },
  {
   "cell_type": "code",
   "execution_count": 10,
   "id": "9f0baa77",
   "metadata": {},
   "outputs": [
    {
     "name": "stdout",
     "output_type": "stream",
     "text": [
      "     Name  Age\n",
      "0     Tom   24\n",
      "1   Jerry   36\n",
      "2     Bob   39\n",
      "3  Rhodes   22\n"
     ]
    }
   ],
   "source": [
    "# Create a DataFrame from Dict of ndarrays / Lists\n",
    "\n",
    "x = {'Name':['Tom', 'Jerry', 'Bob', 'Rhodes'],'Age':[24,36,39,22]}\n",
    "a = pd.DataFrame(x)\n",
    "print (a)"
   ]
  },
  {
   "cell_type": "code",
   "execution_count": 11,
   "id": "c3e4bbe8",
   "metadata": {},
   "outputs": [
    {
     "name": "stdout",
     "output_type": "stream",
     "text": [
      "          Name  Age\n",
      "Rank 1     Tom   24\n",
      "Rank 2   Jerry   36\n",
      "Rank 3     Bob   39\n",
      "Rank 4  Rhodes   22\n"
     ]
    }
   ],
   "source": [
    "# create an indexed DataFrame using arrays.\n",
    "\n",
    "x = {'Name':['Tom', 'Jerry', 'Bob', 'Rhodes'],'Age':[24,36,39,22]}\n",
    "a = pd.DataFrame(x, index=['Rank 1', 'Rank 2', 'Rank 3', 'Rank 4'])\n",
    "print (a)"
   ]
  },
  {
   "cell_type": "code",
   "execution_count": 14,
   "id": "425c3fe3",
   "metadata": {},
   "outputs": [
    {
     "name": "stdout",
     "output_type": "stream",
     "text": [
      "   Name  Age  Average Mark\n",
      "0   Bob   17           NaN\n",
      "1  John   16          88.0\n",
      "\n",
      "       Name  Age  Average Mark\n",
      "Row_1   Bob   17           NaN\n",
      "Row_2  John   16          88.0\n"
     ]
    }
   ],
   "source": [
    "# Create a DataFrame from List of Dicts\n",
    "\n",
    "x = [{'Name': 'Bob', 'Age': 17},{'Name': 'John', 'Age': 16, 'Average Mark': 88}]\n",
    "a = pd.DataFrame(x)\n",
    "print (a)\n",
    "print()\n",
    "\n",
    "# give index name:\n",
    "\n",
    "x = [{'Name': 'Bob', 'Age': 17},{'Name': 'John', 'Age': 16, 'Average Mark': 88}]\n",
    "a = pd.DataFrame(x, index=['Row_1','Row_2'])\n",
    "print (a)"
   ]
  },
  {
   "cell_type": "code",
   "execution_count": 2,
   "id": "8f2cca03",
   "metadata": {},
   "outputs": [
    {
     "name": "stdout",
     "output_type": "stream",
     "text": [
      "   one  two\n",
      "a  1.0    1\n",
      "b  2.0    2\n",
      "c  3.0    3\n",
      "d  4.0    4\n",
      "e  NaN    5\n",
      "f  NaN    6\n"
     ]
    }
   ],
   "source": [
    "# Create a DataFrame from Dict of Series\n",
    "\n",
    "a = {'one':pd.Series([1,2,3,4],index = ['a','b','c','d']),\n",
    "    'two':pd.Series([1,2,3,4,5,6], index = ['a','b','c','d','e','f'])}\n",
    "x = pd.DataFrame(a)\n",
    "print(x)"
   ]
  },
  {
   "cell_type": "code",
   "execution_count": 3,
   "id": "62003bbc",
   "metadata": {},
   "outputs": [
    {
     "name": "stdout",
     "output_type": "stream",
     "text": [
      "a    1.0\n",
      "b    2.0\n",
      "c    3.0\n",
      "d    4.0\n",
      "e    NaN\n",
      "f    NaN\n",
      "Name: one, dtype: float64\n"
     ]
    }
   ],
   "source": [
    "#  Data Structure - Column Selection, Addition and Deletion\n",
    "\n",
    "# Column Selection:(it prints the specified column alone)\n",
    "\n",
    "a = {'one':pd.Series([1,2,3,4],index = ['a','b','c','d']),\n",
    "    'two':pd.Series([1,2,3,4,5,6], index = ['a','b','c','d','e','f'])}\n",
    "x = pd.DataFrame(a)\n",
    "print(x['one'])"
   ]
  },
  {
   "cell_type": "code",
   "execution_count": 8,
   "id": "655e8016",
   "metadata": {},
   "outputs": [
    {
     "name": "stdout",
     "output_type": "stream",
     "text": [
      "   one  two  three\n",
      "a  1.0    1   12.0\n",
      "b  2.0    2   34.0\n",
      "c  3.0    3   56.0\n",
      "d  4.0    4   78.0\n",
      "e  NaN    5   90.0\n",
      "f  NaN    6    NaN\n"
     ]
    }
   ],
   "source": [
    "# Adding a column\n",
    "\n",
    "a = {'one':pd.Series([1, 2, 3, 4],index = ['a', 'b', 'c', 'd']),\n",
    "    'two':pd.Series([1, 2, 3, 4, 5, 6], index = ['a', 'b', 'c', 'd', 'e', 'f'])}\n",
    "x = pd.DataFrame(a)\n",
    "x['three'] = pd.Series([12, 34, 56, 78, 90], index = ['a', 'b', 'c', 'd', 'e'])\n",
    "print(x)"
   ]
  },
  {
   "cell_type": "code",
   "execution_count": 7,
   "id": "50f0259d",
   "metadata": {},
   "outputs": [
    {
     "name": "stdout",
     "output_type": "stream",
     "text": [
      "   one  two  three\n",
      "a  1.0    1    2.0\n",
      "b  2.0    2    4.0\n",
      "c  3.0    3    6.0\n",
      "d  4.0    4    8.0\n",
      "e  NaN    5    NaN\n",
      "f  NaN    6    NaN\n"
     ]
    }
   ],
   "source": [
    "# Creating a new column with existing coulmns\n",
    "\n",
    "a = {'one' : pd.Series([1, 2, 3, 4], index=['a', 'b', 'c', 'd']),\n",
    "      'two' : pd.Series([1, 2, 3, 4, 5, 6], index=['a', 'b', 'c', 'd', 'e', 'f'])}\n",
    "x = pd.DataFrame(a)\n",
    "x['three'] = x['one']+x['two']\n",
    "print(x)"
   ]
  },
  {
   "cell_type": "code",
   "execution_count": 9,
   "id": "e59ae892",
   "metadata": {
    "scrolled": true
   },
   "outputs": [
    {
     "name": "stdout",
     "output_type": "stream",
     "text": [
      "   one  two  three\n",
      "a  1.0    1   12.0\n",
      "b  2.0    2   34.0\n",
      "c  3.0    3   56.0\n",
      "d  4.0    4   78.0\n",
      "e  NaN    5   90.0\n",
      "f  NaN    6    NaN\n",
      "\n",
      " After Deleting \n",
      "\n",
      "   one  three\n",
      "a  1.0   12.0\n",
      "b  2.0   34.0\n",
      "c  3.0   56.0\n",
      "d  4.0   78.0\n",
      "e  NaN   90.0\n",
      "f  NaN    NaN\n"
     ]
    }
   ],
   "source": [
    "# Column Deletion using 'Del' Command\n",
    "\n",
    "a = {'one':pd.Series([1, 2, 3, 4],index = ['a', 'b', 'c', 'd']),\n",
    "    'two':pd.Series([1, 2, 3, 4, 5, 6], index = ['a', 'b', 'c', 'd', 'e', 'f']),\n",
    "    'three':pd.Series([12, 34, 56, 78, 90], index = ['a', 'b', 'c', 'd', 'e'])}\n",
    "x = pd.DataFrame(a)\n",
    "print(x)\n",
    "print(\"\\n After Deleting \\n\")\n",
    "\n",
    "del x['two']\n",
    "print(x)"
   ]
  },
  {
   "cell_type": "code",
   "execution_count": 10,
   "id": "5bc81513",
   "metadata": {},
   "outputs": [
    {
     "name": "stdout",
     "output_type": "stream",
     "text": [
      "   one  two  three\n",
      "a  1.0    1   12.0\n",
      "b  2.0    2   34.0\n",
      "c  3.0    3   56.0\n",
      "d  4.0    4   78.0\n",
      "e  NaN    5   90.0\n",
      "f  NaN    6    NaN\n",
      "\n",
      " After Deleting \n",
      "\n",
      "   one  two\n",
      "a  1.0    1\n",
      "b  2.0    2\n",
      "c  3.0    3\n",
      "d  4.0    4\n",
      "e  NaN    5\n",
      "f  NaN    6\n"
     ]
    }
   ],
   "source": [
    "# Column Deletion using 'pop' Command\n",
    "\n",
    "a = {'one':pd.Series([1, 2, 3, 4],index = ['a', 'b', 'c', 'd']),\n",
    "    'two':pd.Series([1, 2, 3, 4, 5, 6], index = ['a', 'b', 'c', 'd', 'e', 'f']),\n",
    "    'three':pd.Series([12, 34, 56, 78, 90], index = ['a', 'b', 'c', 'd', 'e'])}\n",
    "x = pd.DataFrame(a)\n",
    "print(x)\n",
    "print(\"\\n After Deleting \\n\")\n",
    "\n",
    "x.pop('three')\n",
    "print(x)"
   ]
  },
  {
   "cell_type": "code",
   "execution_count": 11,
   "id": "f5997b3b",
   "metadata": {},
   "outputs": [
    {
     "name": "stdout",
     "output_type": "stream",
     "text": [
      "one    3.0\n",
      "two    3.0\n",
      "Name: c, dtype: float64\n"
     ]
    }
   ],
   "source": [
    "# Data Structure - Row Selection, Addition and Deletion\n",
    "\n",
    "# Row Selection by label\n",
    "\n",
    "a = {'one':pd.Series([1,2,3,4],index = ['a','b','c','d']),\n",
    "    'two':pd.Series([1,2,3,4,5,6], index = ['a','b','c','d','e','f'])}\n",
    "x = pd.DataFrame(a)\n",
    "print(x. loc['c'])"
   ]
  },
  {
   "cell_type": "code",
   "execution_count": 14,
   "id": "ba705f51",
   "metadata": {
    "scrolled": true
   },
   "outputs": [
    {
     "name": "stdout",
     "output_type": "stream",
     "text": [
      "one    4.0\n",
      "two    4.0\n",
      "Name: d, dtype: float64\n"
     ]
    }
   ],
   "source": [
    "# Row Selection by integer location\n",
    "\n",
    "a = {'one':pd.Series([1,2,3,4],index = ['a','b','c','d']),\n",
    "    'two':pd.Series([1,2,3,4,5,6], index = ['a','b','c','d','e','f'])}\n",
    "x = pd.DataFrame(a)\n",
    "print(x .iloc[3])            # we should give the index value"
   ]
  },
  {
   "cell_type": "code",
   "execution_count": 15,
   "id": "f5c1dd6f",
   "metadata": {},
   "outputs": [
    {
     "name": "stdout",
     "output_type": "stream",
     "text": [
      "   one  two\n",
      "a  1.0    1\n",
      "b  2.0    2\n"
     ]
    }
   ],
   "source": [
    "# Slice Row - Selecting Multiple Rows\n",
    "\n",
    "a = {'one' : pd.Series([1, 2, 3], index=['a', 'b', 'c']),\n",
    "      'two' : pd.Series([1, 2, 3, 4], index=['a', 'b', 'c', 'd'])}\n",
    "\n",
    "x = pd.DataFrame(a)\n",
    "print (x.iloc[0:2])        # it takes 0 th index value to .. upto slice from 2nd index value "
   ]
  },
  {
   "cell_type": "code",
   "execution_count": 16,
   "id": "130145e3",
   "metadata": {},
   "outputs": [
    {
     "name": "stdout",
     "output_type": "stream",
     "text": [
      "   a  b\n",
      "0  1  2\n",
      "1  3  4\n",
      "0  5  6\n",
      "1  7  8\n"
     ]
    }
   ],
   "source": [
    "# Adding New Rows - Add new rows to a DataFrame using the append function\n",
    "\n",
    "a1 = pd.DataFrame([[1, 2], [3, 4]], columns = ['a','b'])\n",
    "a2 = pd.DataFrame([[5, 6], [7, 8]], columns = ['a','b'])\n",
    "\n",
    "x = a1.append(a2)\n",
    "print (x)"
   ]
  },
  {
   "cell_type": "code",
   "execution_count": 17,
   "id": "82ba8890",
   "metadata": {},
   "outputs": [
    {
     "name": "stdout",
     "output_type": "stream",
     "text": [
      "     Name  Age\n",
      "1     Tom   24\n",
      "2   Jerry   36\n",
      "3     Bob   39\n",
      "4  Rhodes   22\n",
      "\n",
      " Deleting \n",
      "     Name  Age\n",
      "1     Tom   24\n",
      "3     Bob   39\n",
      "4  Rhodes   22\n"
     ]
    }
   ],
   "source": [
    "# Deleting a row using drop command\n",
    "\n",
    "x = {'Name':['Tom', 'Jerry', 'Bob', 'Rhodes'],'Age':[24,36,39,22]}\n",
    "a = pd.DataFrame(x, index=[1,2,3,4])\n",
    "print (a)\n",
    "\n",
    "print(\"\\n Deleting \")\n",
    "x=a.drop(2)\n",
    "print(x)"
   ]
  }
 ],
 "metadata": {
  "kernelspec": {
   "display_name": "Python 3",
   "language": "python",
   "name": "python3"
  },
  "language_info": {
   "codemirror_mode": {
    "name": "ipython",
    "version": 3
   },
   "file_extension": ".py",
   "mimetype": "text/x-python",
   "name": "python",
   "nbconvert_exporter": "python",
   "pygments_lexer": "ipython3",
   "version": "3.8.8"
  }
 },
 "nbformat": 4,
 "nbformat_minor": 5
}
